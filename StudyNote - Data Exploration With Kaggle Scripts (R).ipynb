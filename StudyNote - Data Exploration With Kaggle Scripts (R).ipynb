{
 "cells": [
  {
   "cell_type": "markdown",
   "metadata": {},
   "source": [
    "# Study Note - Data Exploration With Kaggle Scripts\n",
    "<H4>DataCamp Community Open Courses</H4>\n",
    "Link: https://www.datacamp.com/community/open-courses/data-exploration-with-kaggle-scripts#gs.57aUs7Y\n",
    "\n",
    "**Open Course Description**\n",
    "\n",
    "In this course you will begin learning the art and science of data exploration. You'll also become familiar with some of the most widely used visualization packages in data science. You'll get the chance to explore a number of fun & interesting datasets such as the 2013 American Community Survey, pigeon racing data, data on the length of chopsticks and Marijuana prices in the US. After completing the course, you'll be able to upload your first Kaggle Script.\n",
    "\n",
    "**Bonus Chapter:** Once you have finished your exercises on DataCamp it's time to start building a data science portfolio with your new skills! In this bonus chapter, you'll be given the chance to publish analyses on Kaggle Scripts that you've personalized with information from your own life.\n",
    "(Basic) Visualize a dataset on US Baby Names to learn the popularity of your name or a friend's name in the USA over the past 100+ years.\n",
    "(Intermediate) Create a polished analysis in RMarkdown that walks readers through recent changes at the college you attended or would like to attend. You will explore changes in enrollment, tuition, admissions rate, and degree types.\n",
    "(Advanced) Each of Ben's scripts end with suggestions for creating an even meatier analysis. Which ones can you use to extend your work?\n",
    "To start each exercise, follow the link to a script that has been created by Kaggle CTO Ben Hamner. Review the code or output to find instructions for creating a custom analysis. Then click Fork on the script to create an editable copy and get started.\n",
    "\n",
    "**Chapter 1: Analyzing the 2013 American Community Survey**\n",
    "\n",
    "In this first chapter you will use data from the 2013 American Community Survey to figure out whether it makes sense to pursue a PhD or not. The end result of this chapter will be your own Kaggle script that you can add to your Kaggle account.\n",
    "\n",
    "**Chapter 2: Pigeons, Chopsticks, Spanish Silver and Marijuana**\n",
    "\n",
    "Analyze pigeon racing data, discover the optimal size for your chopsticks, plot Spanish silver production in the 18th century and map the average price of marijuana in the different states of the US."
   ]
  },
  {
   "cell_type": "markdown",
   "metadata": {},
   "source": [
    "---"
   ]
  },
  {
   "cell_type": "markdown",
   "metadata": {},
   "source": [
    "## <center> Chapter 1 Analyzing the 2013 American Community Survey</center>\n",
    "\n",
    "In this first chapter you will use data from the 2013 American Community Survey to figure out whether it makes sense to pursue a PhD or not. The end result of this chapter will be your own Kaggle script that you can add to your Kaggle account."
   ]
  },
  {
   "cell_type": "markdown",
   "metadata": {},
   "source": [
    "### Introducing the Amercian Community Survey\n",
    "\n",
    "In this first chapter you will analyze data of the <a href='https://www.kaggle.com/census/2013-american-community-survey'>2013 American Community Survey (ACS)</a> to find out whether it makes sense to pursue a PhD. The end result will be a <a href='https://www.kaggle.com/martijn/d/census/2013-american-community-survey/data-exploration-with-kaggle'>Kaggle script</a> that you can share with your own Kaggle account.\n",
    "\n",
    "After binding together the ss13pusa.csv and ss13pusb.csv files that you can find <a href='https://www.kaggle.com/census/2013-american-community-survey'>here</a>, we created a subset containing 300.000 observations and 3 variables: SCHL (School Level), PINCP (Income) and ESR (Work Status). This subset is called ac_survey.\n",
    "\n",
    "*Note: A basic understanding of the R syntax is required for this course. In addition, you will need to make use of some basic functions in the <a href='https://www.datacamp.com/courses/dplyr-data-manipulation-r-tutorial'>dplyr</a> and <a href='https://www.datacamp.com/courses/data-visualization-with-ggplot2-1'>ggplot2</a> packages.*\n",
    "\n",
    "- acs_url represents the URL of the .RData file that contains the ac_survey data frame. Use acs_url in combination with load() and url() to import it into R.\n",
    "- Investigate the first 20 observations of ac_survey using head()."
   ]
  },
  {
   "cell_type": "markdown",
   "metadata": {},
   "source": [
    "<div class=\"alert alert-block alert-info\" style=\"margin-top: 20px\">\n",
    "\n",
    "The **American Community Survey** is an ongoing survey from the US Census Bureau. In this survey, approximately 3.5 million households per year are asked detailed questions about who they are and how they live. Many topics are covered, including ancestry, education, work, transportation, internet use, and residency.\n",
    "\n",
    "The responses reveal a fascinating, granular snapshot into the lives of many Americans.\n",
    "\n",
    "<hr> *source: https://www.kaggle.com/census/2013-american-community-survey *\n",
    "\n",
    "</div>"
   ]
  },
  {
   "cell_type": "code",
   "execution_count": 17,
   "metadata": {
    "collapsed": false
   },
   "outputs": [
    {
     "data": {
      "text/html": [
       "<table>\n",
       "<thead><tr><th scope=col>SCHL</th><th scope=col>ESR</th><th scope=col>PINCP</th></tr></thead>\n",
       "<tbody>\n",
       "\t<tr><td> 3    </td><td>NA    </td><td>    NA</td></tr>\n",
       "\t<tr><td>21    </td><td> 1    </td><td> 25000</td></tr>\n",
       "\t<tr><td> 1    </td><td>NA    </td><td>    NA</td></tr>\n",
       "\t<tr><td>21    </td><td> 1    </td><td> 20000</td></tr>\n",
       "\t<tr><td>21    </td><td> 1    </td><td> 50000</td></tr>\n",
       "\t<tr><td>24    </td><td> 6    </td><td>   600</td></tr>\n",
       "\t<tr><td>17    </td><td> 1    </td><td>327000</td></tr>\n",
       "\t<tr><td> 4    </td><td>NA    </td><td>    NA</td></tr>\n",
       "\t<tr><td>18    </td><td> 1    </td><td> 12000</td></tr>\n",
       "\t<tr><td>19    </td><td> 1    </td><td> 65000</td></tr>\n",
       "\t<tr><td>21    </td><td> 1    </td><td> 85000</td></tr>\n",
       "\t<tr><td>16    </td><td> 6    </td><td>  8200</td></tr>\n",
       "\t<tr><td>21    </td><td> 6    </td><td>  3600</td></tr>\n",
       "\t<tr><td>22    </td><td> 6    </td><td> 26200</td></tr>\n",
       "\t<tr><td>19    </td><td> 1    </td><td> 45000</td></tr>\n",
       "\t<tr><td>19    </td><td> 1    </td><td> 32000</td></tr>\n",
       "\t<tr><td>11    </td><td>NA    </td><td>    NA</td></tr>\n",
       "\t<tr><td>18    </td><td> 6    </td><td>     0</td></tr>\n",
       "\t<tr><td>15    </td><td> 6    </td><td>  8400</td></tr>\n",
       "\t<tr><td> 8    </td><td>NA    </td><td>    NA</td></tr>\n",
       "</tbody>\n",
       "</table>\n"
      ],
      "text/latex": [
       "\\begin{tabular}{r|lll}\n",
       " SCHL & ESR & PINCP\\\\\n",
       "\\hline\n",
       "\t  3     & NA     &     NA\\\\\n",
       "\t 21     &  1     &  25000\\\\\n",
       "\t  1     & NA     &     NA\\\\\n",
       "\t 21     &  1     &  20000\\\\\n",
       "\t 21     &  1     &  50000\\\\\n",
       "\t 24     &  6     &    600\\\\\n",
       "\t 17     &  1     & 327000\\\\\n",
       "\t  4     & NA     &     NA\\\\\n",
       "\t 18     &  1     &  12000\\\\\n",
       "\t 19     &  1     &  65000\\\\\n",
       "\t 21     &  1     &  85000\\\\\n",
       "\t 16     &  6     &   8200\\\\\n",
       "\t 21     &  6     &   3600\\\\\n",
       "\t 22     &  6     &  26200\\\\\n",
       "\t 19     &  1     &  45000\\\\\n",
       "\t 19     &  1     &  32000\\\\\n",
       "\t 11     & NA     &     NA\\\\\n",
       "\t 18     &  6     &      0\\\\\n",
       "\t 15     &  6     &   8400\\\\\n",
       "\t  8     & NA     &     NA\\\\\n",
       "\\end{tabular}\n"
      ],
      "text/markdown": [
       "\n",
       "SCHL | ESR | PINCP | \n",
       "|---|---|---|---|---|---|---|---|---|---|---|---|---|---|---|---|---|---|---|---|\n",
       "|  3     | NA     |     NA | \n",
       "| 21     |  1     |  25000 | \n",
       "|  1     | NA     |     NA | \n",
       "| 21     |  1     |  20000 | \n",
       "| 21     |  1     |  50000 | \n",
       "| 24     |  6     |    600 | \n",
       "| 17     |  1     | 327000 | \n",
       "|  4     | NA     |     NA | \n",
       "| 18     |  1     |  12000 | \n",
       "| 19     |  1     |  65000 | \n",
       "| 21     |  1     |  85000 | \n",
       "| 16     |  6     |   8200 | \n",
       "| 21     |  6     |   3600 | \n",
       "| 22     |  6     |  26200 | \n",
       "| 19     |  1     |  45000 | \n",
       "| 19     |  1     |  32000 | \n",
       "| 11     | NA     |     NA | \n",
       "| 18     |  6     |      0 | \n",
       "| 15     |  6     |   8400 | \n",
       "|  8     | NA     |     NA | \n",
       "\n",
       "\n"
      ],
      "text/plain": [
       "   SCHL ESR PINCP \n",
       "1   3   NA      NA\n",
       "2  21    1   25000\n",
       "3   1   NA      NA\n",
       "4  21    1   20000\n",
       "5  21    1   50000\n",
       "6  24    6     600\n",
       "7  17    1  327000\n",
       "8   4   NA      NA\n",
       "9  18    1   12000\n",
       "10 19    1   65000\n",
       "11 21    1   85000\n",
       "12 16    6    8200\n",
       "13 21    6    3600\n",
       "14 22    6   26200\n",
       "15 19    1   45000\n",
       "16 19    1   32000\n",
       "17 11   NA      NA\n",
       "18 18    6       0\n",
       "19 15    6    8400\n",
       "20  8   NA      NA"
      ]
     },
     "metadata": {},
     "output_type": "display_data"
    }
   ],
   "source": [
    "# URL to AC survey data\n",
    "acs_url <- \"http://s3.amazonaws.com/assets.datacamp.com/production/course_835/datasets/ac_survey.RData\"\n",
    "\n",
    "# Import data in .RData file at acs_url\n",
    "load(url(acs_url))\n",
    "\n",
    "# Print head of ac_survey\n",
    "head(ac_survey, n=20)"
   ]
  },
  {
   "cell_type": "markdown",
   "metadata": {},
   "source": [
    "### Preparing your data set for further analysis (Data Cleaning)\n",
    "\n",
    "Your data still looks a bit messy so it's time to clean it up with data manipulation techniques. You will do this using <b style = \"color: skyblue\">dplyr</b>, an easy-to-use R package for performing the most common data manipulation tasks.\n",
    "\n",
    "<b style = \"color: skyblue\">dplyr</b> makes use of the pipe operator: <b style = \"color: orange\">%>%</b>. Pipes take the output from one function and feed it to the first argument of the next function. You can even chain operations. The following two commands do the same thing:\n",
    "\n",
    "<div class=\"alert alert-block alert-info\" style=\"margin-top: 20px\">\n",
    "<center> tail(head(ac_survey, 20), 5) </center>\n",
    "<center> ac_survey <b style = \"color: orange\">%>%</b> head(20) <b style = \"color: orange\">%>%</b> tail(5) </center>\n",
    "</div>\n",
    "\n",
    "This command takes ac_survey, then applies thehead()function with the optional argument 20, then appliestail() with the optional argument 5.\n",
    "\n",
    "ac_survey that you imported in the previous exercise is already available, as is the small data frame degree_codes.\n",
    "\n",
    "- Use a chain of piping operators on ac_survey to build **ac_survey_clean**:\n",
    "  - First, convert ac_survey into a tbl with tbl_df() (already coded for you).\n",
    "  - Next, remove observations that have NA values with na.omit().\n",
    "  - Then, keep observations for which SCHL %in% c(21, 22, 24) with filter().\n",
    "  - Finally, inner_join() with degree_codes to add a more understandable Degree column.\n",
    "- Print out ac_survey_clean and inspect the result of your work."
   ]
  },
  {
   "cell_type": "markdown",
   "metadata": {},
   "source": [
    "<div class=\"alert alert-block alert-info\" style=\"margin-top: 20px\">\n",
    "**dplyr** <br>\n",
    "dplyr is the next iteration of plyr, focussed on tools for working with data frames (hence the d in the name). It has three main goals:\n",
    "\n",
    "Identify the most important data manipulation tools needed for data analysis and make them easy to use from R.\n",
    "\n",
    "Provide blazing fast performance for in-memory data by writing key pieces in C++.\n",
    "\n",
    "Use the same interface to work with data no matter where it's stored, whether in a data frame, a data table or database.\n",
    "<hr>\n",
    "* Source: \n",
    "<li>https://www.rdocumentation.org/packages/dplyr/versions/0.5.0</li>\n",
    "<li>https://cran.rstudio.com/web/packages/dplyr/vignettes/introduction.html </li>*\n",
    "</div>"
   ]
  },
  {
   "cell_type": "code",
   "execution_count": 18,
   "metadata": {
    "collapsed": false
   },
   "outputs": [
    {
     "data": {
      "text/html": [
       "<table>\n",
       "<thead><tr><th scope=col>SCHL</th><th scope=col>ESR</th><th scope=col>PINCP</th></tr></thead>\n",
       "<tbody>\n",
       "\t<tr><td>19   </td><td> 1   </td><td>32000</td></tr>\n",
       "\t<tr><td>11   </td><td>NA   </td><td>   NA</td></tr>\n",
       "\t<tr><td>18   </td><td> 6   </td><td>    0</td></tr>\n",
       "\t<tr><td>15   </td><td> 6   </td><td> 8400</td></tr>\n",
       "\t<tr><td> 8   </td><td>NA   </td><td>   NA</td></tr>\n",
       "</tbody>\n",
       "</table>\n"
      ],
      "text/latex": [
       "\\begin{tabular}{r|lll}\n",
       " SCHL & ESR & PINCP\\\\\n",
       "\\hline\n",
       "\t 19    &  1    & 32000\\\\\n",
       "\t 11    & NA    &    NA\\\\\n",
       "\t 18    &  6    &     0\\\\\n",
       "\t 15    &  6    &  8400\\\\\n",
       "\t  8    & NA    &    NA\\\\\n",
       "\\end{tabular}\n"
      ],
      "text/markdown": [
       "\n",
       "SCHL | ESR | PINCP | \n",
       "|---|---|---|---|---|\n",
       "| 19    |  1    | 32000 | \n",
       "| 11    | NA    |    NA | \n",
       "| 18    |  6    |     0 | \n",
       "| 15    |  6    |  8400 | \n",
       "|  8    | NA    |    NA | \n",
       "\n",
       "\n"
      ],
      "text/plain": [
       "  SCHL ESR PINCP\n",
       "1 19    1  32000\n",
       "2 11   NA     NA\n",
       "3 18    6      0\n",
       "4 15    6   8400\n",
       "5  8   NA     NA"
      ]
     },
     "metadata": {},
     "output_type": "display_data"
    },
    {
     "data": {
      "text/html": [
       "<table>\n",
       "<thead><tr><th scope=col>SCHL</th><th scope=col>ESR</th><th scope=col>PINCP</th></tr></thead>\n",
       "<tbody>\n",
       "\t<tr><td>19   </td><td> 1   </td><td>32000</td></tr>\n",
       "\t<tr><td>11   </td><td>NA   </td><td>   NA</td></tr>\n",
       "\t<tr><td>18   </td><td> 6   </td><td>    0</td></tr>\n",
       "\t<tr><td>15   </td><td> 6   </td><td> 8400</td></tr>\n",
       "\t<tr><td> 8   </td><td>NA   </td><td>   NA</td></tr>\n",
       "</tbody>\n",
       "</table>\n"
      ],
      "text/latex": [
       "\\begin{tabular}{r|lll}\n",
       " SCHL & ESR & PINCP\\\\\n",
       "\\hline\n",
       "\t 19    &  1    & 32000\\\\\n",
       "\t 11    & NA    &    NA\\\\\n",
       "\t 18    &  6    &     0\\\\\n",
       "\t 15    &  6    &  8400\\\\\n",
       "\t  8    & NA    &    NA\\\\\n",
       "\\end{tabular}\n"
      ],
      "text/markdown": [
       "\n",
       "SCHL | ESR | PINCP | \n",
       "|---|---|---|---|---|\n",
       "| 19    |  1    | 32000 | \n",
       "| 11    | NA    |    NA | \n",
       "| 18    |  6    |     0 | \n",
       "| 15    |  6    |  8400 | \n",
       "|  8    | NA    |    NA | \n",
       "\n",
       "\n"
      ],
      "text/plain": [
       "  SCHL ESR PINCP\n",
       "1 19    1  32000\n",
       "2 11   NA     NA\n",
       "3 18    6      0\n",
       "4 15    6   8400\n",
       "5  8   NA     NA"
      ]
     },
     "metadata": {},
     "output_type": "display_data"
    }
   ],
   "source": [
    "# Try the example\n",
    "tail(head(ac_survey, 20), 5)\n",
    "ac_survey %>% head(20) %>% tail(5)"
   ]
  },
  {
   "cell_type": "code",
   "execution_count": 19,
   "metadata": {
    "collapsed": false
   },
   "outputs": [
    {
     "name": "stderr",
     "output_type": "stream",
     "text": [
      "Joining, by = \"SCHL\"\n"
     ]
    },
    {
     "data": {
      "text/html": [
       "<table>\n",
       "<thead><tr><th scope=col>SCHL</th><th scope=col>ESR</th><th scope=col>PINCP</th><th scope=col>Degree</th></tr></thead>\n",
       "<tbody>\n",
       "\t<tr><td>21       </td><td>1        </td><td> 25000   </td><td>Bachelor </td></tr>\n",
       "\t<tr><td>21       </td><td>1        </td><td> 20000   </td><td>Bachelor </td></tr>\n",
       "\t<tr><td>21       </td><td>1        </td><td> 50000   </td><td>Bachelor </td></tr>\n",
       "\t<tr><td>24       </td><td>6        </td><td>   600   </td><td>Doctorate</td></tr>\n",
       "\t<tr><td>21       </td><td>1        </td><td> 85000   </td><td>Bachelor </td></tr>\n",
       "\t<tr><td>21       </td><td>6        </td><td>  3600   </td><td>Bachelor </td></tr>\n",
       "\t<tr><td>22       </td><td>6        </td><td> 26200   </td><td>Masters  </td></tr>\n",
       "\t<tr><td>21       </td><td>1        </td><td> 97000   </td><td>Bachelor </td></tr>\n",
       "\t<tr><td>24       </td><td>1        </td><td> 53000   </td><td>Doctorate</td></tr>\n",
       "\t<tr><td>21       </td><td>1        </td><td> 45000   </td><td>Bachelor </td></tr>\n",
       "\t<tr><td>21       </td><td>1        </td><td> 92000   </td><td>Bachelor </td></tr>\n",
       "\t<tr><td>21       </td><td>6        </td><td>     0   </td><td>Bachelor </td></tr>\n",
       "\t<tr><td>21       </td><td>6        </td><td> 50000   </td><td>Bachelor </td></tr>\n",
       "\t<tr><td>24       </td><td>6        </td><td>115400   </td><td>Doctorate</td></tr>\n",
       "\t<tr><td>21       </td><td>1        </td><td>430000   </td><td>Bachelor </td></tr>\n",
       "\t<tr><td>21       </td><td>1        </td><td> 32000   </td><td>Bachelor </td></tr>\n",
       "\t<tr><td>21       </td><td>1        </td><td> 44050   </td><td>Bachelor </td></tr>\n",
       "\t<tr><td>24       </td><td>6        </td><td> 48500   </td><td>Doctorate</td></tr>\n",
       "\t<tr><td>21       </td><td>2        </td><td> 25500   </td><td>Bachelor </td></tr>\n",
       "\t<tr><td>21       </td><td>1        </td><td> 85000   </td><td>Bachelor </td></tr>\n",
       "\t<tr><td>22       </td><td>1        </td><td> 60000   </td><td>Masters  </td></tr>\n",
       "\t<tr><td>21       </td><td>1        </td><td> 30000   </td><td>Bachelor </td></tr>\n",
       "\t<tr><td>21       </td><td>1        </td><td> 20000   </td><td>Bachelor </td></tr>\n",
       "\t<tr><td>21       </td><td>6        </td><td> 37000   </td><td>Bachelor </td></tr>\n",
       "\t<tr><td>24       </td><td>6        </td><td> 68000   </td><td>Doctorate</td></tr>\n",
       "\t<tr><td>21       </td><td>1        </td><td> 77200   </td><td>Bachelor </td></tr>\n",
       "\t<tr><td>21       </td><td>1        </td><td> 10000   </td><td>Bachelor </td></tr>\n",
       "\t<tr><td>21       </td><td>1        </td><td> 13000   </td><td>Bachelor </td></tr>\n",
       "\t<tr><td>21       </td><td>1        </td><td>   600   </td><td>Bachelor </td></tr>\n",
       "\t<tr><td>21       </td><td>1        </td><td>  6000   </td><td>Bachelor </td></tr>\n",
       "\t<tr><td>⋮</td><td>⋮</td><td>⋮</td><td>⋮</td></tr>\n",
       "\t<tr><td>21       </td><td>1        </td><td> 30000   </td><td>Bachelor </td></tr>\n",
       "\t<tr><td>21       </td><td>1        </td><td> 57000   </td><td>Bachelor </td></tr>\n",
       "\t<tr><td>22       </td><td>6        </td><td> 35410   </td><td>Masters  </td></tr>\n",
       "\t<tr><td>21       </td><td>1        </td><td> 50000   </td><td>Bachelor </td></tr>\n",
       "\t<tr><td>21       </td><td>1        </td><td> 30500   </td><td>Bachelor </td></tr>\n",
       "\t<tr><td>22       </td><td>1        </td><td> 30600   </td><td>Masters  </td></tr>\n",
       "\t<tr><td>21       </td><td>6        </td><td> 11000   </td><td>Bachelor </td></tr>\n",
       "\t<tr><td>21       </td><td>6        </td><td>     0   </td><td>Bachelor </td></tr>\n",
       "\t<tr><td>22       </td><td>6        </td><td> 26520   </td><td>Masters  </td></tr>\n",
       "\t<tr><td>21       </td><td>6        </td><td>     0   </td><td>Bachelor </td></tr>\n",
       "\t<tr><td>21       </td><td>6        </td><td> 33100   </td><td>Bachelor </td></tr>\n",
       "\t<tr><td>21       </td><td>6        </td><td>  3200   </td><td>Bachelor </td></tr>\n",
       "\t<tr><td>24       </td><td>1        </td><td>132500   </td><td>Doctorate</td></tr>\n",
       "\t<tr><td>21       </td><td>1        </td><td> 60000   </td><td>Bachelor </td></tr>\n",
       "\t<tr><td>21       </td><td>1        </td><td> 61000   </td><td>Bachelor </td></tr>\n",
       "\t<tr><td>22       </td><td>6        </td><td>128470   </td><td>Masters  </td></tr>\n",
       "\t<tr><td>22       </td><td>6        </td><td> 22000   </td><td>Masters  </td></tr>\n",
       "\t<tr><td>21       </td><td>1        </td><td> 94000   </td><td>Bachelor </td></tr>\n",
       "\t<tr><td>21       </td><td>6        </td><td> 30000   </td><td>Bachelor </td></tr>\n",
       "\t<tr><td>22       </td><td>1        </td><td> 60000   </td><td>Masters  </td></tr>\n",
       "\t<tr><td>21       </td><td>1        </td><td>169000   </td><td>Bachelor </td></tr>\n",
       "\t<tr><td>21       </td><td>3        </td><td> 10700   </td><td>Bachelor </td></tr>\n",
       "\t<tr><td>21       </td><td>1        </td><td>  5000   </td><td>Bachelor </td></tr>\n",
       "\t<tr><td>22       </td><td>6        </td><td>112000   </td><td>Masters  </td></tr>\n",
       "\t<tr><td>22       </td><td>1        </td><td>106000   </td><td>Masters  </td></tr>\n",
       "\t<tr><td>24       </td><td>6        </td><td> 27500   </td><td>Doctorate</td></tr>\n",
       "\t<tr><td>21       </td><td>1        </td><td> 45000   </td><td>Bachelor </td></tr>\n",
       "\t<tr><td>24       </td><td>1        </td><td>170000   </td><td>Doctorate</td></tr>\n",
       "\t<tr><td>21       </td><td>1        </td><td> 73000   </td><td>Bachelor </td></tr>\n",
       "\t<tr><td>21       </td><td>1        </td><td> 70000   </td><td>Bachelor </td></tr>\n",
       "</tbody>\n",
       "</table>\n"
      ],
      "text/latex": [
       "\\begin{tabular}{r|llll}\n",
       " SCHL & ESR & PINCP & Degree\\\\\n",
       "\\hline\n",
       "\t 21        & 1         &  25000    & Bachelor \\\\\n",
       "\t 21        & 1         &  20000    & Bachelor \\\\\n",
       "\t 21        & 1         &  50000    & Bachelor \\\\\n",
       "\t 24        & 6         &    600    & Doctorate\\\\\n",
       "\t 21        & 1         &  85000    & Bachelor \\\\\n",
       "\t 21        & 6         &   3600    & Bachelor \\\\\n",
       "\t 22        & 6         &  26200    & Masters  \\\\\n",
       "\t 21        & 1         &  97000    & Bachelor \\\\\n",
       "\t 24        & 1         &  53000    & Doctorate\\\\\n",
       "\t 21        & 1         &  45000    & Bachelor \\\\\n",
       "\t 21        & 1         &  92000    & Bachelor \\\\\n",
       "\t 21        & 6         &      0    & Bachelor \\\\\n",
       "\t 21        & 6         &  50000    & Bachelor \\\\\n",
       "\t 24        & 6         & 115400    & Doctorate\\\\\n",
       "\t 21        & 1         & 430000    & Bachelor \\\\\n",
       "\t 21        & 1         &  32000    & Bachelor \\\\\n",
       "\t 21        & 1         &  44050    & Bachelor \\\\\n",
       "\t 24        & 6         &  48500    & Doctorate\\\\\n",
       "\t 21        & 2         &  25500    & Bachelor \\\\\n",
       "\t 21        & 1         &  85000    & Bachelor \\\\\n",
       "\t 22        & 1         &  60000    & Masters  \\\\\n",
       "\t 21        & 1         &  30000    & Bachelor \\\\\n",
       "\t 21        & 1         &  20000    & Bachelor \\\\\n",
       "\t 21        & 6         &  37000    & Bachelor \\\\\n",
       "\t 24        & 6         &  68000    & Doctorate\\\\\n",
       "\t 21        & 1         &  77200    & Bachelor \\\\\n",
       "\t 21        & 1         &  10000    & Bachelor \\\\\n",
       "\t 21        & 1         &  13000    & Bachelor \\\\\n",
       "\t 21        & 1         &    600    & Bachelor \\\\\n",
       "\t 21        & 1         &   6000    & Bachelor \\\\\n",
       "\t ⋮ & ⋮ & ⋮ & ⋮\\\\\n",
       "\t 21        & 1         &  30000    & Bachelor \\\\\n",
       "\t 21        & 1         &  57000    & Bachelor \\\\\n",
       "\t 22        & 6         &  35410    & Masters  \\\\\n",
       "\t 21        & 1         &  50000    & Bachelor \\\\\n",
       "\t 21        & 1         &  30500    & Bachelor \\\\\n",
       "\t 22        & 1         &  30600    & Masters  \\\\\n",
       "\t 21        & 6         &  11000    & Bachelor \\\\\n",
       "\t 21        & 6         &      0    & Bachelor \\\\\n",
       "\t 22        & 6         &  26520    & Masters  \\\\\n",
       "\t 21        & 6         &      0    & Bachelor \\\\\n",
       "\t 21        & 6         &  33100    & Bachelor \\\\\n",
       "\t 21        & 6         &   3200    & Bachelor \\\\\n",
       "\t 24        & 1         & 132500    & Doctorate\\\\\n",
       "\t 21        & 1         &  60000    & Bachelor \\\\\n",
       "\t 21        & 1         &  61000    & Bachelor \\\\\n",
       "\t 22        & 6         & 128470    & Masters  \\\\\n",
       "\t 22        & 6         &  22000    & Masters  \\\\\n",
       "\t 21        & 1         &  94000    & Bachelor \\\\\n",
       "\t 21        & 6         &  30000    & Bachelor \\\\\n",
       "\t 22        & 1         &  60000    & Masters  \\\\\n",
       "\t 21        & 1         & 169000    & Bachelor \\\\\n",
       "\t 21        & 3         &  10700    & Bachelor \\\\\n",
       "\t 21        & 1         &   5000    & Bachelor \\\\\n",
       "\t 22        & 6         & 112000    & Masters  \\\\\n",
       "\t 22        & 1         & 106000    & Masters  \\\\\n",
       "\t 24        & 6         &  27500    & Doctorate\\\\\n",
       "\t 21        & 1         &  45000    & Bachelor \\\\\n",
       "\t 24        & 1         & 170000    & Doctorate\\\\\n",
       "\t 21        & 1         &  73000    & Bachelor \\\\\n",
       "\t 21        & 1         &  70000    & Bachelor \\\\\n",
       "\\end{tabular}\n"
      ],
      "text/markdown": [
       "\n",
       "SCHL | ESR | PINCP | Degree | \n",
       "|---|---|---|---|---|---|---|---|---|---|---|---|---|---|---|---|---|---|---|---|---|---|---|---|---|---|---|---|---|---|---|---|---|---|---|---|---|---|---|---|---|---|---|---|---|---|---|---|---|---|---|---|---|---|---|---|---|---|---|---|---|\n",
       "| 21        | 1         |  25000    | Bachelor  | \n",
       "| 21        | 1         |  20000    | Bachelor  | \n",
       "| 21        | 1         |  50000    | Bachelor  | \n",
       "| 24        | 6         |    600    | Doctorate | \n",
       "| 21        | 1         |  85000    | Bachelor  | \n",
       "| 21        | 6         |   3600    | Bachelor  | \n",
       "| 22        | 6         |  26200    | Masters   | \n",
       "| 21        | 1         |  97000    | Bachelor  | \n",
       "| 24        | 1         |  53000    | Doctorate | \n",
       "| 21        | 1         |  45000    | Bachelor  | \n",
       "| 21        | 1         |  92000    | Bachelor  | \n",
       "| 21        | 6         |      0    | Bachelor  | \n",
       "| 21        | 6         |  50000    | Bachelor  | \n",
       "| 24        | 6         | 115400    | Doctorate | \n",
       "| 21        | 1         | 430000    | Bachelor  | \n",
       "| 21        | 1         |  32000    | Bachelor  | \n",
       "| 21        | 1         |  44050    | Bachelor  | \n",
       "| 24        | 6         |  48500    | Doctorate | \n",
       "| 21        | 2         |  25500    | Bachelor  | \n",
       "| 21        | 1         |  85000    | Bachelor  | \n",
       "| 22        | 1         |  60000    | Masters   | \n",
       "| 21        | 1         |  30000    | Bachelor  | \n",
       "| 21        | 1         |  20000    | Bachelor  | \n",
       "| 21        | 6         |  37000    | Bachelor  | \n",
       "| 24        | 6         |  68000    | Doctorate | \n",
       "| 21        | 1         |  77200    | Bachelor  | \n",
       "| 21        | 1         |  10000    | Bachelor  | \n",
       "| 21        | 1         |  13000    | Bachelor  | \n",
       "| 21        | 1         |    600    | Bachelor  | \n",
       "| 21        | 1         |   6000    | Bachelor  | \n",
       "| ⋮ | ⋮ | ⋮ | ⋮ | \n",
       "| 21        | 1         |  30000    | Bachelor  | \n",
       "| 21        | 1         |  57000    | Bachelor  | \n",
       "| 22        | 6         |  35410    | Masters   | \n",
       "| 21        | 1         |  50000    | Bachelor  | \n",
       "| 21        | 1         |  30500    | Bachelor  | \n",
       "| 22        | 1         |  30600    | Masters   | \n",
       "| 21        | 6         |  11000    | Bachelor  | \n",
       "| 21        | 6         |      0    | Bachelor  | \n",
       "| 22        | 6         |  26520    | Masters   | \n",
       "| 21        | 6         |      0    | Bachelor  | \n",
       "| 21        | 6         |  33100    | Bachelor  | \n",
       "| 21        | 6         |   3200    | Bachelor  | \n",
       "| 24        | 1         | 132500    | Doctorate | \n",
       "| 21        | 1         |  60000    | Bachelor  | \n",
       "| 21        | 1         |  61000    | Bachelor  | \n",
       "| 22        | 6         | 128470    | Masters   | \n",
       "| 22        | 6         |  22000    | Masters   | \n",
       "| 21        | 1         |  94000    | Bachelor  | \n",
       "| 21        | 6         |  30000    | Bachelor  | \n",
       "| 22        | 1         |  60000    | Masters   | \n",
       "| 21        | 1         | 169000    | Bachelor  | \n",
       "| 21        | 3         |  10700    | Bachelor  | \n",
       "| 21        | 1         |   5000    | Bachelor  | \n",
       "| 22        | 6         | 112000    | Masters   | \n",
       "| 22        | 1         | 106000    | Masters   | \n",
       "| 24        | 6         |  27500    | Doctorate | \n",
       "| 21        | 1         |  45000    | Bachelor  | \n",
       "| 24        | 1         | 170000    | Doctorate | \n",
       "| 21        | 1         |  73000    | Bachelor  | \n",
       "| 21        | 1         |  70000    | Bachelor  | \n",
       "\n",
       "\n"
      ],
      "text/plain": [
       "      SCHL ESR PINCP  Degree   \n",
       "1     21   1    25000 Bachelor \n",
       "2     21   1    20000 Bachelor \n",
       "3     21   1    50000 Bachelor \n",
       "4     24   6      600 Doctorate\n",
       "5     21   1    85000 Bachelor \n",
       "6     21   6     3600 Bachelor \n",
       "7     22   6    26200 Masters  \n",
       "8     21   1    97000 Bachelor \n",
       "9     24   1    53000 Doctorate\n",
       "10    21   1    45000 Bachelor \n",
       "11    21   1    92000 Bachelor \n",
       "12    21   6        0 Bachelor \n",
       "13    21   6    50000 Bachelor \n",
       "14    24   6   115400 Doctorate\n",
       "15    21   1   430000 Bachelor \n",
       "16    21   1    32000 Bachelor \n",
       "17    21   1    44050 Bachelor \n",
       "18    24   6    48500 Doctorate\n",
       "19    21   2    25500 Bachelor \n",
       "20    21   1    85000 Bachelor \n",
       "21    22   1    60000 Masters  \n",
       "22    21   1    30000 Bachelor \n",
       "23    21   1    20000 Bachelor \n",
       "24    21   6    37000 Bachelor \n",
       "25    24   6    68000 Doctorate\n",
       "26    21   1    77200 Bachelor \n",
       "27    21   1    10000 Bachelor \n",
       "28    21   1    13000 Bachelor \n",
       "29    21   1      600 Bachelor \n",
       "30    21   1     6000 Bachelor \n",
       "⋮     ⋮    ⋮   ⋮      ⋮        \n",
       "61212 21   1    30000 Bachelor \n",
       "61213 21   1    57000 Bachelor \n",
       "61214 22   6    35410 Masters  \n",
       "61215 21   1    50000 Bachelor \n",
       "61216 21   1    30500 Bachelor \n",
       "61217 22   1    30600 Masters  \n",
       "61218 21   6    11000 Bachelor \n",
       "61219 21   6        0 Bachelor \n",
       "61220 22   6    26520 Masters  \n",
       "61221 21   6        0 Bachelor \n",
       "61222 21   6    33100 Bachelor \n",
       "61223 21   6     3200 Bachelor \n",
       "61224 24   1   132500 Doctorate\n",
       "61225 21   1    60000 Bachelor \n",
       "61226 21   1    61000 Bachelor \n",
       "61227 22   6   128470 Masters  \n",
       "61228 22   6    22000 Masters  \n",
       "61229 21   1    94000 Bachelor \n",
       "61230 21   6    30000 Bachelor \n",
       "61231 22   1    60000 Masters  \n",
       "61232 21   1   169000 Bachelor \n",
       "61233 21   3    10700 Bachelor \n",
       "61234 21   1     5000 Bachelor \n",
       "61235 22   6   112000 Masters  \n",
       "61236 22   1   106000 Masters  \n",
       "61237 24   6    27500 Doctorate\n",
       "61238 21   1    45000 Bachelor \n",
       "61239 24   1   170000 Doctorate\n",
       "61240 21   1    73000 Bachelor \n",
       "61241 21   1    70000 Bachelor "
      ]
     },
     "metadata": {},
     "output_type": "display_data"
    }
   ],
   "source": [
    "# ac_survey and dplyr are available\n",
    "# Load the dplyr library\n",
    "library(dplyr)\n",
    "\n",
    "# data frame that translates SCHL to Degree\n",
    "degree_codes <- data.frame(SCHL = c(21, 22, 24), \n",
    "                           Degree = c(\"Bachelor\", \"Masters\", \"Doctorate\"))\n",
    "\n",
    "# Add code to remove NAs, filter and join\n",
    "ac_survey_clean <- ac_survey %>% \n",
    "  tbl_df() %>% \n",
    "  na.omit() %>% \n",
    "  filter(SCHL %in% c(21, 22, 24)) %>%\n",
    "  inner_join(degree_codes)\n",
    "\n",
    "# Print out ac_survey_clean  \n",
    "ac_survey_clean"
   ]
  },
  {
   "cell_type": "markdown",
   "metadata": {},
   "source": [
    "<div class=\"alert alert-block alert-info\" style=\"margin-top: 20px\">\n",
    "\n",
    "<h3 style=\"color: orange\"> ALERT: Package Not Installed </h3>\n",
    "\n",
    "<hr> **Error message when running the above code**<br>\n",
    "Error in library(dplyr): there is no package called ‘dplyr’\n",
    "Traceback:\n",
    "\n",
    "1. library(dplyr)\n",
    "2. stop(txt, domain = NA)\n",
    "\n",
    "<hr> **Solution**<br>\n",
    "Install the dplyr package by typing the command in RStudio console: install.packages(\"dplyr\").<br>\n",
    "Install the ggplot2 package in the same manner, to avoid similar error in using ggplot2 library. \n",
    "\n",
    "\n",
    "</div>"
   ]
  },
  {
   "cell_type": "markdown",
   "metadata": {},
   "source": [
    "### How many are there ? - Part One\n",
    "\n",
    "Let's have a look at the number of BSc, MSc & PhD holders in the US. To do this you need to calculate the number of observations there are for each Degree in ac_survey_clean.\n",
    "\n",
    "To do create grouped summaries, you can combine group_by() and summarize(), both from the dplyr package.\n",
    "\n",
    "This command groups ac_survey_clean by Degree, and then calculates the average wage by Degree (try it out in the console!):\n",
    "\n",
    "<div class=\"alert alert-block alert-info\" style=\"margin-top: 20px\">\n",
    "ac_survey_clean %>% <br>\n",
    "  group_by(Degree) %>% <br>\n",
    "  summarize(avg_wage = mean(PINCP))\n",
    "  </div>\n",
    "  \n",
    "- Use a combination of group_by() and summarize() to create a summary data frame that contains the number of observations for each Degree. You can use the dplyr-specific aggregate function n() (without arguments) to count the number of observations in a group. Call this summary column count. Assign the resulting data frame to degree_holders.\n",
    "- Print out degree_holders; does the output make sense?"
   ]
  },
  {
   "cell_type": "code",
   "execution_count": 23,
   "metadata": {
    "collapsed": false
   },
   "outputs": [
    {
     "ename": "ERROR",
     "evalue": "Error: package ‘plyr’ is required by ‘acs’ so will not be detached\n",
     "output_type": "error",
     "traceback": [
      "Error: package ‘plyr’ is required by ‘acs’ so will not be detached\nTraceback:\n",
      "1. detach(\"package:plyr\", unload = TRUE)",
      "2. stop(gettextf(\"package %s is required by %s so will not be detached\", \n .     sQuote(pkgname), sQuote(.rmpkg(pkg))), call. = FALSE, domain = NA)"
     ]
    }
   ],
   "source": [
    "# Run this code if re-run to resolve the conflict between dplyr and plyr\n",
    "# Error occured ...\n",
    "detach(\"package:plyr\", unload=TRUE)"
   ]
  },
  {
   "cell_type": "code",
   "execution_count": 24,
   "metadata": {
    "collapsed": false
   },
   "outputs": [
    {
     "data": {
      "text/html": [
       "<table>\n",
       "<thead><tr><th scope=col>Degree</th><th scope=col>avg_wage</th></tr></thead>\n",
       "<tbody>\n",
       "\t<tr><td>Bachelor </td><td> 56774.01</td></tr>\n",
       "\t<tr><td>Doctorate</td><td>101237.23</td></tr>\n",
       "\t<tr><td>Masters  </td><td> 72021.39</td></tr>\n",
       "</tbody>\n",
       "</table>\n"
      ],
      "text/latex": [
       "\\begin{tabular}{r|ll}\n",
       " Degree & avg\\_wage\\\\\n",
       "\\hline\n",
       "\t Bachelor  &  56774.01\\\\\n",
       "\t Doctorate & 101237.23\\\\\n",
       "\t Masters   &  72021.39\\\\\n",
       "\\end{tabular}\n"
      ],
      "text/markdown": [
       "\n",
       "Degree | avg_wage | \n",
       "|---|---|---|\n",
       "| Bachelor  |  56774.01 | \n",
       "| Doctorate | 101237.23 | \n",
       "| Masters   |  72021.39 | \n",
       "\n",
       "\n"
      ],
      "text/plain": [
       "  Degree    avg_wage \n",
       "1 Bachelor   56774.01\n",
       "2 Doctorate 101237.23\n",
       "3 Masters    72021.39"
      ]
     },
     "metadata": {},
     "output_type": "display_data"
    }
   ],
   "source": [
    "# Try the example\n",
    "# Calculate the average wage (PINCP) by degree\n",
    "\n",
    "# group_by() and summarize()\n",
    "degree_avg_wage <- ac_survey_clean %>% \n",
    "group_by(Degree) %>% \n",
    "dplyr::summarise(avg_wage = mean(PINCP))\n",
    "\n",
    "# Print out degree_avg_wage\n",
    "degree_avg_wage"
   ]
  },
  {
   "cell_type": "code",
   "execution_count": 25,
   "metadata": {
    "collapsed": false,
    "scrolled": true
   },
   "outputs": [
    {
     "data": {
      "text/html": [
       "<table>\n",
       "<thead><tr><th scope=col>Degree</th><th scope=col>count</th></tr></thead>\n",
       "<tbody>\n",
       "\t<tr><td>Bachelor </td><td>40561    </td></tr>\n",
       "\t<tr><td>Doctorate</td><td> 3000    </td></tr>\n",
       "\t<tr><td>Masters  </td><td>17680    </td></tr>\n",
       "</tbody>\n",
       "</table>\n"
      ],
      "text/latex": [
       "\\begin{tabular}{r|ll}\n",
       " Degree & count\\\\\n",
       "\\hline\n",
       "\t Bachelor  & 40561    \\\\\n",
       "\t Doctorate &  3000    \\\\\n",
       "\t Masters   & 17680    \\\\\n",
       "\\end{tabular}\n"
      ],
      "text/markdown": [
       "\n",
       "Degree | count | \n",
       "|---|---|---|\n",
       "| Bachelor  | 40561     | \n",
       "| Doctorate |  3000     | \n",
       "| Masters   | 17680     | \n",
       "\n",
       "\n"
      ],
      "text/plain": [
       "  Degree    count\n",
       "1 Bachelor  40561\n",
       "2 Doctorate  3000\n",
       "3 Masters   17680"
      ]
     },
     "metadata": {},
     "output_type": "display_data"
    }
   ],
   "source": [
    "# Calculate the number of observations for each degree\n",
    "\n",
    "# group_by() and summarize()\n",
    "degree_holders <- ac_survey_clean %>% \n",
    "   group_by(Degree) %>%\n",
    "   dplyr::summarize(count = n())\n",
    "  \n",
    "# Print out degree_holders\n",
    "degree_holders  "
   ]
  },
  {
   "cell_type": "markdown",
   "metadata": {},
   "source": [
    "<div class=\"alert alert-block alert-info\" style=\"margin-top: 20px\">\n",
    "<h3 style=\"color: orange\"> ALERT: Conflict between two packages </h3>\n",
    "<hr>\n",
    "** Error **<br><br>\n",
    "I encountered an error and an unexpected output when re-run the R code from the beginning. \n",
    "<li>Unexpected output of running summarise() function, which returns the summarized value of all rows instead of by each group. </li>\n",
    "<li>Error in n(): This function should not be called directly</li>\n",
    "\n",
    "<hr>\n",
    "** Solution ** <br><br>\n",
    "After running the entire code in this notebook, I have dplyr and plyr loaded in the same session. Both dplyr and plyr have the functions summarise/summarize. There is a conflict between plyr and dplyr. To fix this conflict, run this command to unload the plyr package.\n",
    "<center> **detach(\"package:plyr\", unload=TRUE) **</center>\n",
    "However, to avoid confusions with masking functions, it is clear to use the \"package::function\" specification, like example below:\n",
    "<center> **dplyr::summarise() **</center>\n",
    "Then the code can continue to run as expected.\n",
    "\n",
    "<hr>\n",
    "Source: http://stackoverflow.com/questions/22801153/dplyr-error-in-n-function-should-not-be-called-directly\n",
    "</div>"
   ]
  },
  {
   "cell_type": "markdown",
   "metadata": {},
   "source": [
    "### How many are there? - Part Two\n",
    "\n",
    "<i style = \"background-color: yellow\">degree_holders</i> contains the number of BSc, MSc & PhD holders in the US. In this exercise you will visualize this data using a <b style = \"color: skyblue\">ggplot2</b> plot. If you're not yet familiar with the ggplot2 syntax, check our <a href='https://www.datacamp.com/courses/data-visualization-with-ggplot2-1'>interactive tutorial</a>.\n",
    "\n",
    "ggplot2's emphasis is on rapidly and easily visualizing your data for exploration and reporting using the grammar of graphics. A visualization will often help you to get to insights faster, and will make it easier to communicate your results with your peers.\n",
    "\n",
    "Let's make a simple barplot with the number of Bachelors/Masters/Phd's in the US on the y-axis and the different degrees on the x-axis.\n",
    "\n",
    "- Load the ggplot2 package.\n",
    "- ggplot() takes two main arguments: the dataset, degree_holders, and a function aes(): the aesthetics that will map your variables to the various parts of the plot (x-axis, y-axis, color of the bars, etc). Finish the command:\n",
    "    - Inside aes() map Degree onto x, count onto y and Degree onto fill.\n",
    "    - Specify stat = \"identity\" inside geom_bar().\n",
    "    - Make sure you give the axes appropriate titles! Label the x-axis with \"Degree\" and the y-axis with \"No of People\".\n",
    "    - Title the graph \"Comparing Degree Holders in the US\"."
   ]
  },
  {
   "cell_type": "markdown",
   "metadata": {},
   "source": [
    "<div class=\"alert alert-block alert-info\" style=\"margin-top: 20px\">\n",
    "**ggplot2** <br>\n",
    "\n",
    "ggplot2 is a plotting system for R, based on the grammar of graphics, which tries to take the good parts of base and lattice graphics and none of the bad parts. It takes care of many of the fiddly details that make plotting a hassle (like drawing legends) as well as providing a powerful model of graphics that makes it easy to produce complex multi-layered graphics.\n",
    "\n",
    "\n",
    "<hr>\n",
    "* Source: \n",
    "<li>http://ggplot2.org/</li>\n",
    "<li>http://ggplot2.org/resources/2007-past-present-future.pdf</li>*\n",
    "</div>"
   ]
  },
  {
   "cell_type": "code",
   "execution_count": 26,
   "metadata": {
    "collapsed": false
   },
   "outputs": [
    {
     "data": {},
     "metadata": {},
     "output_type": "display_data"
    },
    {
     "data": {
      "image/png": "[encoded data removed]",
      "text/plain": [
       "plot without title"
      ]
     },
     "metadata": {},
     "output_type": "display_data"
    }
   ],
   "source": [
    "# Load the ggplot2 package\n",
    "library(ggplot2)\n",
    "\n",
    "# Visualize the number of Bachelor, Master and PhD holders   \n",
    "ggplot(degree_holders, aes(x = Degree, y = count, fill = Degree)) +\n",
    "  geom_bar(stat = \"identity\") +\n",
    "  xlab(\"Degree\") + \n",
    "  ylab(\"No of People\") + \n",
    "  ggtitle(\"Comparing Degree Holders in the US\")"
   ]
  },
  {
   "cell_type": "markdown",
   "metadata": {},
   "source": [
    "### Do PhD's earn more?\n",
    "\n",
    "In this final exercise, you will find out whether it's a smart career choice (money-wise) to pursue a PhD. To make this analysis feasible, a data frame income is provided. It was created by 5000 times taking a random sample of 1000 observations from The American Community Survey. For each sample min(), max(), median(), and IQR() are calculated. Now you can create 3 boxplots based on median income for each degree level so you can compare the wages for different degrees.\n",
    "\n",
    "Once you've solved this final exercise, you can download your very first Kaggle script in R Markdown format. R Markdown is an authoring format for reproducible documents, presentations, and reports containing R code. Every R markdown file can automatically regenerated whenever underlying R code or data changes.\n",
    "\n",
    "- Finish the ggplot() command so that Degree is mapped onto x and fill and MedianIncome is mapped onto y. You don't have to label the x- and y-axes, but make sure to include a title: \"Comparing Income of Degrees Holders\"."
   ]
  },
  {
   "cell_type": "code",
   "execution_count": 30,
   "metadata": {
    "collapsed": true
   },
   "outputs": [],
   "source": [
    "# This is a pre-executed code in the DataCamp Course\n",
    "# I copy&paste the codes here to support the proper execution of the next section which requires the use of income variable\n",
    "\n",
    "# Take 5000 random samples of 1000 observations & calculate median income\n",
    "over_thousand <- ac_survey_clean %>%\n",
    "  filter(PINCP > 1000) %>% # exclude obserations with income under 1000\n",
    "  group_by(Degree) \n",
    "    \n",
    "freq <- 5000 # 5000 samples\n",
    "income <- NULL\n",
    "for (i in 1:freq) {\n",
    "  # Select 1000 observations\n",
    "  sample <-  sample_n(over_thousand, 1000)\n",
    "  \n",
    "  # Calculate stats by degree\n",
    "  sample_stats <- dplyr::summarise(sample, \n",
    "                            MinIncome = min(PINCP), \n",
    "                            MaxIncome = max(PINCP),\n",
    "                            MedianIncome = median(PINCP),\n",
    "                            IncomeRange = IQR(PINCP))\n",
    "  \n",
    "  income <- rbind(income, sample_stats)\n",
    "}"
   ]
  },
  {
   "cell_type": "code",
   "execution_count": 31,
   "metadata": {
    "collapsed": false
   },
   "outputs": [
    {
     "data": {},
     "metadata": {},
     "output_type": "display_data"
    },
    {
     "data": {
      "image/png": "[encoded data removed]",
      "text/plain": [
       "plot without title"
      ]
     },
     "metadata": {},
     "output_type": "display_data"
    }
   ],
   "source": [
    "# Create the boxplots\n",
    "ggplot(income, aes(x = Degree, y = MedianIncome, fill = Degree)) +  \n",
    "  geom_boxplot() +\n",
    "  ggtitle(\"Comparing Income of Degrees Holders\")"
   ]
  },
  {
   "cell_type": "markdown",
   "metadata": {},
   "source": [
    "<div class=\"alert alert-block alert-info\" style=\"margin-top: 20px\">\n",
    "Well done! Now it's time to upload your Kaggle script. First you need to <a href='https://s3.amazonaws.com/assets.datacamp.com/production/course_835/scripts/my_first_kaggle_script.Rmd'>download your Kaggle Script</a>. Next you want to go to the <a href='https://www.kaggle.com/census/2013-american-community-survey'>American Community Survey</a> Page and click NEW SCRIPT. Use the dropdown menu to change the language to RMarkdown. Paste your R Markdown document, press run and see how your first Kaggle script is coming to life!\n",
    "\n",
    "<hr>\n",
    "<b style=\"color: orange\">ALERT: it's very slow to run the R Markdown script on Kaggle.</b>\n",
    "</div>"
   ]
  },
  {
   "cell_type": "markdown",
   "metadata": {},
   "source": [
    "## <center> Chapter 2 Pigeons, Chopsticks, Spanish Silver and Marijuana </center>\n",
    "\n",
    "Analyze pigeon racing data, discover the optimal size for your chopsticks, plot Spanish silver production in the 18th century and map the average price of marijuana in the different states of the US."
   ]
  },
  {
   "cell_type": "markdown",
   "metadata": {},
   "source": [
    "### Looking at pigeon data\n",
    "\n",
    "In this second chapter you will analyze some truly unique data sets.\n",
    "\n",
    "The <a href='http://www.pigeon.org/'>American Racing Pigeon Union</a> has a great database of race results. A subset of this data is available in a data frame pigeon, that's available in your workspace.\n",
    "\n",
    "A first thing you'll do with this data, is investigating whether flying speed is related to the color of the pigeons' feathers. Next, you'll use ggplot2 to create a plot of the pigeon's speed against their position.\n",
    "\n",
    "- Have a look at the chained set of dplyr functions. The first part retains pigeons with a Color that appears at least 10 times in the dataset. Finish the final group_by() and summarize() calls to calculate the average Speed, grouped per Color. The resulting data frame should have two columns: Color and AvgSpeed. Simply print out this data frame.\n",
    "- Finish the ggplot() command:\n",
    "    - Map Pos onto x and Speed onty y.\n",
    "    - Label the x-axis with \"Rank\" and the y-axis with \"Pigeon Speed\".\n",
    "    - Finish off by adding the title \"The correlation between speed and rank\"."
   ]
  },
  {
   "cell_type": "code",
   "execution_count": null,
   "metadata": {
    "collapsed": false
   },
   "outputs": [],
   "source": [
    "# Load the data\n",
    "load(url(\"http://s3.amazonaws.com/assets.datacamp.com/production/course_835/datasets/pigeon.RData\"))"
   ]
  },
  {
   "cell_type": "code",
   "execution_count": null,
   "metadata": {
    "collapsed": false
   },
   "outputs": [],
   "source": [
    "# pigeon is pre-loaded\n",
    "\n",
    "# Load required packages\n",
    "library(dplyr)\n",
    "library(ggplot2)\n",
    "\n",
    "# Finish the chain of dplyr functions\n",
    "pigeon %>% \n",
    "  group_by(Color) %>% \n",
    "  summarize(count = n()) %>% \n",
    "  filter(count > 10) %>%\n",
    "  inner_join(pigeon) %>%\n",
    "  group_by(Color) %>%\n",
    "  summarise(AvgSpeed = mean(Speed))\n",
    "\n",
    "# Plot Speed against Pos\n",
    "ggplot(pigeon, aes(x = Pos, y = Speed)) +\n",
    "  geom_point() + \n",
    "  xlab(\"Rank\") +\n",
    "  ylab(\"Pigeon Speed\") +\n",
    "  ggtitle(\"The correlation between speed and rank\")"
   ]
  },
  {
   "cell_type": "markdown",
   "metadata": {},
   "source": [
    "### Assessing chopsticks effectiveness\n",
    "\n",
    "In a study named <a href='https://www.ncbi.nlm.nih.gov/pubmed/15676839'>An Investigation for Determining the Optimum Length of Chopsticks </a>researchers set out to determine the optimal length for chopsticks. One of the criteria to measure chopstick performance is food pinching efficiency (the number of peanuts picked up and placed in a cup).\n",
    "\n",
    "The workspace contains the chopstick dataset, with 186 observations (different trials) and 2 variables: pinching_eff, the pinching efficiency, and chopstick_length, the lenght of the chopsticks used in the trial. Can you use your ggplot2 skills to create a visualization and and turn this data into easy accessible information? ggplot2 is already loaded for you, so you can get started right away!\n",
    "\n",
    "- Finish the ggplot() command: - Map pinching_eff onto x and chopstick_length onto fill. - Set the transparency of the density plots to 0.3 with alpha = 0.3. - Label the x-axis with \"Food Pincing Eficiency\" and the y-axis with \"Relative Frequency\"."
   ]
  },
  {
   "cell_type": "code",
   "execution_count": null,
   "metadata": {
    "collapsed": false
   },
   "outputs": [],
   "source": [
    "# Load the data\n",
    "load(url(\"http://s3.amazonaws.com/assets.datacamp.com/production/course_835/datasets/chopstick.RData\"))"
   ]
  },
  {
   "cell_type": "code",
   "execution_count": null,
   "metadata": {
    "collapsed": false
   },
   "outputs": [],
   "source": [
    "# Don't have access to the chopstick dataset\n",
    "# Finish the ggplot() command\n",
    "ggplot(chopstick, aes(x = pinching_eff, fill = chopstick_length)) +\n",
    "  geom_density(alpha = 0.3) + \n",
    "  xlab(\"Food Pincing Efficiency\") + \n",
    "  ylab(\"Relative Frequency\")"
   ]
  },
  {
   "cell_type": "markdown",
   "metadata": {},
   "source": [
    "### The Spanish silver production\n",
    "\n",
    "Luckily for us data wizards, the Spaniards kept very detailed records on how much silver they were producing during the colonial era (1720 - 1800). Let's explore their efficiency over the years using some visualizations.\n",
    "\n",
    "You'll be working with the silver data frame, that's available in your workspace. It contains 81 observations (1 for each year between 1620 and 1800) and two variables: year and silver_minted. You'll create two graphs: the first one shows the amount of minted silver over time. The second one shows the cumulative amount of silver minted year of year.\n",
    "\n",
    "- Finish the first ggplot() command to plot the amount of silver minted each year:\n",
    "    - Map year onto x and silver_minted onto y.\n",
    "    - Inside geom_area(), set alpha = 0.3.\n",
    "- Edit the command that adds a column cum_silver_minted to silver. Use cumsum() on the silver_minted column of silver.\n",
    "- Finish the second ggplot() command to plot the cumulative amount of silver minted over time:\n",
    "    - Map year onto x and cum_silver_minted onty y.\n",
    "    - Inside geom_area(), set the alpha to 0.5."
   ]
  },
  {
   "cell_type": "code",
   "execution_count": null,
   "metadata": {
    "collapsed": false
   },
   "outputs": [],
   "source": [
    "# Load the data\n",
    "load(url(\"http://s3.amazonaws.com/assets.datacamp.com/production/course_835/datasets/silver.RData\"))"
   ]
  },
  {
   "cell_type": "code",
   "execution_count": null,
   "metadata": {
    "collapsed": false
   },
   "outputs": [],
   "source": [
    "# Silver minted over time\n",
    "ggplot(silver, aes(x = year, y = silver_minted)) + \n",
    "  geom_area(alpha = 0.3)\n",
    "\n",
    "# Add cum_silver_minted column to silver\n",
    "silver$cum_silver_minted <- cumsum(silver$silver_minted)\n",
    "\n",
    "# Cumulative silver minted over time\n",
    "ggplot(silver, aes(x = year, y = cum_silver_minted)) + \n",
    "  geom_area(alpha = 0.5)"
   ]
  },
  {
   "cell_type": "markdown",
   "metadata": {},
   "source": [
    "### Price differences in high quality marijuana per state\n",
    "\n",
    "For this final exercise, we're going to investigate data from this repository of historical marijuana prices. A data frame <a href='https://github.com/frankbi/price-of-weed'>weed</a> is availabe in your workspace. It has more than 20.000 obserations and 2 variables: ***state and price***.\n",
    "\n",
    "As a first step, you'll again have to use some dplyr magic to get average weed prices per state. Next, you can use the <a href='https://www.rdocumentation.org/packages/choroplethrMaps/versions/1.0.1'>choroplethrMaps</a> package to map the weed prices per state. More specifically, you'll use <a href='https://www.rdocumentation.org/packages/choroplethr/versions/3.5.3/topics/state_choropleth'>state_choropleth()</a>: it takes a data frame with two columns: region and value. Being able to link information to particular geographic locations can be very insightful and will help you to reveal hidden knowledge.\n",
    "\n",
    "All packages you need are loaded, so you can start coding straight away!\n",
    "\n",
    "- Fill in the group_by() and summarise() commands to create a data frame avg_weed with average weed prices per state. avg_weed should contain two columns: state and avg_price.\n",
    "- Change the column names of avg_weed to c(\"region\", \"value\") so they can be used by the state_choropleth() function.\n",
    "- Now that avg_weed has the correct column names, go ahead and call state_choropleth() on it. Still inside state_choropleth(), specify the title to be \"Average Weed Price Per State\" and legend to be \"Price in $\"."
   ]
  },
  {
   "cell_type": "markdown",
   "metadata": {},
   "source": [
    "<div class=\"alert alert-block alert-info\" style=\"margin-top: 20px\">\n",
    "Install choroplethrMaps package in the RStudio console: install.packages(\"choroplethr\")\n",
    "<hr>\n",
    "Source: https://github.com/trulia/choroplethr"
   ]
  },
  {
   "cell_type": "code",
   "execution_count": 32,
   "metadata": {
    "collapsed": true
   },
   "outputs": [],
   "source": [
    "# Load the data\n",
    "load(url(\"http://s3.amazonaws.com/assets.datacamp.com/production/course_835/datasets/weed.RData\"))"
   ]
  },
  {
   "cell_type": "code",
   "execution_count": 33,
   "metadata": {
    "collapsed": false
   },
   "outputs": [
    {
     "data": {
      "text/html": [
       "<ol class=list-inline>\n",
       "\t<li>'State'</li>\n",
       "\t<li>'HighQ'</li>\n",
       "\t<li>'HighQN'</li>\n",
       "\t<li>'MedQ'</li>\n",
       "\t<li>'MedQN'</li>\n",
       "\t<li>'LowQ'</li>\n",
       "\t<li>'LowQN'</li>\n",
       "\t<li>'date'</li>\n",
       "</ol>\n"
      ],
      "text/latex": [
       "\\begin{enumerate*}\n",
       "\\item 'State'\n",
       "\\item 'HighQ'\n",
       "\\item 'HighQN'\n",
       "\\item 'MedQ'\n",
       "\\item 'MedQN'\n",
       "\\item 'LowQ'\n",
       "\\item 'LowQN'\n",
       "\\item 'date'\n",
       "\\end{enumerate*}\n"
      ],
      "text/markdown": [
       "1. 'State'\n",
       "2. 'HighQ'\n",
       "3. 'HighQN'\n",
       "4. 'MedQ'\n",
       "5. 'MedQN'\n",
       "6. 'LowQ'\n",
       "7. 'LowQN'\n",
       "8. 'date'\n",
       "\n",
       "\n"
      ],
      "text/plain": [
       "[1] \"State\"  \"HighQ\"  \"HighQN\" \"MedQ\"   \"MedQN\"  \"LowQ\"   \"LowQN\"  \"date\"  "
      ]
     },
     "metadata": {},
     "output_type": "display_data"
    },
    {
     "data": {
      "text/html": [
       "<table>\n",
       "<thead><tr><th scope=col>State</th><th scope=col>HighQ</th><th scope=col>HighQN</th><th scope=col>MedQ</th><th scope=col>MedQN</th><th scope=col>LowQ</th><th scope=col>LowQN</th><th scope=col>date</th></tr></thead>\n",
       "<tbody>\n",
       "\t<tr><td>Alabama   </td><td>339.06    </td><td> 1042     </td><td>198.64    </td><td>  933     </td><td>149.49    </td><td>123       </td><td>2014-01-01</td></tr>\n",
       "\t<tr><td>Alaska    </td><td>288.75    </td><td>  252     </td><td>260.60    </td><td>  297     </td><td>388.58    </td><td> 26       </td><td>2014-01-01</td></tr>\n",
       "\t<tr><td>Arizona   </td><td>303.31    </td><td> 1941     </td><td>209.35    </td><td> 1625     </td><td>189.45    </td><td>222       </td><td>2014-01-01</td></tr>\n",
       "\t<tr><td>Arkansas  </td><td>361.85    </td><td>  576     </td><td>185.62    </td><td>  544     </td><td>125.87    </td><td>112       </td><td>2014-01-01</td></tr>\n",
       "\t<tr><td>California</td><td>248.78    </td><td>12096     </td><td>193.56    </td><td>12812     </td><td>192.92    </td><td>778       </td><td>2014-01-01</td></tr>\n",
       "\t<tr><td>Colorado  </td><td>236.31    </td><td> 2161     </td><td>195.29    </td><td> 1728     </td><td>213.50    </td><td>128       </td><td>2014-01-01</td></tr>\n",
       "</tbody>\n",
       "</table>\n"
      ],
      "text/latex": [
       "\\begin{tabular}{r|llllllll}\n",
       " State & HighQ & HighQN & MedQ & MedQN & LowQ & LowQN & date\\\\\n",
       "\\hline\n",
       "\t Alabama    & 339.06     &  1042      & 198.64     &   933      & 149.49     & 123        & 2014-01-01\\\\\n",
       "\t Alaska     & 288.75     &   252      & 260.60     &   297      & 388.58     &  26        & 2014-01-01\\\\\n",
       "\t Arizona    & 303.31     &  1941      & 209.35     &  1625      & 189.45     & 222        & 2014-01-01\\\\\n",
       "\t Arkansas   & 361.85     &   576      & 185.62     &   544      & 125.87     & 112        & 2014-01-01\\\\\n",
       "\t California & 248.78     & 12096      & 193.56     & 12812      & 192.92     & 778        & 2014-01-01\\\\\n",
       "\t Colorado   & 236.31     &  2161      & 195.29     &  1728      & 213.50     & 128        & 2014-01-01\\\\\n",
       "\\end{tabular}\n"
      ],
      "text/markdown": [
       "\n",
       "State | HighQ | HighQN | MedQ | MedQN | LowQ | LowQN | date | \n",
       "|---|---|---|---|---|---|\n",
       "| Alabama    | 339.06     |  1042      | 198.64     |   933      | 149.49     | 123        | 2014-01-01 | \n",
       "| Alaska     | 288.75     |   252      | 260.60     |   297      | 388.58     |  26        | 2014-01-01 | \n",
       "| Arizona    | 303.31     |  1941      | 209.35     |  1625      | 189.45     | 222        | 2014-01-01 | \n",
       "| Arkansas   | 361.85     |   576      | 185.62     |   544      | 125.87     | 112        | 2014-01-01 | \n",
       "| California | 248.78     | 12096      | 193.56     | 12812      | 192.92     | 778        | 2014-01-01 | \n",
       "| Colorado   | 236.31     |  2161      | 195.29     |  1728      | 213.50     | 128        | 2014-01-01 | \n",
       "\n",
       "\n"
      ],
      "text/plain": [
       "  State      HighQ  HighQN MedQ   MedQN LowQ   LowQN date      \n",
       "1 Alabama    339.06  1042  198.64   933 149.49 123   2014-01-01\n",
       "2 Alaska     288.75   252  260.60   297 388.58  26   2014-01-01\n",
       "3 Arizona    303.31  1941  209.35  1625 189.45 222   2014-01-01\n",
       "4 Arkansas   361.85   576  185.62   544 125.87 112   2014-01-01\n",
       "5 California 248.78 12096  193.56 12812 192.92 778   2014-01-01\n",
       "6 Colorado   236.31  2161  195.29  1728 213.50 128   2014-01-01"
      ]
     },
     "metadata": {},
     "output_type": "display_data"
    },
    {
     "data": {
      "text/html": [
       "<ol class=list-inline>\n",
       "\t<li>22899</li>\n",
       "\t<li>8</li>\n",
       "</ol>\n"
      ],
      "text/latex": [
       "\\begin{enumerate*}\n",
       "\\item 22899\n",
       "\\item 8\n",
       "\\end{enumerate*}\n"
      ],
      "text/markdown": [
       "1. 22899\n",
       "2. 8\n",
       "\n",
       "\n"
      ],
      "text/plain": [
       "[1] 22899     8"
      ]
     },
     "metadata": {},
     "output_type": "display_data"
    },
    {
     "data": {
      "text/plain": [
       "        State           HighQ           HighQN           MedQ      \n",
       " Alabama   :  449   Min.   :202.0   Min.   :   93   Min.   :144.8  \n",
       " Alaska    :  449   1st Qu.:303.8   1st Qu.:  597   1st Qu.:215.8  \n",
       " Arizona   :  449   Median :342.3   Median : 1420   Median :245.8  \n",
       " Arkansas  :  449   Mean   :329.8   Mean   : 2275   Mean   :247.6  \n",
       " California:  449   3rd Qu.:356.6   3rd Qu.: 2958   3rd Qu.:274.2  \n",
       " Colorado  :  449   Max.   :415.7   Max.   :18492   Max.   :379.0  \n",
       " (Other)   :20205                                                  \n",
       "     MedQN            LowQ           LowQN                date      \n",
       " Min.   :  134   Min.   : 63.7   Min.   :  11.0   2013-12-27:   51  \n",
       " 1st Qu.:  548   1st Qu.:147.1   1st Qu.:  51.0   2013-12-28:   51  \n",
       " Median : 1320   Median :186.8   Median : 139.0   2013-12-29:   51  \n",
       " Mean   : 2184   Mean   :203.7   Mean   : 202.8   2013-12-30:   51  \n",
       " 3rd Qu.: 2673   3rd Qu.:221.4   3rd Qu.: 263.0   2013-12-31:   51  \n",
       " Max.   :22027   Max.   :734.6   Max.   :1287.0   2014-01-01:   51  \n",
       "                 NA's   :10557                    (Other)   :22593  "
      ]
     },
     "metadata": {},
     "output_type": "display_data"
    }
   ],
   "source": [
    "# View the characteristics of the original dataset\n",
    "names(weed)\n",
    "head(weed)\n",
    "dim(weed)\n",
    "summary(weed)"
   ]
  },
  {
   "cell_type": "code",
   "execution_count": 34,
   "metadata": {
    "collapsed": false
   },
   "outputs": [],
   "source": [
    "# Load the library\n",
    "library(dplyr)\n",
    "library(ggplot2)\n",
    "library(choroplethrMaps)\n",
    "library(choroplethr)"
   ]
  },
  {
   "cell_type": "code",
   "execution_count": 35,
   "metadata": {
    "collapsed": false
   },
   "outputs": [
    {
     "data": {
      "text/html": [
       "<ol class=list-inline>\n",
       "\t<li>22899</li>\n",
       "\t<li>2</li>\n",
       "</ol>\n"
      ],
      "text/latex": [
       "\\begin{enumerate*}\n",
       "\\item 22899\n",
       "\\item 2\n",
       "\\end{enumerate*}\n"
      ],
      "text/markdown": [
       "1. 22899\n",
       "2. 2\n",
       "\n",
       "\n"
      ],
      "text/plain": [
       "[1] 22899     2"
      ]
     },
     "metadata": {},
     "output_type": "display_data"
    },
    {
     "data": {
      "text/plain": [
       "        state           price      \n",
       " Alabama   :  449   Min.   :202.0  \n",
       " Alaska    :  449   1st Qu.:303.8  \n",
       " Arizona   :  449   Median :342.3  \n",
       " Arkansas  :  449   Mean   :329.8  \n",
       " California:  449   3rd Qu.:356.6  \n",
       " Colorado  :  449   Max.   :415.7  \n",
       " (Other)   :20205                  "
      ]
     },
     "metadata": {},
     "output_type": "display_data"
    },
    {
     "data": {
      "text/html": [
       "<table>\n",
       "<thead><tr><th scope=col>state</th><th scope=col>price</th></tr></thead>\n",
       "<tbody>\n",
       "\t<tr><td>Alabama   </td><td>339.06    </td></tr>\n",
       "\t<tr><td>Alaska    </td><td>288.75    </td></tr>\n",
       "\t<tr><td>Arizona   </td><td>303.31    </td></tr>\n",
       "\t<tr><td>Arkansas  </td><td>361.85    </td></tr>\n",
       "\t<tr><td>California</td><td>248.78    </td></tr>\n",
       "\t<tr><td>Colorado  </td><td>236.31    </td></tr>\n",
       "</tbody>\n",
       "</table>\n"
      ],
      "text/latex": [
       "\\begin{tabular}{r|ll}\n",
       " state & price\\\\\n",
       "\\hline\n",
       "\t Alabama    & 339.06    \\\\\n",
       "\t Alaska     & 288.75    \\\\\n",
       "\t Arizona    & 303.31    \\\\\n",
       "\t Arkansas   & 361.85    \\\\\n",
       "\t California & 248.78    \\\\\n",
       "\t Colorado   & 236.31    \\\\\n",
       "\\end{tabular}\n"
      ],
      "text/markdown": [
       "\n",
       "state | price | \n",
       "|---|---|---|---|---|---|\n",
       "| Alabama    | 339.06     | \n",
       "| Alaska     | 288.75     | \n",
       "| Arizona    | 303.31     | \n",
       "| Arkansas   | 361.85     | \n",
       "| California | 248.78     | \n",
       "| Colorado   | 236.31     | \n",
       "\n",
       "\n"
      ],
      "text/plain": [
       "  state      price \n",
       "1 Alabama    339.06\n",
       "2 Alaska     288.75\n",
       "3 Arizona    303.31\n",
       "4 Arkansas   361.85\n",
       "5 California 248.78\n",
       "6 Colorado   236.31"
      ]
     },
     "metadata": {},
     "output_type": "display_data"
    }
   ],
   "source": [
    "# Prepare the dataset for the task, use \"HighQ\" column as the price\n",
    "weednew <- weed[,c('State', 'HighQ')]\n",
    "colnames(weednew) <- c('state', 'price')\n",
    "dim(weednew)\n",
    "summary(weednew)\n",
    "head(weednew)"
   ]
  },
  {
   "cell_type": "code",
   "execution_count": 36,
   "metadata": {
    "collapsed": false
   },
   "outputs": [
    {
     "data": {
      "text/html": [
       "<table>\n",
       "<thead><tr><th scope=col>state</th><th scope=col>price</th></tr></thead>\n",
       "<tbody>\n",
       "\t<tr><td>Alabama             </td><td>339.06              </td></tr>\n",
       "\t<tr><td>Alaska              </td><td>288.75              </td></tr>\n",
       "\t<tr><td>Arizona             </td><td>303.31              </td></tr>\n",
       "\t<tr><td>Arkansas            </td><td>361.85              </td></tr>\n",
       "\t<tr><td>California          </td><td>248.78              </td></tr>\n",
       "\t<tr><td>Colorado            </td><td>236.31              </td></tr>\n",
       "\t<tr><td>Connecticut         </td><td>347.90              </td></tr>\n",
       "\t<tr><td>Delaware            </td><td>373.18              </td></tr>\n",
       "\t<tr><td>District of Columbia</td><td>352.26              </td></tr>\n",
       "\t<tr><td>Florida             </td><td>306.43              </td></tr>\n",
       "\t<tr><td>Georgia             </td><td>332.21              </td></tr>\n",
       "\t<tr><td>Hawaii              </td><td>310.96              </td></tr>\n",
       "\t<tr><td>Idaho               </td><td>276.05              </td></tr>\n",
       "\t<tr><td>Illinois            </td><td>359.74              </td></tr>\n",
       "\t<tr><td>Indiana             </td><td>336.80              </td></tr>\n",
       "\t<tr><td>Iowa                </td><td>371.70              </td></tr>\n",
       "\t<tr><td>Kansas              </td><td>353.51              </td></tr>\n",
       "\t<tr><td>Kentucky            </td><td>337.33              </td></tr>\n",
       "\t<tr><td>Louisiana           </td><td>377.71              </td></tr>\n",
       "\t<tr><td>Maine               </td><td>321.10              </td></tr>\n",
       "</tbody>\n",
       "</table>\n"
      ],
      "text/latex": [
       "\\begin{tabular}{r|ll}\n",
       " state & price\\\\\n",
       "\\hline\n",
       "\t Alabama              & 339.06              \\\\\n",
       "\t Alaska               & 288.75              \\\\\n",
       "\t Arizona              & 303.31              \\\\\n",
       "\t Arkansas             & 361.85              \\\\\n",
       "\t California           & 248.78              \\\\\n",
       "\t Colorado             & 236.31              \\\\\n",
       "\t Connecticut          & 347.90              \\\\\n",
       "\t Delaware             & 373.18              \\\\\n",
       "\t District of Columbia & 352.26              \\\\\n",
       "\t Florida              & 306.43              \\\\\n",
       "\t Georgia              & 332.21              \\\\\n",
       "\t Hawaii               & 310.96              \\\\\n",
       "\t Idaho                & 276.05              \\\\\n",
       "\t Illinois             & 359.74              \\\\\n",
       "\t Indiana              & 336.80              \\\\\n",
       "\t Iowa                 & 371.70              \\\\\n",
       "\t Kansas               & 353.51              \\\\\n",
       "\t Kentucky             & 337.33              \\\\\n",
       "\t Louisiana            & 377.71              \\\\\n",
       "\t Maine                & 321.10              \\\\\n",
       "\\end{tabular}\n"
      ],
      "text/markdown": [
       "\n",
       "state | price | \n",
       "|---|---|---|---|---|---|---|---|---|---|---|---|---|---|---|---|---|---|---|---|\n",
       "| Alabama              | 339.06               | \n",
       "| Alaska               | 288.75               | \n",
       "| Arizona              | 303.31               | \n",
       "| Arkansas             | 361.85               | \n",
       "| California           | 248.78               | \n",
       "| Colorado             | 236.31               | \n",
       "| Connecticut          | 347.90               | \n",
       "| Delaware             | 373.18               | \n",
       "| District of Columbia | 352.26               | \n",
       "| Florida              | 306.43               | \n",
       "| Georgia              | 332.21               | \n",
       "| Hawaii               | 310.96               | \n",
       "| Idaho                | 276.05               | \n",
       "| Illinois             | 359.74               | \n",
       "| Indiana              | 336.80               | \n",
       "| Iowa                 | 371.70               | \n",
       "| Kansas               | 353.51               | \n",
       "| Kentucky             | 337.33               | \n",
       "| Louisiana            | 377.71               | \n",
       "| Maine                | 321.10               | \n",
       "\n",
       "\n"
      ],
      "text/plain": [
       "   state                price \n",
       "1  Alabama              339.06\n",
       "2  Alaska               288.75\n",
       "3  Arizona              303.31\n",
       "4  Arkansas             361.85\n",
       "5  California           248.78\n",
       "6  Colorado             236.31\n",
       "7  Connecticut          347.90\n",
       "8  Delaware             373.18\n",
       "9  District of Columbia 352.26\n",
       "10 Florida              306.43\n",
       "11 Georgia              332.21\n",
       "12 Hawaii               310.96\n",
       "13 Idaho                276.05\n",
       "14 Illinois             359.74\n",
       "15 Indiana              336.80\n",
       "16 Iowa                 371.70\n",
       "17 Kansas               353.51\n",
       "18 Kentucky             337.33\n",
       "19 Louisiana            377.71\n",
       "20 Maine                321.10"
      ]
     },
     "metadata": {},
     "output_type": "display_data"
    }
   ],
   "source": [
    "head(weednew, n=20)"
   ]
  },
  {
   "cell_type": "code",
   "execution_count": 37,
   "metadata": {
    "collapsed": false
   },
   "outputs": [
    {
     "data": {
      "text/html": [
       "51"
      ],
      "text/latex": [
       "51"
      ],
      "text/markdown": [
       "51"
      ],
      "text/plain": [
       "[1] 51"
      ]
     },
     "metadata": {},
     "output_type": "display_data"
    }
   ],
   "source": [
    "length(unique(weednew$state))"
   ]
  },
  {
   "cell_type": "code",
   "execution_count": 52,
   "metadata": {
    "collapsed": false
   },
   "outputs": [
    {
     "data": {
      "text/html": [
       "<table>\n",
       "<thead><tr><th scope=col>tolower(state)</th><th scope=col>avg_price</th></tr></thead>\n",
       "<tbody>\n",
       "\t<tr><td>alabama   </td><td>339.5618  </td></tr>\n",
       "\t<tr><td>alaska    </td><td>291.4820  </td></tr>\n",
       "\t<tr><td>arizona   </td><td>300.6675  </td></tr>\n",
       "\t<tr><td>arkansas  </td><td>348.0561  </td></tr>\n",
       "\t<tr><td>california</td><td>245.3761  </td></tr>\n",
       "\t<tr><td>colorado  </td><td>238.9187  </td></tr>\n",
       "</tbody>\n",
       "</table>\n"
      ],
      "text/latex": [
       "\\begin{tabular}{r|ll}\n",
       " tolower(state) & avg\\_price\\\\\n",
       "\\hline\n",
       "\t alabama    & 339.5618  \\\\\n",
       "\t alaska     & 291.4820  \\\\\n",
       "\t arizona    & 300.6675  \\\\\n",
       "\t arkansas   & 348.0561  \\\\\n",
       "\t california & 245.3761  \\\\\n",
       "\t colorado   & 238.9187  \\\\\n",
       "\\end{tabular}\n"
      ],
      "text/markdown": [
       "\n",
       "tolower(state) | avg_price | \n",
       "|---|---|---|---|---|---|\n",
       "| alabama    | 339.5618   | \n",
       "| alaska     | 291.4820   | \n",
       "| arizona    | 300.6675   | \n",
       "| arkansas   | 348.0561   | \n",
       "| california | 245.3761   | \n",
       "| colorado   | 238.9187   | \n",
       "\n",
       "\n"
      ],
      "text/plain": [
       "  tolower(state) avg_price\n",
       "1 alabama        339.5618 \n",
       "2 alaska         291.4820 \n",
       "3 arizona        300.6675 \n",
       "4 arkansas       348.0561 \n",
       "5 california     245.3761 \n",
       "6 colorado       238.9187 "
      ]
     },
     "metadata": {},
     "output_type": "display_data"
    },
    {
     "data": {
      "text/html": [
       "<ol class=list-inline>\n",
       "\t<li>51</li>\n",
       "\t<li>2</li>\n",
       "</ol>\n"
      ],
      "text/latex": [
       "\\begin{enumerate*}\n",
       "\\item 51\n",
       "\\item 2\n",
       "\\end{enumerate*}\n"
      ],
      "text/markdown": [
       "1. 51\n",
       "2. 2\n",
       "\n",
       "\n"
      ],
      "text/plain": [
       "[1] 51  2"
      ]
     },
     "metadata": {},
     "output_type": "display_data"
    }
   ],
   "source": [
    "# Get the average price per state\n",
    "avg_weed <- weednew %>% \n",
    "  group_by(tolower(state)) %>%    # Lower case the state names, refer to the ALERT below\n",
    "  dplyr::summarise(avg_price = mean(price))\n",
    "\n",
    "head(avg_weed)\n",
    "dim(avg_weed)"
   ]
  },
  {
   "cell_type": "code",
   "execution_count": 47,
   "metadata": {
    "collapsed": false
   },
   "outputs": [
    {
     "data": {
      "text/html": [
       "<table>\n",
       "<thead><tr><th scope=col>region</th><th scope=col>abb</th><th scope=col>fips.numeric</th><th scope=col>fips.character</th></tr></thead>\n",
       "<tbody>\n",
       "\t<tr><td>alaska    </td><td>AK        </td><td>2         </td><td>02        </td></tr>\n",
       "\t<tr><td>alabama   </td><td>AL        </td><td>1         </td><td>01        </td></tr>\n",
       "\t<tr><td>arkansas  </td><td>AR        </td><td>5         </td><td>05        </td></tr>\n",
       "\t<tr><td>arizona   </td><td>AZ        </td><td>4         </td><td>04        </td></tr>\n",
       "\t<tr><td>california</td><td>CA        </td><td>6         </td><td>06        </td></tr>\n",
       "\t<tr><td>colorado  </td><td>CO        </td><td>8         </td><td>08        </td></tr>\n",
       "</tbody>\n",
       "</table>\n"
      ],
      "text/latex": [
       "\\begin{tabular}{r|llll}\n",
       " region & abb & fips.numeric & fips.character\\\\\n",
       "\\hline\n",
       "\t alaska     & AK         & 2          & 02        \\\\\n",
       "\t alabama    & AL         & 1          & 01        \\\\\n",
       "\t arkansas   & AR         & 5          & 05        \\\\\n",
       "\t arizona    & AZ         & 4          & 04        \\\\\n",
       "\t california & CA         & 6          & 06        \\\\\n",
       "\t colorado   & CO         & 8          & 08        \\\\\n",
       "\\end{tabular}\n"
      ],
      "text/markdown": [
       "\n",
       "region | abb | fips.numeric | fips.character | \n",
       "|---|---|---|---|---|---|\n",
       "| alaska     | AK         | 2          | 02         | \n",
       "| alabama    | AL         | 1          | 01         | \n",
       "| arkansas   | AR         | 5          | 05         | \n",
       "| arizona    | AZ         | 4          | 04         | \n",
       "| california | CA         | 6          | 06         | \n",
       "| colorado   | CO         | 8          | 08         | \n",
       "\n",
       "\n"
      ],
      "text/plain": [
       "  region     abb fips.numeric fips.character\n",
       "1 alaska     AK  2            02            \n",
       "2 alabama    AL  1            01            \n",
       "3 arkansas   AR  5            05            \n",
       "4 arizona    AZ  4            04            \n",
       "5 california CA  6            06            \n",
       "6 colorado   CO  8            08            "
      ]
     },
     "metadata": {},
     "output_type": "display_data"
    }
   ],
   "source": [
    "# Understand the choroplethMap\n",
    "# Attention: the default state name in choropleth package is lower case!!!\n",
    "?state.map\n",
    "?state_choropleth\n",
    "?state.regions\n",
    "data(state.regions)\n",
    "head(state.regions)"
   ]
  },
  {
   "cell_type": "markdown",
   "metadata": {},
   "source": [
    "<div class=\"alert alert-block alert-info\" style=\"margin-top: 20px\">\n",
    "<h3 style=\"color: orange\"> ALERT: Case Sensitive </h3>\n",
    "<hr>\n",
    "** Error **<br><br>\n",
    "I encountered an error when running the state_choropleth() function in this notebook (without pre-loaded codes in DataCamp workspace). \n",
    "<li>Warning message in super$initialize(map.df, user.df):\n",
    "“Your data.frame contains the following regions which are not mappable: Alabama, Alaska, Arizona, Arkansas, California, Colorado, Connecticut, Delaware, District of Columbia, Florida, Georgia, Hawaii, Idaho, Illinois, Indiana, Iowa, Kansas, Kentucky, Louisiana, Maine, Maryland, Massachusetts, Michigan, Minnesota, Mississippi, Missouri, Montana, Nebraska, Nevada, New Hampshire, New Jersey, New Mexico, New York, North Carolina, North Dakota, Ohio, Oklahoma, Oregon, Pennsylvania, Rhode Island, South Carolina, South Dakota, Tennessee, Texas, Utah, Vermont, Virginia, Washington, West Virginia, Wisconsin, Wyoming” </li>\n",
    "<li> Error in approx(cum, xx, xout = (1:g) \\* nnm/g, method = \"constant\", rule = 2, : zero non-NA points </li>\n",
    "\n",
    "\n",
    "<hr>\n",
    "** Solution ** <br><br>\n",
    "The default state name in choropleth package is lower case. Use **\"tolower()\"** function to convert the state name to lower case. \n",
    "\n",
    "<hr>\n",
    "Source: \n",
    "<li>https://www.rdocumentation.org/search?q=state.region </li>\n",
    "<li>data(state.regions) | head(state.regions) </li>\n",
    "</div>"
   ]
  },
  {
   "cell_type": "code",
   "execution_count": 62,
   "metadata": {
    "collapsed": false
   },
   "outputs": [
    {
     "data": {},
     "metadata": {},
     "output_type": "display_data"
    },
    {
     "data": {
      "image/png": "[encoded data removed]",
      "text/plain": [
       "plot without title"
      ]
     },
     "metadata": {},
     "output_type": "display_data"
    }
   ],
   "source": [
    "# Update column names\n",
    "colnames(avg_weed) <- c('region', 'value')\n",
    "  \n",
    "# Create a choropleth map\n",
    "state_choropleth(avg_weed, title = 'Average Weed Price Per State', legend = 'Price in $')"
   ]
  },
  {
   "cell_type": "markdown",
   "metadata": {},
   "source": [
    "<div class=\"alert alert-block alert-info\"  style=\"margin-top: 20px\">\n",
    "<h2 style=\"color:orange\"> state_choropleth</h2> <hr>\n",
    "\n",
    "**Create A Choropleth Of US States** <br>\n",
    "The map used is state.map in the package choroplethrMaps. See state.regions in the choroplethrMaps package for a data.frame that can help you coerce your regions into the required format.\n",
    "\n",
    "<br><br>\n",
    "**Usage**<br>\n",
    "state_choropleth(df, title = \"\", legend = \"\", num_colors = 7, zoom = NULL, reference_map = FALSE)\n",
    "\n",
    "<br><br>\n",
    "**Arguments**<br>\n",
    "**df**\n",
    "A data.frame with a column named \"region\" and a column named \"value\". Elements in the \"region\" column must exactly match how regions are named in the \"region\" column in state.map.\n",
    "<br>\n",
    "**title**\n",
    "An optional title for the map.\n",
    "<br>\n",
    "**legend**\n",
    "An optional name for the legend.\n",
    "<br>\n",
    "**num_colors**\n",
    "The number of colors on the map. A value of 1 will use a continuous scale. A value in [2, 9] will use that many colors.\n",
    "<br>\n",
    "**zoom**\n",
    "An optional vector of states to zoom in on. Elements of this vector must exactly match the names of states as they appear in the \"region\" column of ?state.regions.\n",
    "<br>\n",
    "**reference_map**\n",
    "If true, render the choropleth over a reference map from Google Maps.\n",
    "\n",
    "<hr>\n",
    "Source:https://www.rdocumentation.org/packages/choroplethr/versions/3.5.3/topics/state_choropleth\n",
    "</div>"
   ]
  },
  {
   "cell_type": "markdown",
   "metadata": {},
   "source": [
    "<div class=\"alert alert-block alert-info\" style=\"margin-top: 20px\">\n",
    "<center>** THE END **</center> <hr>\n",
    "Congrats! Now it is time to start building a data science portfolio with your new skills. The following exercises give you the chance to publish analyses on Kaggle Scripts that you have personalized with information from your own life: \n",
    "<br><br>\n",
    "<li> <a href='https://www.kaggle.com/benhamner/d/kaggle/us-baby-names/babies-named-benjamin-over-time'>Visualize a dataset on US Baby Names to learn the popularity of your name or a friend’s name in the USA over the past 100+ years.</a> </li>\n",
    "<li> <a href='https://www.kaggle.com/benhamner/d/kaggle/college-scorecard/exploring-your-college-duke-university'>Create a polished analysis in RMarkdown that walks readers through recent changes at the college you attended or would like to attend. You will explore changes in enrollment, tuition, admissions rate, and degree types.</a> </li>\n",
    "\n",
    "<br>To start each exercise, follow the link to a script. Review the code or output to find instructions for creating a custom analysis. Then click Fork on the script to create an editable copy and get started.\n",
    "</div>"
   ]
  },
  {
   "cell_type": "markdown",
   "metadata": {},
   "source": [
    "<hr>\n",
    "### About the Author:  \n",
    "This is Yimeng's study note on the DataCamp Community Open Course: <a href='https://www.datacamp.com/community/open-courses/data-exploration-with-kaggle-scripts'>Data Exploration with Kaggle Scripts</a>. \n",
    "\n",
    "**Study Period: March 13th, 2017**\n",
    "\n",
    "<hr> \n",
    "Copyright &copy; 2017"
   ]
  }
 ],
 "metadata": {
  "kernelspec": {
   "display_name": "R",
   "language": "R",
   "name": "ir"
  },
  "language_info": {
   "codemirror_mode": "r",
   "file_extension": ".r",
   "mimetype": "text/x-r-source",
   "name": "R",
   "pygments_lexer": "r",
   "version": "3.3.2"
  }
 },
 "nbformat": 4,
 "nbformat_minor": 2
}
