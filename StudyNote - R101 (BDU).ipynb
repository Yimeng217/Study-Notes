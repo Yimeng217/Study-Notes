{
 "cells": [
  {
   "cell_type": "markdown",
   "metadata": {
    "deletable": true,
    "editable": true
   },
   "source": [
    "# Study Note - BDU R101(RP0101EN) \n",
    "The Learning Objectives:\n",
    "- The basics of R\n",
    "- Writing your own R scripts\n",
    "- How to use R to solve problems related to movies data\n",
    "- The fundamentals of R Syntax\n",
    "- Vectors, lists, matrix, arrays and dataframes\n",
    "- Reading and writing data in R\n",
    "\n",
    "The Syllabus:\n",
    "- Module 1 - R basics\n",
    "- Module 2 - Data structures in R\n",
    "- Module 3 - R programming fundamentals\n",
    "- Module 4 - Working with data in R\n",
    "- Module 5 - Strings and Dates in R"
   ]
  },
  {
   "cell_type": "markdown",
   "metadata": {
    "deletable": true,
    "editable": true
   },
   "source": [
    "<hr>\n",
    "## Module 1: R Basics "
   ]
  },
  {
   "cell_type": "markdown",
   "metadata": {
    "deletable": true,
    "editable": true
   },
   "source": [
    "Load the movie dataset with the first five rows for exercise."
   ]
  },
  {
   "cell_type": "code",
   "execution_count": 3,
   "metadata": {
    "collapsed": false,
    "deletable": true,
    "editable": true
   },
   "outputs": [
    {
     "data": {
      "text/plain": [
       "                name year length_min     genre average_rating cost_millions\n",
       "1          Toy Story 1995         81 Animation            8.3          30.0\n",
       "2              Akira 1998        125 Animation            8.1          10.4\n",
       "3 The Breakfast Club 1985         97     Drama            7.9           1.0\n",
       "4         The Artist 2011        100   Romance            8.0          15.0\n",
       "5       Modern Times 1936         87    Comedy            8.6           1.5\n",
       "  foreign age_restriction\n",
       "1       0               0\n",
       "2       1              14\n",
       "3       0              14\n",
       "4       1              12\n",
       "5       0              10"
      ]
     },
     "execution_count": 3,
     "metadata": {},
     "output_type": "execute_result"
    }
   ],
   "source": [
    "data = read.csv(\"/resources/movies-db.csv\", nrows = 5, header = TRUE)   \n",
    "data #read the example dataset"
   ]
  },
  {
   "cell_type": "markdown",
   "metadata": {
    "deletable": true,
    "editable": true
   },
   "source": [
    "### Math in R"
   ]
  },
  {
   "cell_type": "markdown",
   "metadata": {
    "deletable": true,
    "editable": true
   },
   "source": [
    "Total time of the first two movies"
   ]
  },
  {
   "cell_type": "code",
   "execution_count": 4,
   "metadata": {
    "collapsed": false,
    "deletable": true,
    "editable": true
   },
   "outputs": [
    {
     "data": {
      "text/plain": [
       "[1] 206"
      ]
     },
     "execution_count": 4,
     "metadata": {},
     "output_type": "execute_result"
    }
   ],
   "source": [
    "81 + 125"
   ]
  },
  {
   "cell_type": "markdown",
   "metadata": {
    "deletable": true,
    "editable": true
   },
   "source": [
    "Convert the minutes to hours"
   ]
  },
  {
   "cell_type": "code",
   "execution_count": 5,
   "metadata": {
    "collapsed": false,
    "deletable": true,
    "editable": true
   },
   "outputs": [
    {
     "data": {
      "text/plain": [
       "[1] 3.433333"
      ]
     },
     "execution_count": 5,
     "metadata": {},
     "output_type": "execute_result"
    }
   ],
   "source": [
    "206/60"
   ]
  },
  {
   "cell_type": "markdown",
   "metadata": {
    "deletable": true,
    "editable": true
   },
   "source": [
    "**Math Operations in R include:**\n",
    "- addition: 4+2\n",
    "- subtraction: 4-2\n",
    "- multiplication: 4*2\n",
    "- division: 4/2\n",
    "- exponentiation: 4^2"
   ]
  },
  {
   "cell_type": "markdown",
   "metadata": {
    "deletable": true,
    "editable": true
   },
   "source": [
    "### Variables in R"
   ]
  },
  {
   "cell_type": "markdown",
   "metadata": {
    "deletable": true,
    "editable": true
   },
   "source": [
    "Assign value to a variable 'x'"
   ]
  },
  {
   "cell_type": "code",
   "execution_count": 6,
   "metadata": {
    "collapsed": true,
    "deletable": true,
    "editable": true
   },
   "outputs": [],
   "source": [
    "x <- 81 + 125"
   ]
  },
  {
   "cell_type": "code",
   "execution_count": 9,
   "metadata": {
    "collapsed": false,
    "deletable": true,
    "editable": true
   },
   "outputs": [
    {
     "data": {
      "text/plain": [
       "[1] 206"
      ]
     },
     "execution_count": 9,
     "metadata": {},
     "output_type": "execute_result"
    }
   ],
   "source": [
    "x"
   ]
  },
  {
   "cell_type": "markdown",
   "metadata": {
    "deletable": true,
    "editable": true
   },
   "source": [
    "Perform math operations using variables"
   ]
  },
  {
   "cell_type": "code",
   "execution_count": 10,
   "metadata": {
    "collapsed": true,
    "deletable": true,
    "editable": true
   },
   "outputs": [],
   "source": [
    "y <- x/60"
   ]
  },
  {
   "cell_type": "code",
   "execution_count": 11,
   "metadata": {
    "collapsed": false,
    "deletable": true,
    "editable": true
   },
   "outputs": [
    {
     "data": {
      "text/plain": [
       "[1] 3.433333"
      ]
     },
     "execution_count": 11,
     "metadata": {},
     "output_type": "execute_result"
    }
   ],
   "source": [
    "y"
   ]
  },
  {
   "cell_type": "markdown",
   "metadata": {
    "deletable": true,
    "editable": true
   },
   "source": [
    "Note: variables are typicall assigned using ***<-*** but can also assigned using ***=***, as in x<-1 or x=1. "
   ]
  },
  {
   "cell_type": "markdown",
   "metadata": {
    "deletable": true,
    "editable": true
   },
   "source": [
    "Varilable can also be reassigned (over-write)"
   ]
  },
  {
   "cell_type": "code",
   "execution_count": 12,
   "metadata": {
    "collapsed": false,
    "deletable": true,
    "editable": true
   },
   "outputs": [
    {
     "data": {
      "text/plain": [
       "[1] 197"
      ]
     },
     "execution_count": 12,
     "metadata": {},
     "output_type": "execute_result"
    }
   ],
   "source": [
    "x <- 97 + 100\n",
    "x"
   ]
  },
  {
   "cell_type": "code",
   "execution_count": 13,
   "metadata": {
    "collapsed": false,
    "deletable": true,
    "editable": true
   },
   "outputs": [
    {
     "data": {
      "text/plain": [
       "[1] 3.283333"
      ]
     },
     "execution_count": 13,
     "metadata": {},
     "output_type": "execute_result"
    }
   ],
   "source": [
    "x <- x/60\n",
    "x"
   ]
  },
  {
   "cell_type": "markdown",
   "metadata": {
    "deletable": true,
    "editable": true
   },
   "source": [
    "Note: variables in R occupy memory. It's a good practice to remove variable from memory use ***rm(my_variable)*** command when we do not need it."
   ]
  },
  {
   "cell_type": "code",
   "execution_count": 14,
   "metadata": {
    "collapsed": true,
    "deletable": true,
    "editable": true
   },
   "outputs": [],
   "source": [
    "rm(x) #remove x variable from the memory"
   ]
  },
  {
   "cell_type": "code",
   "execution_count": 15,
   "metadata": {
    "collapsed": true,
    "deletable": true,
    "editable": true
   },
   "outputs": [],
   "source": [
    "rm(y) #remove y variable from the memory"
   ]
  },
  {
   "cell_type": "markdown",
   "metadata": {
    "deletable": true,
    "editable": true
   },
   "source": [
    "Order of operations follow the common math principle."
   ]
  },
  {
   "cell_type": "markdown",
   "metadata": {
    "deletable": true,
    "editable": true
   },
   "source": [
    "### Strings in R"
   ]
  },
  {
   "cell_type": "markdown",
   "metadata": {
    "deletable": true,
    "editable": true
   },
   "source": [
    "Assign a moive name to varilable 'movie1'"
   ]
  },
  {
   "cell_type": "code",
   "execution_count": 16,
   "metadata": {
    "collapsed": false,
    "deletable": true,
    "editable": true
   },
   "outputs": [
    {
     "data": {
      "text/plain": [
       "[1] \"Toy Story\""
      ]
     },
     "execution_count": 16,
     "metadata": {},
     "output_type": "execute_result"
    }
   ],
   "source": [
    "movie1 <- \"Toy Story\"\n",
    "movie1"
   ]
  },
  {
   "cell_type": "markdown",
   "metadata": {
    "deletable": true,
    "editable": true
   },
   "source": [
    "### Vector in R"
   ]
  },
  {
   "cell_type": "markdown",
   "metadata": {
    "deletable": true,
    "editable": true
   },
   "source": [
    "Vector is a one-dimensional array of objects, it's a simple tool to store your data. There is no restrictions on the number or type of elements that a vector can contain. ***C( )*** command can be used to create a vector. There are three types of vector: numeric, characer, and logical vector."
   ]
  },
  {
   "cell_type": "markdown",
   "metadata": {
    "deletable": true,
    "editable": true
   },
   "source": [
    "To create a vector that contains the run time of the first two movies. Convert the time to hours. "
   ]
  },
  {
   "cell_type": "code",
   "execution_count": 17,
   "metadata": {
    "collapsed": false,
    "deletable": true,
    "editable": true
   },
   "outputs": [
    {
     "data": {
      "text/plain": [
       "[1] 1.350000 2.083333"
      ]
     },
     "execution_count": 17,
     "metadata": {},
     "output_type": "execute_result"
    }
   ],
   "source": [
    "c(81, 125)/60"
   ]
  },
  {
   "cell_type": "markdown",
   "metadata": {
    "deletable": true,
    "editable": true
   },
   "source": [
    "To assign the vector to a variable movie_length."
   ]
  },
  {
   "cell_type": "code",
   "execution_count": 18,
   "metadata": {
    "collapsed": false,
    "deletable": true,
    "editable": true
   },
   "outputs": [
    {
     "data": {
      "text/plain": [
       "[1] 1.350000 2.083333"
      ]
     },
     "execution_count": 18,
     "metadata": {},
     "output_type": "execute_result"
    }
   ],
   "source": [
    "movie_length <- c(81, 125)\n",
    "movie_length/60"
   ]
  },
  {
   "cell_type": "markdown",
   "metadata": {
    "deletable": true,
    "editable": true
   },
   "source": [
    "To create a numeric vector in two ways."
   ]
  },
  {
   "cell_type": "code",
   "execution_count": 19,
   "metadata": {
    "collapsed": false,
    "deletable": true,
    "editable": true
   },
   "outputs": [
    {
     "data": {
      "text/plain": [
       "[1] 1 2 3 4 5 6"
      ]
     },
     "execution_count": 19,
     "metadata": {},
     "output_type": "execute_result"
    }
   ],
   "source": [
    "c(1,2,3,4,5,6)"
   ]
  },
  {
   "cell_type": "code",
   "execution_count": 20,
   "metadata": {
    "collapsed": false,
    "deletable": true,
    "editable": true
   },
   "outputs": [
    {
     "data": {
      "text/plain": [
       "[1] 1 2 3 4 5 6"
      ]
     },
     "execution_count": 20,
     "metadata": {},
     "output_type": "execute_result"
    }
   ],
   "source": [
    "c(1:6)"
   ]
  },
  {
   "cell_type": "code",
   "execution_count": 21,
   "metadata": {
    "collapsed": false,
    "deletable": true,
    "editable": true
   },
   "outputs": [
    {
     "data": {
      "text/plain": [
       "[1] 6 5 4 3 2 1"
      ]
     },
     "execution_count": 21,
     "metadata": {},
     "output_type": "execute_result"
    }
   ],
   "source": [
    "c(6:1) #store the numbers in decreasing order"
   ]
  },
  {
   "cell_type": "markdown",
   "metadata": {
    "deletable": true,
    "editable": true
   },
   "source": [
    "To create a character vector."
   ]
  },
  {
   "cell_type": "code",
   "execution_count": 22,
   "metadata": {
    "collapsed": false,
    "deletable": true,
    "editable": true
   },
   "outputs": [
    {
     "data": {
      "text/plain": [
       "[1] \"Toy Story\"          \"Akira\"              \"The Breakfast Club\"\n",
       "[4] \"The Artist\"         \"Modern Times\"      "
      ]
     },
     "execution_count": 22,
     "metadata": {},
     "output_type": "execute_result"
    }
   ],
   "source": [
    "c(\"Toy Story\",\"Akira\", \"The Breakfast Club\", \"The Artist\", \"Modern Times\")"
   ]
  },
  {
   "cell_type": "markdown",
   "metadata": {
    "deletable": true,
    "editable": true
   },
   "source": [
    "To create a logical vector (***TRUE/FALSE, T/F***)."
   ]
  },
  {
   "cell_type": "code",
   "execution_count": 23,
   "metadata": {
    "collapsed": false,
    "deletable": true,
    "editable": true
   },
   "outputs": [
    {
     "data": {
      "text/plain": [
       "[1] FALSE  TRUE  TRUE FALSE FALSE"
      ]
     },
     "execution_count": 23,
     "metadata": {},
     "output_type": "execute_result"
    }
   ],
   "source": [
    "movie_ratings <- c(7.3, 8.5, 8.3, 6.5, 6.9)\n",
    "movie_ratings > 7.5"
   ]
  },
  {
   "cell_type": "markdown",
   "metadata": {
    "deletable": true,
    "editable": true
   },
   "source": [
    "### Factors in R"
   ]
  },
  {
   "cell_type": "markdown",
   "metadata": {
    "deletable": true,
    "editable": true
   },
   "source": [
    "Factors in R are vectors that can take a limited number of values, i.e.  categorical variables. Another extreme case is continuous variables with unlimited number of components. "
   ]
  },
  {
   "cell_type": "markdown",
   "metadata": {
    "deletable": true,
    "editable": true
   },
   "source": [
    "To transform a vector to factor using ***factor( )***."
   ]
  },
  {
   "cell_type": "code",
   "execution_count": 24,
   "metadata": {
    "collapsed": false,
    "deletable": true,
    "editable": true
   },
   "outputs": [
    {
     "data": {
      "text/plain": [
       "[1] comedy    comedy    animation animation crime    \n",
       "Levels: animation comedy crime"
      ]
     },
     "execution_count": 24,
     "metadata": {},
     "output_type": "execute_result"
    }
   ],
   "source": [
    "genre_vector <- c(\"comedy\",\"comedy\",\"animation\",\"animation\",\"crime\")\n",
    "genre_factor <- factor(genre_vector)\n",
    "genre_factor"
   ]
  },
  {
   "cell_type": "markdown",
   "metadata": {
    "deletable": true,
    "editable": true
   },
   "source": [
    "To compare the output of ***summary( )*** command on character vector and factor."
   ]
  },
  {
   "cell_type": "code",
   "execution_count": 25,
   "metadata": {
    "collapsed": false,
    "deletable": true,
    "editable": true
   },
   "outputs": [
    {
     "data": {
      "text/plain": [
       "   Length     Class      Mode \n",
       "        5 character character "
      ]
     },
     "execution_count": 25,
     "metadata": {},
     "output_type": "execute_result"
    }
   ],
   "source": [
    "summary(genre_vector)"
   ]
  },
  {
   "cell_type": "code",
   "execution_count": 26,
   "metadata": {
    "collapsed": false,
    "deletable": true,
    "editable": true
   },
   "outputs": [
    {
     "data": {
      "text/plain": [
       "animation    comedy     crime \n",
       "        2         2         1 "
      ]
     },
     "execution_count": 26,
     "metadata": {},
     "output_type": "execute_result"
    }
   ],
   "source": [
    "summary(genre_factor)"
   ]
  },
  {
   "cell_type": "markdown",
   "metadata": {
    "deletable": true,
    "editable": true
   },
   "source": [
    "To transform a vector to an ordered factor."
   ]
  },
  {
   "cell_type": "code",
   "execution_count": 27,
   "metadata": {
    "collapsed": false,
    "deletable": true,
    "editable": true
   },
   "outputs": [
    {
     "data": {
      "text/plain": [
       "[1] very short short      medium     short      long       very short very long \n",
       "Levels: very short < short < medium < long < very long"
      ]
     },
     "execution_count": 27,
     "metadata": {},
     "output_type": "execute_result"
    }
   ],
   "source": [
    "movielength_vector <- c(\"very short\", \"short\", \"medium\", \"short\", \"long\", \"very short\", \"very long\")\n",
    "mvlength_factor <- factor(movielength_vector, ordered = TRUE, levels = c(\"very short\", \"short\", \"medium\", \"long\", \"very long\"))\n",
    "mvlength_factor"
   ]
  },
  {
   "cell_type": "markdown",
   "metadata": {
    "deletable": true,
    "editable": true
   },
   "source": [
    "### Vector Operations in R"
   ]
  },
  {
   "cell_type": "markdown",
   "metadata": {
    "deletable": true,
    "editable": true
   },
   "source": [
    "To name elements of a vector using ***name( )*** function."
   ]
  },
  {
   "cell_type": "code",
   "execution_count": 28,
   "metadata": {
    "collapsed": false,
    "deletable": true,
    "editable": true
   },
   "outputs": [
    {
     "data": {
      "text/plain": [
       "Akira \n",
       " 1998 "
      ]
     },
     "execution_count": 28,
     "metadata": {},
     "output_type": "execute_result"
    }
   ],
   "source": [
    "year <- c(1995, 1998, 1985, 2011, 1936)\n",
    "names(year) <- c(\"Toy Story\",\"Akira\", \"The Breakfast Club\", \"The Artist\", \"Modern Times\")\n",
    "year[\"Akira\"]"
   ]
  },
  {
   "cell_type": "markdown",
   "metadata": {
    "deletable": true,
    "editable": true
   },
   "source": [
    "To find the length of a vector using ***length( )*** function."
   ]
  },
  {
   "cell_type": "code",
   "execution_count": 29,
   "metadata": {
    "collapsed": false,
    "deletable": true,
    "editable": true
   },
   "outputs": [
    {
     "data": {
      "text/plain": [
       "[1] 5"
      ]
     },
     "execution_count": 29,
     "metadata": {},
     "output_type": "execute_result"
    }
   ],
   "source": [
    "length(year)"
   ]
  },
  {
   "cell_type": "markdown",
   "metadata": {
    "deletable": true,
    "editable": true
   },
   "source": [
    "To sort a vector using ***sort( )*** function."
   ]
  },
  {
   "cell_type": "code",
   "execution_count": 30,
   "metadata": {
    "collapsed": false,
    "deletable": true,
    "editable": true
   },
   "outputs": [
    {
     "data": {
      "text/plain": [
       "      Modern Times The Breakfast Club          Toy Story              Akira \n",
       "              1936               1985               1995               1998 \n",
       "        The Artist \n",
       "              2011 "
      ]
     },
     "execution_count": 30,
     "metadata": {},
     "output_type": "execute_result"
    }
   ],
   "source": [
    "year_sorted <- sort(year)  #sort in ascending order\n",
    "year_sorted"
   ]
  },
  {
   "cell_type": "markdown",
   "metadata": {
    "deletable": true,
    "editable": true
   },
   "source": [
    "To fing the smalles and largest number using ***min( )*** and ***max( )*** functions."
   ]
  },
  {
   "cell_type": "code",
   "execution_count": 31,
   "metadata": {
    "collapsed": false,
    "deletable": true,
    "editable": true
   },
   "outputs": [
    {
     "data": {
      "text/plain": [
       "[1] 1936"
      ]
     },
     "execution_count": 31,
     "metadata": {},
     "output_type": "execute_result"
    }
   ],
   "source": [
    "min(year)"
   ]
  },
  {
   "cell_type": "code",
   "execution_count": 32,
   "metadata": {
    "collapsed": false,
    "deletable": true,
    "editable": true
   },
   "outputs": [
    {
     "data": {
      "text/plain": [
       "[1] 2011"
      ]
     },
     "execution_count": 32,
     "metadata": {},
     "output_type": "execute_result"
    }
   ],
   "source": [
    "max(year)"
   ]
  },
  {
   "cell_type": "markdown",
   "metadata": {
    "deletable": true,
    "editable": true
   },
   "source": [
    "To compute the average of numbers in two ways using ***sum( )*** or ***mean( )***."
   ]
  },
  {
   "cell_type": "code",
   "execution_count": 2,
   "metadata": {
    "collapsed": false,
    "deletable": true,
    "editable": true
   },
   "outputs": [
    {
     "data": {
      "text/plain": [
       "[1] 8.4"
      ]
     },
     "execution_count": 2,
     "metadata": {},
     "output_type": "execute_result"
    }
   ],
   "source": [
    "cost_2014 <- c(8.6, 8.5, 8.1)  #create a new vector for demonstration\n",
    "sum(cost_2014)/length(cost_2014)  #compute average using 'sum()' function"
   ]
  },
  {
   "cell_type": "code",
   "execution_count": 3,
   "metadata": {
    "collapsed": false,
    "deletable": true,
    "editable": true
   },
   "outputs": [
    {
     "data": {
      "text/plain": [
       "[1] 8.4"
      ]
     },
     "execution_count": 3,
     "metadata": {},
     "output_type": "execute_result"
    }
   ],
   "source": [
    "mean(cost_2014)  #compute average using 'mean()' function"
   ]
  },
  {
   "cell_type": "markdown",
   "metadata": {
    "deletable": true,
    "editable": true
   },
   "source": [
    "To view the descriptive statistics of a vector using ***summary( )*** function."
   ]
  },
  {
   "cell_type": "code",
   "execution_count": 4,
   "metadata": {
    "collapsed": false,
    "deletable": true,
    "editable": true
   },
   "outputs": [
    {
     "data": {
      "text/plain": [
       "   Min. 1st Qu.  Median    Mean 3rd Qu.    Max. \n",
       "   8.10    8.30    8.50    8.40    8.55    8.60 "
      ]
     },
     "execution_count": 4,
     "metadata": {},
     "output_type": "execute_result"
    }
   ],
   "source": [
    "summary(cost_2014)"
   ]
  },
  {
   "cell_type": "markdown",
   "metadata": {
    "collapsed": true,
    "deletable": true,
    "editable": true
   },
   "source": [
    "To retrieve an element of vector using the index. \n",
    "<br>*Note: The index in R starts from 1, which is different from Python that starts from 0. *"
   ]
  },
  {
   "cell_type": "code",
   "execution_count": 5,
   "metadata": {
    "collapsed": false,
    "deletable": true,
    "editable": true
   },
   "outputs": [
    {
     "data": {
      "text/plain": [
       "[1] 8.5"
      ]
     },
     "execution_count": 5,
     "metadata": {},
     "output_type": "execute_result"
    }
   ],
   "source": [
    "cost_2014[2]  #retrieve the second element"
   ]
  },
  {
   "cell_type": "code",
   "execution_count": 6,
   "metadata": {
    "collapsed": false,
    "deletable": true,
    "editable": true
   },
   "outputs": [
    {
     "data": {
      "text/plain": [
       "[1] 8.5 8.1"
      ]
     },
     "execution_count": 6,
     "metadata": {},
     "output_type": "execute_result"
    }
   ],
   "source": [
    "cost_2014[c(2,3)]  #retrieve the second and third elements"
   ]
  },
  {
   "cell_type": "code",
   "execution_count": 7,
   "metadata": {
    "collapsed": false,
    "deletable": true,
    "editable": true
   },
   "outputs": [
    {
     "data": {
      "text/plain": [
       "[1] 8.6 8.5 8.1"
      ]
     },
     "execution_count": 7,
     "metadata": {},
     "output_type": "execute_result"
    }
   ],
   "source": [
    "cost_2014[1:3]  #retrieve the first to third elements"
   ]
  },
  {
   "cell_type": "markdown",
   "metadata": {
    "deletable": true,
    "editable": true
   },
   "source": [
    "To remove an element of vector from the output (not from the vector) using negative index. \n",
    "<br>*Note: The use of negative index differs from Python.* "
   ]
  },
  {
   "cell_type": "code",
   "execution_count": 8,
   "metadata": {
    "collapsed": false,
    "deletable": true,
    "editable": true
   },
   "outputs": [
    {
     "data": {
      "text/plain": [
       "[1] 8.5 8.1"
      ]
     },
     "execution_count": 8,
     "metadata": {},
     "output_type": "execute_result"
    }
   ],
   "source": [
    "cost_2014[-1]  #remove the first element from the output"
   ]
  },
  {
   "cell_type": "code",
   "execution_count": 10,
   "metadata": {
    "collapsed": false,
    "deletable": true,
    "editable": true
   },
   "outputs": [
    {
     "data": {
      "text/plain": [
       "[1] 8.6"
      ]
     },
     "execution_count": 10,
     "metadata": {},
     "output_type": "execute_result"
    }
   ],
   "source": [
    "cost_2014[1]  #the first element is not removed from the vector"
   ]
  },
  {
   "cell_type": "code",
   "execution_count": 11,
   "metadata": {
    "collapsed": false,
    "deletable": true,
    "editable": true
   },
   "outputs": [
    {
     "data": {
      "text/plain": [
       "[1] NA"
      ]
     },
     "execution_count": 11,
     "metadata": {},
     "output_type": "execute_result"
    }
   ],
   "source": [
    "cost_2014[4]  #access an unavailable index will return \"NA\""
   ]
  },
  {
   "cell_type": "markdown",
   "metadata": {
    "deletable": true,
    "editable": true
   },
   "source": [
    "To retrieve elements that meet a certain criteria."
   ]
  },
  {
   "cell_type": "code",
   "execution_count": 12,
   "metadata": {
    "collapsed": false,
    "deletable": true,
    "editable": true
   },
   "outputs": [
    {
     "data": {
      "text/plain": [
       "[1] 8.6 8.5"
      ]
     },
     "execution_count": 12,
     "metadata": {},
     "output_type": "execute_result"
    }
   ],
   "source": [
    "cost_2014[cost_2014 > 8.3]  #retrieve elements that are larger than 8.3"
   ]
  },
  {
   "cell_type": "markdown",
   "metadata": {
    "deletable": true,
    "editable": true
   },
   "source": [
    "Missing values are represented with **NA**. It is common to have missing values in real world datasets. "
   ]
  },
  {
   "cell_type": "code",
   "execution_count": 14,
   "metadata": {
    "collapsed": false,
    "deletable": true,
    "editable": true
   },
   "outputs": [
    {
     "data": {
      "text/plain": [
       "[1] 14 12 10 NA 18 NA"
      ]
     },
     "execution_count": 14,
     "metadata": {},
     "output_type": "execute_result"
    }
   ],
   "source": [
    "age_restric <- c(14, 12, 10, NA, 18, NA) \n",
    "age_restric  #there might be unknown age restrcitions for some movies"
   ]
  },
  {
   "cell_type": "markdown",
   "metadata": {
    "deletable": true,
    "editable": true
   },
   "source": [
    "To perform arithmetic on vectors."
   ]
  },
  {
   "cell_type": "code",
   "execution_count": 19,
   "metadata": {
    "collapsed": false,
    "deletable": true,
    "editable": true
   },
   "outputs": [
    {
     "data": {
      "text/plain": [
       "[1]  0 42  0 24 60"
      ]
     },
     "execution_count": 19,
     "metadata": {},
     "output_type": "execute_result"
    }
   ],
   "source": [
    "age_restriction <- c(0, 14, 14, 12, 10)  #the age restrictions for first five movies\n",
    "sequences <- c(2, 3, 0, 2, 6) #the number of element must be equal to the above vector\n",
    "multiply <- age_restriction * sequences #vector multiplication\n",
    "multiply"
   ]
  },
  {
   "cell_type": "code",
   "execution_count": 20,
   "metadata": {
    "collapsed": false,
    "deletable": true,
    "editable": true
   },
   "outputs": [
    {
     "data": {
      "text/plain": [
       "[1] 86 85 81"
      ]
     },
     "execution_count": 20,
     "metadata": {},
     "output_type": "execute_result"
    }
   ],
   "source": [
    "cost_2014 * 10  #multiplication between vector and number"
   ]
  },
  {
   "cell_type": "markdown",
   "metadata": {
    "deletable": true,
    "editable": true
   },
   "source": [
    "<hr>\n",
    "## Module 2: Data Structures in R"
   ]
  },
  {
   "cell_type": "markdown",
   "metadata": {
    "deletable": true,
    "editable": true
   },
   "source": [
    "### Arrays in R\n",
    "An array is a structure that contains data of the **same type**, whether that's strings, or characters, or integers. Arrays can be **multi-dimensional** as well, so the data can be contained in multiple rows and columns.\n",
    "\n",
    "#### What is the difference between an array and a vector?\n",
    "\n",
    "Vectors are always one dimensional like a single row of data. On the other hand, an array can be multidimensional (stored as rows and columns). The \"dimension\" indicates how many rows of data there are."
   ]
  },
  {
   "cell_type": "markdown",
   "metadata": {
    "deletable": true,
    "editable": true
   },
   "source": [
    "To create an array from a vector using ***array( )*** function."
   ]
  },
  {
   "cell_type": "code",
   "execution_count": 30,
   "metadata": {
    "collapsed": false,
    "deletable": true,
    "editable": true
   },
   "outputs": [
    {
     "data": {
      "text/plain": [
       "     [,1]        [,2]                 [,3]          \n",
       "[1,] \"Toy Story\" \"The Breakfast Club\" \"Modern Times\"\n",
       "[2,] \"Akira\"     \"The Artist\"         \"Jumanji\"     "
      ]
     },
     "execution_count": 30,
     "metadata": {},
     "output_type": "execute_result"
    }
   ],
   "source": [
    "movie_vector <- c(\"Toy Story\",\"Akira\", \"The Breakfast Club\", \"The Artist\", \"Modern Times\", \"Jumanji\")\n",
    "movie_array <- array(movie_vector, dim = c(2,3))\n",
    "movie_array"
   ]
  },
  {
   "cell_type": "markdown",
   "metadata": {
    "deletable": true,
    "editable": true
   },
   "source": [
    "To access an array by specifying the row and column of the element."
   ]
  },
  {
   "cell_type": "code",
   "execution_count": 31,
   "metadata": {
    "collapsed": false,
    "deletable": true,
    "editable": true
   },
   "outputs": [
    {
     "data": {
      "text/plain": [
       "[1] \"Toy Story\"          \"The Breakfast Club\" \"Modern Times\"      "
      ]
     },
     "execution_count": 31,
     "metadata": {},
     "output_type": "execute_result"
    }
   ],
   "source": [
    "movie_array[1, ]  #access the entire first row with empty value for column"
   ]
  },
  {
   "cell_type": "code",
   "execution_count": 32,
   "metadata": {
    "collapsed": false,
    "deletable": true,
    "editable": true
   },
   "outputs": [
    {
     "data": {
      "text/plain": [
       "[1] \"Toy Story\" \"Akira\"    "
      ]
     },
     "execution_count": 32,
     "metadata": {},
     "output_type": "execute_result"
    }
   ],
   "source": [
    "movie_array[,1]  #access the entire first column with empty value for row"
   ]
  },
  {
   "cell_type": "code",
   "execution_count": 33,
   "metadata": {
    "collapsed": false,
    "deletable": true,
    "editable": true
   },
   "outputs": [
    {
     "data": {
      "text/plain": [
       "[1] \"Toy Story\""
      ]
     },
     "execution_count": 33,
     "metadata": {},
     "output_type": "execute_result"
    }
   ],
   "source": [
    "movie_array[1,1]  #access the first element"
   ]
  },
  {
   "cell_type": "markdown",
   "metadata": {
    "deletable": true,
    "editable": true
   },
   "source": [
    "### Matrix in R\n",
    "A matrix is similar in structure to an array. The main difference is that a matrix must be **two dimensional**."
   ]
  },
  {
   "cell_type": "markdown",
   "metadata": {
    "deletable": true,
    "editable": true
   },
   "source": [
    "To create a matrix from a vector using ***matrix( )*** function with specifying ***nrow*** and ***ncol***."
   ]
  },
  {
   "cell_type": "code",
   "execution_count": 34,
   "metadata": {
    "collapsed": false,
    "deletable": true,
    "editable": true
   },
   "outputs": [
    {
     "data": {
      "text/plain": [
       "     [,1]        [,2]                 [,3]          \n",
       "[1,] \"Toy Story\" \"The Breakfast Club\" \"Modern Times\"\n",
       "[2,] \"Akira\"     \"The Artist\"         \"Jumanji\"     "
      ]
     },
     "execution_count": 34,
     "metadata": {},
     "output_type": "execute_result"
    }
   ],
   "source": [
    "movie_matrix <- matrix(movie_vector, nrow=2, ncol=3)\n",
    "movie_matrix  #default order is by column"
   ]
  },
  {
   "cell_type": "code",
   "execution_count": 36,
   "metadata": {
    "collapsed": false,
    "deletable": true,
    "editable": true
   },
   "outputs": [
    {
     "data": {
      "text/plain": [
       "     [,1]         [,2]           [,3]                \n",
       "[1,] \"Toy Story\"  \"Akira\"        \"The Breakfast Club\"\n",
       "[2,] \"The Artist\" \"Modern Times\" \"Jumanji\"           "
      ]
     },
     "execution_count": 36,
     "metadata": {},
     "output_type": "execute_result"
    }
   ],
   "source": [
    "movie_matrix <- matrix(movie_vector, nrow=2, ncol=3, byrow=TRUE) \n",
    "movie_matrix #change order to by row"
   ]
  },
  {
   "cell_type": "markdown",
   "metadata": {
    "deletable": true,
    "editable": true
   },
   "source": [
    "To access a certain subset of a matrix."
   ]
  },
  {
   "cell_type": "code",
   "execution_count": 38,
   "metadata": {
    "collapsed": false,
    "deletable": true,
    "editable": true
   },
   "outputs": [
    {
     "data": {
      "text/plain": [
       "[1] \"Akira\"              \"The Breakfast Club\""
      ]
     },
     "execution_count": 38,
     "metadata": {},
     "output_type": "execute_result"
    }
   ],
   "source": [
    "movie_matrix[1, 2:3]  #access the elements in row 1 and column 2 to 3. "
   ]
  },
  {
   "cell_type": "markdown",
   "metadata": {
    "deletable": true,
    "editable": true
   },
   "source": [
    "### List in R\n",
    "In R, a list is a collection of objects, similar to a vector.\n",
    "But unlike a vector, the elements inside of a list can **differ in terms of data type**."
   ]
  },
  {
   "cell_type": "markdown",
   "metadata": {
    "deletable": true,
    "editable": true
   },
   "source": [
    "To **create** a list using ***list( )*** function."
   ]
  },
  {
   "cell_type": "code",
   "execution_count": 40,
   "metadata": {
    "collapsed": false,
    "deletable": true,
    "editable": true
   },
   "outputs": [
    {
     "data": {
      "text/plain": [
       "[[1]]\n",
       "[1] \"Toy Story\"\n",
       "\n",
       "[[2]]\n",
       "[1] 1995\n",
       "\n",
       "[[3]]\n",
       "[1] \"Animation\" \"Adventure\" \"Comedy\"   \n"
      ]
     },
     "execution_count": 40,
     "metadata": {},
     "output_type": "execute_result"
    }
   ],
   "source": [
    "movie <- list(\"Toy Story\", 1995, c(\"Animation\", \"Adventure\", \"Comedy\"))\n",
    "movie"
   ]
  },
  {
   "cell_type": "markdown",
   "metadata": {
    "deletable": true,
    "editable": true
   },
   "source": [
    "To **access** items in a list using the index."
   ]
  },
  {
   "cell_type": "code",
   "execution_count": 41,
   "metadata": {
    "collapsed": false,
    "deletable": true,
    "editable": true
   },
   "outputs": [
    {
     "data": {
      "text/plain": [
       "[[1]]\n",
       "[1] 1995\n"
      ]
     },
     "execution_count": 41,
     "metadata": {},
     "output_type": "execute_result"
    }
   ],
   "source": [
    "movie[2]  #access the second item in the movie list"
   ]
  },
  {
   "cell_type": "code",
   "execution_count": 42,
   "metadata": {
    "collapsed": false,
    "deletable": true,
    "editable": true
   },
   "outputs": [
    {
     "data": {
      "text/plain": [
       "[[1]]\n",
       "[1] 1995\n",
       "\n",
       "[[2]]\n",
       "[1] \"Animation\" \"Adventure\" \"Comedy\"   \n"
      ]
     },
     "execution_count": 42,
     "metadata": {},
     "output_type": "execute_result"
    }
   ],
   "source": [
    "movie[2:3]  #access the second to third items in the movie list"
   ]
  },
  {
   "cell_type": "markdown",
   "metadata": {
    "deletable": true,
    "editable": true
   },
   "source": [
    "To **name** the individual variables in a list."
   ]
  },
  {
   "cell_type": "code",
   "execution_count": 88,
   "metadata": {
    "collapsed": false,
    "deletable": true,
    "editable": true
   },
   "outputs": [
    {
     "data": {
      "text/plain": [
       "$name\n",
       "[1] \"Toy Story\"\n",
       "\n",
       "$year\n",
       "[1] 1995\n",
       "\n",
       "$genre\n",
       "[1] \"Animation\" \"Adventure\" \"Comedy\"   \n"
      ]
     },
     "execution_count": 88,
     "metadata": {},
     "output_type": "execute_result"
    }
   ],
   "source": [
    "movie <- list(name=\"Toy Story\", year=1995, genre=c(\"Animation\", \"Adventure\", \"Comedy\"))\n",
    "movie"
   ]
  },
  {
   "cell_type": "markdown",
   "metadata": {
    "deletable": true,
    "editable": true
   },
   "source": [
    "To **access** the named list with ***$*** symbol followed by the name,   ***[name]***, or ***index***."
   ]
  },
  {
   "cell_type": "code",
   "execution_count": 89,
   "metadata": {
    "collapsed": false,
    "deletable": true,
    "editable": true
   },
   "outputs": [
    {
     "data": {
      "text/plain": [
       "[1] \"Animation\" \"Adventure\" \"Comedy\"   "
      ]
     },
     "execution_count": 89,
     "metadata": {},
     "output_type": "execute_result"
    }
   ],
   "source": [
    "movie$genre   #access the genre element in the movie list"
   ]
  },
  {
   "cell_type": "code",
   "execution_count": 90,
   "metadata": {
    "collapsed": false,
    "deletable": true,
    "editable": true
   },
   "outputs": [
    {
     "data": {
      "text/plain": [
       "$genre\n",
       "[1] \"Animation\" \"Adventure\" \"Comedy\"   \n"
      ]
     },
     "execution_count": 90,
     "metadata": {},
     "output_type": "execute_result"
    }
   ],
   "source": [
    "movie[\"genre\"]   #access the genre element in the movie list"
   ]
  },
  {
   "cell_type": "code",
   "execution_count": 91,
   "metadata": {
    "collapsed": false,
    "deletable": true,
    "editable": true
   },
   "outputs": [
    {
     "data": {
      "text/plain": [
       "$genre\n",
       "[1] \"Animation\" \"Adventure\" \"Comedy\"   \n"
      ]
     },
     "execution_count": 91,
     "metadata": {},
     "output_type": "execute_result"
    }
   ],
   "source": [
    "movie[3]  #access the items in list using index"
   ]
  },
  {
   "cell_type": "markdown",
   "metadata": {
    "deletable": true,
    "editable": true
   },
   "source": [
    "To **add** new items with *** <- *** symbol. It will be append to the **end** of the list."
   ]
  },
  {
   "cell_type": "code",
   "execution_count": 47,
   "metadata": {
    "collapsed": false,
    "deletable": true,
    "editable": true
   },
   "outputs": [
    {
     "data": {
      "text/plain": [
       "$name\n",
       "[1] \"Toy Story\"\n",
       "\n",
       "$year\n",
       "[1] 1995\n",
       "\n",
       "$genre\n",
       "[1] \"Animation\" \"Adventure\" \"Comedy\"   \n",
       "\n",
       "$age\n",
       "[1] 5\n"
      ]
     },
     "execution_count": 47,
     "metadata": {},
     "output_type": "execute_result"
    }
   ],
   "source": [
    "movie[\"age\"] <- 5  #add an element named age with a value of 5\n",
    "movie"
   ]
  },
  {
   "cell_type": "markdown",
   "metadata": {
    "deletable": true,
    "editable": true
   },
   "source": [
    "To **change** the value of elements in a list."
   ]
  },
  {
   "cell_type": "code",
   "execution_count": 48,
   "metadata": {
    "collapsed": false,
    "deletable": true,
    "editable": true
   },
   "outputs": [
    {
     "data": {
      "text/plain": [
       "$name\n",
       "[1] \"Toy Story\"\n",
       "\n",
       "$year\n",
       "[1] 1995\n",
       "\n",
       "$genre\n",
       "[1] \"Animation\" \"Adventure\" \"Comedy\"   \n",
       "\n",
       "$age\n",
       "[1] 6\n"
      ]
     },
     "execution_count": 48,
     "metadata": {},
     "output_type": "execute_result"
    }
   ],
   "source": [
    "movie[\"age\"] <- 6  #overwrite an element\n",
    "movie"
   ]
  },
  {
   "cell_type": "markdown",
   "metadata": {
    "deletable": true,
    "editable": true
   },
   "source": [
    "To **remove** an element from a list."
   ]
  },
  {
   "cell_type": "code",
   "execution_count": 49,
   "metadata": {
    "collapsed": false,
    "deletable": true,
    "editable": true
   },
   "outputs": [
    {
     "data": {
      "text/plain": [
       "$name\n",
       "[1] \"Toy Story\"\n",
       "\n",
       "$year\n",
       "[1] 1995\n",
       "\n",
       "$genre\n",
       "[1] \"Animation\" \"Adventure\" \"Comedy\"   \n"
      ]
     },
     "execution_count": 49,
     "metadata": {},
     "output_type": "execute_result"
    }
   ],
   "source": [
    "movie[\"age\"] <- NULL  #remove an element from the list\n",
    "movie"
   ]
  },
  {
   "cell_type": "markdown",
   "metadata": {
    "deletable": true,
    "editable": true
   },
   "source": [
    "### Data Frame in R\n",
    "A data frame is a type of structure that contains **correlated information**. So for example, a data frame would be a great structure for storing these movie titles along with their corresponding years."
   ]
  },
  {
   "cell_type": "markdown",
   "metadata": {
    "deletable": true,
    "editable": true
   },
   "source": [
    "To **create** a data frame using the ***data.frame( )*** function. <br> *Note: To avoid invalid factor level, set stringsAsFactors to FALSE. **stringsAsFactors = FALSE** tells R to keep character variables as they are rather than convert to factors. This helps to avoid error warning when insert new rows to the dataframe.*"
   ]
  },
  {
   "cell_type": "code",
   "execution_count": 78,
   "metadata": {
    "collapsed": false,
    "deletable": true,
    "editable": true
   },
   "outputs": [
    {
     "data": {
      "text/plain": [
       "                name year\n",
       "1          Toy Story 1995\n",
       "2              Akira 1998\n",
       "3 The Breakfast Club 1985\n",
       "4         The Artist 2011\n",
       "5       Modern Times 1936\n",
       "6         Fight Club 1999"
      ]
     },
     "execution_count": 78,
     "metadata": {},
     "output_type": "execute_result"
    }
   ],
   "source": [
    "movie <- data.frame(name=c(\"Toy Story\",\"Akira\", \"The Breakfast Club\", \"The Artist\", \"Modern Times\", \"Fight Club\"), year=c(1995, 1998, 1985, 2011, 1936, 1999), stringsAsFactors=FALSE)\n",
    "movie"
   ]
  },
  {
   "cell_type": "markdown",
   "metadata": {
    "deletable": true,
    "editable": true
   },
   "source": [
    "To **access** the data using ***$*** symbol or the ***[index]***."
   ]
  },
  {
   "cell_type": "code",
   "execution_count": 51,
   "metadata": {
    "collapsed": false,
    "deletable": true,
    "editable": true
   },
   "outputs": [
    {
     "data": {
      "text/plain": [
       "[1] Toy Story          Akira              The Breakfast Club The Artist        \n",
       "[5] Modern Times       Fight Club        \n",
       "6 Levels: Akira Fight Club Modern Times The Artist ... Toy Story"
      ]
     },
     "execution_count": 51,
     "metadata": {},
     "output_type": "execute_result"
    }
   ],
   "source": [
    "movie$name  #retrieve all the names of the movie dataframe"
   ]
  },
  {
   "cell_type": "code",
   "execution_count": 53,
   "metadata": {
    "collapsed": false,
    "deletable": true,
    "editable": true
   },
   "outputs": [
    {
     "data": {
      "text/plain": [
       "                name\n",
       "1          Toy Story\n",
       "2              Akira\n",
       "3 The Breakfast Club\n",
       "4         The Artist\n",
       "5       Modern Times\n",
       "6         Fight Club"
      ]
     },
     "execution_count": 53,
     "metadata": {},
     "output_type": "execute_result"
    }
   ],
   "source": [
    "movie[1]  #retrieve all the first columns"
   ]
  },
  {
   "cell_type": "code",
   "execution_count": 54,
   "metadata": {
    "collapsed": false,
    "deletable": true,
    "editable": true
   },
   "outputs": [
    {
     "data": {
      "text/plain": [
       "  year\n",
       "1 1995\n",
       "2 1998\n",
       "3 1985\n",
       "4 2011\n",
       "5 1936\n",
       "6 1999"
      ]
     },
     "execution_count": 54,
     "metadata": {},
     "output_type": "execute_result"
    }
   ],
   "source": [
    "movie[2]  #retrieve all the second columns"
   ]
  },
  {
   "cell_type": "code",
   "execution_count": 55,
   "metadata": {
    "collapsed": false,
    "deletable": true,
    "editable": true
   },
   "outputs": [
    {
     "data": {
      "text/plain": [
       "[1] 1995"
      ]
     },
     "execution_count": 55,
     "metadata": {},
     "output_type": "execute_result"
    }
   ],
   "source": [
    "movie[1,2]  #retrieve value in row 1 and column 2"
   ]
  },
  {
   "cell_type": "markdown",
   "metadata": {
    "deletable": true,
    "editable": true
   },
   "source": [
    "To get information about the data frame structure using ***str( )***, ***head( )***, ***tail( )*** functions."
   ]
  },
  {
   "cell_type": "code",
   "execution_count": 58,
   "metadata": {
    "collapsed": false,
    "deletable": true,
    "editable": true
   },
   "outputs": [
    {
     "name": "stdout",
     "output_type": "stream",
     "text": [
      "'data.frame':\t6 obs. of  2 variables:\n",
      " $ name: Factor w/ 6 levels \"Akira\",\"Fight Club\",..: 6 1 5 4 3 2\n",
      " $ year: num  1995 1998 1985 2011 1936 ...\n"
     ]
    }
   ],
   "source": [
    "str(movie)  #view the structure of movie dataframe"
   ]
  },
  {
   "cell_type": "code",
   "execution_count": 59,
   "metadata": {
    "collapsed": false,
    "deletable": true,
    "editable": true
   },
   "outputs": [
    {
     "data": {
      "text/plain": [
       "                name year\n",
       "1          Toy Story 1995\n",
       "2              Akira 1998\n",
       "3 The Breakfast Club 1985\n",
       "4         The Artist 2011\n",
       "5       Modern Times 1936\n",
       "6         Fight Club 1999"
      ]
     },
     "execution_count": 59,
     "metadata": {},
     "output_type": "execute_result"
    }
   ],
   "source": [
    "head(movie)  #retrieve the first 6 records"
   ]
  },
  {
   "cell_type": "code",
   "execution_count": 60,
   "metadata": {
    "collapsed": false,
    "deletable": true,
    "editable": true
   },
   "outputs": [
    {
     "data": {
      "text/plain": [
       "                name year\n",
       "1          Toy Story 1995\n",
       "2              Akira 1998\n",
       "3 The Breakfast Club 1985\n",
       "4         The Artist 2011\n",
       "5       Modern Times 1936\n",
       "6         Fight Club 1999"
      ]
     },
     "execution_count": 60,
     "metadata": {},
     "output_type": "execute_result"
    }
   ],
   "source": [
    "tail(movie)  #retrieve the last 6 records"
   ]
  },
  {
   "cell_type": "markdown",
   "metadata": {
    "deletable": true,
    "editable": true
   },
   "source": [
    "To ***insert*** a new column and a new row."
   ]
  },
  {
   "cell_type": "code",
   "execution_count": 79,
   "metadata": {
    "collapsed": false,
    "deletable": true,
    "editable": true
   },
   "outputs": [],
   "source": [
    "movie['length'] <- c(81, 125, 97, 100, 87, 139) #insert a new column"
   ]
  },
  {
   "cell_type": "code",
   "execution_count": 80,
   "metadata": {
    "collapsed": false,
    "deletable": true,
    "editable": true
   },
   "outputs": [
    {
     "data": {
      "text/plain": [
       "                name year length\n",
       "1          Toy Story 1995     81\n",
       "2              Akira 1998    125\n",
       "3 The Breakfast Club 1985     97\n",
       "4         The Artist 2011    100\n",
       "5       Modern Times 1936     87\n",
       "6         Fight Club 1999    139"
      ]
     },
     "execution_count": 80,
     "metadata": {},
     "output_type": "execute_result"
    }
   ],
   "source": [
    "movie"
   ]
  },
  {
   "cell_type": "code",
   "execution_count": 81,
   "metadata": {
    "collapsed": false,
    "deletable": true,
    "editable": true
   },
   "outputs": [
    {
     "data": {
      "text/plain": [
       "                name year length\n",
       "1          Toy Story 1995     81\n",
       "2              Akira 1998    125\n",
       "3 The Breakfast Club 1985     97\n",
       "4         The Artist 2011    100\n",
       "5       Modern Times 1936     87\n",
       "6         Fight Club 1999    139\n",
       "7    Dr. Strangelove 1964     94"
      ]
     },
     "execution_count": 81,
     "metadata": {},
     "output_type": "execute_result"
    }
   ],
   "source": [
    "movie <- rbind(movie, c(name=\"Dr. Strangelove\", year=1964, length=94))\n",
    "movie  # insert a new row\n",
    "# warning message was received here before set stringsAsFactors = FALSE "
   ]
  },
  {
   "cell_type": "markdown",
   "metadata": {
    "deletable": true,
    "editable": true
   },
   "source": [
    "To **delete** rows or columns."
   ]
  },
  {
   "cell_type": "code",
   "execution_count": 82,
   "metadata": {
    "collapsed": false,
    "deletable": true,
    "editable": true
   },
   "outputs": [
    {
     "data": {
      "text/plain": [
       "                name year length\n",
       "1          Toy Story 1995     81\n",
       "2              Akira 1998    125\n",
       "3 The Breakfast Club 1985     97\n",
       "4         The Artist 2011    100\n",
       "5       Modern Times 1936     87\n",
       "6         Fight Club 1999    139"
      ]
     },
     "execution_count": 82,
     "metadata": {},
     "output_type": "execute_result"
    }
   ],
   "source": [
    "movie <- movie[-7,]  #delete row 9\n",
    "movie"
   ]
  },
  {
   "cell_type": "code",
   "execution_count": 84,
   "metadata": {
    "collapsed": false,
    "deletable": true,
    "editable": true
   },
   "outputs": [
    {
     "data": {
      "text/plain": [
       "                name year\n",
       "1          Toy Story 1995\n",
       "2              Akira 1998\n",
       "3 The Breakfast Club 1985\n",
       "4         The Artist 2011\n",
       "5       Modern Times 1936\n",
       "6         Fight Club 1999"
      ]
     },
     "execution_count": 84,
     "metadata": {},
     "output_type": "execute_result"
    }
   ],
   "source": [
    "movie[\"length\"] <- NULL  #delete column \"length\"\n",
    "movie"
   ]
  },
  {
   "cell_type": "markdown",
   "metadata": {
    "deletable": true,
    "editable": true
   },
   "source": [
    "<hr>\n",
    "### A Summary of Five Data Structure in R\n",
    "\n",
    "<table style=\"width:100%\">\n",
    "  <caption>Five Data Structures in R</caption>\n",
    "  <tr>\n",
    "    <th>Data Structure</th>\n",
    "    <th>No. of Dimension</th>\n",
    "    <th>No. of Data Type</th>\n",
    "    <th>Order</th>\n",
    "    <th>Syntax</th>\n",
    "  </tr>\n",
    "  <tr>\n",
    "    <th>Vector<br>Factor</th>\n",
    "    <td>One-Dimension</td>\n",
    "    <td>Single Type</td>\n",
    "    <td>Ordered</td>\n",
    "    <td>c(...)<br>factor(...)</td>\n",
    "  </tr>\n",
    "  <tr>\n",
    "    <th>Array</th>\n",
    "    <td>Multiple-Dimensions</td>\n",
    "    <td>Single Type</td>\n",
    "    <td>Not Ordered</td>\n",
    "    <td>array(vector, dim(row, column)</td>\n",
    "  </tr>\n",
    "  <tr>\n",
    "    <th>Matrix</th>\n",
    "    <td>Two-Dimensions</td>\n",
    "    <td>Single Type</td>\n",
    "    <td>Not Ordered</td>\n",
    "    <td>matrix(vector, nrow=row, ncol=column)</td>\n",
    "  </tr>\n",
    "  <tr>\n",
    "    <th>List</th>\n",
    "    <td>One-Dimension</td>\n",
    "    <td>Multiple Types</td>\n",
    "    <td>Not Ordered</td>\n",
    "    <td>list(...)</td>\n",
    "  </tr>\n",
    "  <tr>\n",
    "    <th>Data Frame</th>\n",
    "    <td>Two-Dimensions</td>\n",
    "    <td>Multiple Types</td>\n",
    "    <td>Not Ordered</td>\n",
    "    <td>data.frame(column_1=c(...),..., column_n=c(...), stringsAsFactors=FALSE)</td>\n",
    "  </tr>\n",
    "</table>\n"
   ]
  },
  {
   "cell_type": "markdown",
   "metadata": {
    "deletable": true,
    "editable": true
   },
   "source": [
    "<hr>\n",
    "## Module 3 - R Programming Fundamentals"
   ]
  },
  {
   "cell_type": "markdown",
   "metadata": {
    "collapsed": true,
    "deletable": true,
    "editable": true
   },
   "source": [
    "### Conditions and Loops in R"
   ]
  },
  {
   "cell_type": "markdown",
   "metadata": {
    "collapsed": true,
    "deletable": true,
    "editable": true
   },
   "source": [
    "To use ***if statement*** to select the movie that is after year 2000."
   ]
  },
  {
   "cell_type": "code",
   "execution_count": 1,
   "metadata": {
    "collapsed": true,
    "deletable": true,
    "editable": true
   },
   "outputs": [],
   "source": [
    "movie_year <- 1997"
   ]
  },
  {
   "cell_type": "code",
   "execution_count": 3,
   "metadata": {
    "collapsed": false,
    "deletable": true,
    "editable": true
   },
   "outputs": [
    {
     "name": "stdout",
     "output_type": "stream",
     "text": [
      "[1] \"Movie year is not greater than 2000\"\n"
     ]
    }
   ],
   "source": [
    "if(movie_year > 2000){\n",
    "    print('Movie year is greater than 2000')\n",
    "} else{\n",
    "    print('Movie year is not greater than 2000')\n",
    "}"
   ]
  },
  {
   "cell_type": "markdown",
   "metadata": {
    "deletable": true,
    "editable": true
   },
   "source": [
    "**Logical Operators**\n",
    "<li> \"<\" less than? </li>\n",
    "<li> \">\" greater than? </li>\n",
    "<li> \"<=\" less than or equal to? </li>\n",
    "<li> \">=\" greater than or equal to? </li>\n",
    "<li> \"==\" is equal to? </li>\n",
    "<li> \"!=\" is not equal to? </li>\n",
    "<li> \"&\" and </li>\n",
    "<li> \"|\" or </li>\n",
    "<li> \"!\" not </li>\n",
    "<li> \"%in%\" is found in? </li>"
   ]
  },
  {
   "cell_type": "markdown",
   "metadata": {
    "deletable": true,
    "editable": true
   },
   "source": [
    "To use ***for loop*** to cycle through all the values in a vector."
   ]
  },
  {
   "cell_type": "code",
   "execution_count": 5,
   "metadata": {
    "collapsed": false,
    "deletable": true,
    "editable": true
   },
   "outputs": [
    {
     "name": "stdout",
     "output_type": "stream",
     "text": [
      "[1] 1995\n",
      "[1] 1985\n",
      "[1] 2011\n",
      "[1] 1936\n",
      "[1] 1999\n"
     ]
    }
   ],
   "source": [
    "years <- c(1995, 1985, 2011, 1936, 1999)\n",
    "for (yr in years){\n",
    "    print(yr)\n",
    "}  #print all values in the years vector"
   ]
  },
  {
   "cell_type": "code",
   "execution_count": 6,
   "metadata": {
    "collapsed": false,
    "deletable": true,
    "editable": true
   },
   "outputs": [
    {
     "name": "stdout",
     "output_type": "stream",
     "text": [
      "[1] \"Not that old\"\n",
      "[1] \"Not that old\"\n",
      "[1] \"Not that old\"\n",
      "[1] \"Old movie\"\n",
      "[1] \"Not that old\"\n"
     ]
    }
   ],
   "source": [
    "for (yr in years){\n",
    "    if(yr < 1980){\n",
    "        print(\"Old movie\")\n",
    "    } else{\n",
    "        print(\"Not that old\")\n",
    "    }\n",
    "}  #embed the if statement in the for loop to customize the output"
   ]
  },
  {
   "cell_type": "markdown",
   "metadata": {
    "deletable": true,
    "editable": true
   },
   "source": [
    "To use ***while loop*** to execute commands repetitively until condition is met. "
   ]
  },
  {
   "cell_type": "code",
   "execution_count": 7,
   "metadata": {
    "collapsed": false,
    "deletable": true,
    "editable": true
   },
   "outputs": [
    {
     "name": "stdout",
     "output_type": "stream",
     "text": [
      "[1] \"Iteration number:\" \"1\"                \n",
      "[1] \"Iteration number:\" \"2\"                \n",
      "[1] \"Iteration number:\" \"3\"                \n",
      "[1] \"Iteration number:\" \"4\"                \n",
      "[1] \"Iteration number:\" \"5\"                \n"
     ]
    }
   ],
   "source": [
    "count <- 1\n",
    "\n",
    "while(count<=5){\n",
    "    print(c(\"Iteration number:\", count))\n",
    "    count <- count + 1\n",
    "}  #print the iteration number until 5"
   ]
  },
  {
   "cell_type": "markdown",
   "metadata": {
    "collapsed": true,
    "deletable": true,
    "editable": true
   },
   "source": [
    "### Functions in R"
   ]
  },
  {
   "cell_type": "markdown",
   "metadata": {
    "deletable": true,
    "editable": true
   },
   "source": [
    "A **function** is a block of code that can be **re-used** in different parts of a program. Generally speaking, this can be broken down into **pre-defined functions**, and **user-defined functions**.Pre-defined functions are the functions that are already defined for you, whether they're built in to R or provided in a separate package. Examples of pre-defined functions are ***mean( )*** and ***sort( )***."
   ]
  },
  {
   "cell_type": "markdown",
   "metadata": {
    "deletable": true,
    "editable": true
   },
   "source": [
    "To define a new function using ***<- function(parameter){...}*** statement."
   ]
  },
  {
   "cell_type": "code",
   "execution_count": 9,
   "metadata": {
    "collapsed": false,
    "deletable": true,
    "editable": true
   },
   "outputs": [
    {
     "name": "stdout",
     "output_type": "stream",
     "text": [
      "[1] \"Hello World\"\n"
     ]
    }
   ],
   "source": [
    "printHelloWorld <- function(){\n",
    "    print(\"Hello World\")\n",
    "}\n",
    "printHelloWorld()"
   ]
  },
  {
   "cell_type": "code",
   "execution_count": 33,
   "metadata": {
    "collapsed": false,
    "deletable": true,
    "editable": true
   },
   "outputs": [
    {
     "data": {
      "text/plain": [
       "[1] 7"
      ]
     },
     "execution_count": 33,
     "metadata": {},
     "output_type": "execute_result"
    }
   ],
   "source": [
    "add <- function(x, y){\n",
    "    return(x+y)\n",
    "}\n",
    "add(3, 4)"
   ]
  },
  {
   "cell_type": "markdown",
   "metadata": {
    "deletable": true,
    "editable": true
   },
   "source": [
    "**Note:** The \"return\" statement can be used to explicitly output a value from the function. When \"return\" is encountered, anywhere in the function, the corresponding value will be output and the function will exit. Keep in mind that if the function lacks a return statement, then R will automatically return the value of the last evaluated expression. The \"return\" statement is particularly useful when you need an \"if else\" block, since the final output value will be dependent on some condition."
   ]
  },
  {
   "cell_type": "code",
   "execution_count": 11,
   "metadata": {
    "collapsed": false,
    "deletable": true,
    "editable": true
   },
   "outputs": [
    {
     "data": {
      "text/plain": [
       "[1] \"No\""
      ]
     },
     "execution_count": 11,
     "metadata": {},
     "output_type": "execute_result"
    }
   ],
   "source": [
    "isGoodRating <- function(rating){\n",
    "    if(rating < 7){\n",
    "        return(\"No\")\n",
    "    }else{\n",
    "        return(\"Yes\")\n",
    "    }\n",
    "}\n",
    "isGoodRating(4)"
   ]
  },
  {
   "cell_type": "code",
   "execution_count": 12,
   "metadata": {
    "collapsed": false,
    "deletable": true,
    "editable": true
   },
   "outputs": [
    {
     "data": {
      "text/plain": [
       "[1] \"Yes\""
      ]
     },
     "execution_count": 12,
     "metadata": {},
     "output_type": "execute_result"
    }
   ],
   "source": [
    "isGoodRating <- function(rating, threshold=7){  \n",
    "    if(rating < threshold){\n",
    "        return(\"No\")\n",
    "    }else{\n",
    "        return(\"Yes\")\n",
    "    }\n",
    "}    #Default input values in functions\n",
    "isGoodRating(8)"
   ]
  },
  {
   "cell_type": "code",
   "execution_count": 13,
   "metadata": {
    "collapsed": false,
    "deletable": true,
    "editable": true
   },
   "outputs": [
    {
     "data": {
      "text/plain": [
       "[1] \"No\""
      ]
     },
     "execution_count": 13,
     "metadata": {},
     "output_type": "execute_result"
    }
   ],
   "source": [
    "isGoodRating(8, threshold = 8.5)  #Default value can be overwritten"
   ]
  },
  {
   "cell_type": "markdown",
   "metadata": {
    "deletable": true,
    "editable": true
   },
   "source": [
    "***Note: functions can be embedded into other functions.***"
   ]
  },
  {
   "cell_type": "markdown",
   "metadata": {
    "deletable": true,
    "editable": true
   },
   "source": [
    "To distinguish **Global (<<-) and Local (<-)** variables. In the following example, *y* is global variable and *temp* is a local variable which can not be accessed outside the function it belongs to."
   ]
  },
  {
   "cell_type": "code",
   "execution_count": 14,
   "metadata": {
    "collapsed": false,
    "deletable": true,
    "editable": true
   },
   "outputs": [
    {
     "data": {
      "text/plain": [
       "[1] \"Hello World\""
      ]
     },
     "execution_count": 14,
     "metadata": {},
     "output_type": "execute_result"
    }
   ],
   "source": [
    "myFunction <- function(){\n",
    "    y <<-3.14  #y is defined as global variable\n",
    "    temp <- 'Hello World' #temp is defined as local variable\n",
    "    return(temp)\n",
    "}\n",
    "myFunction()"
   ]
  },
  {
   "cell_type": "code",
   "execution_count": 15,
   "metadata": {
    "collapsed": false,
    "deletable": true,
    "editable": true
   },
   "outputs": [
    {
     "data": {
      "text/plain": [
       "[1] 3.14"
      ]
     },
     "execution_count": 15,
     "metadata": {},
     "output_type": "execute_result"
    }
   ],
   "source": [
    "y  #global variable can be accessed outside the function"
   ]
  },
  {
   "cell_type": "code",
   "execution_count": 16,
   "metadata": {
    "collapsed": false,
    "deletable": true,
    "editable": true
   },
   "outputs": [
    {
     "ename": "ERROR",
     "evalue": "Error in eval(expr, envir, enclos): object 'temp' not found\n",
     "output_type": "error",
     "traceback": [
      "Error in eval(expr, envir, enclos): object 'temp' not found\n"
     ]
    }
   ],
   "source": [
    "temp  #local variable is not defined outside the function"
   ]
  },
  {
   "cell_type": "markdown",
   "metadata": {
    "deletable": true,
    "editable": true
   },
   "source": [
    "### Objects and Classes in R"
   ]
  },
  {
   "cell_type": "markdown",
   "metadata": {
    "deletable": true,
    "editable": true
   },
   "source": [
    "In R, an object is a data structure that has attributes, and methods that act on those attributes. Types of object classes include:\n",
    "<li>Numberic (default type)</li>\n",
    "<li>Character</li>\n",
    "<li>Logical</li>\n",
    "<li>Integer (indicate explicitly as.integer)</li>"
   ]
  },
  {
   "cell_type": "markdown",
   "metadata": {
    "deletable": true,
    "editable": true
   },
   "source": [
    "To create different object classes and check their class type using ***class(object)*** statement."
   ]
  },
  {
   "cell_type": "code",
   "execution_count": 18,
   "metadata": {
    "collapsed": false,
    "deletable": true,
    "editable": true
   },
   "outputs": [
    {
     "data": {
      "text/plain": [
       "[1] 8.3"
      ]
     },
     "execution_count": 18,
     "metadata": {},
     "output_type": "execute_result"
    },
    {
     "data": {
      "text/plain": [
       "[1] \"numeric\""
      ]
     },
     "execution_count": 18,
     "metadata": {},
     "output_type": "execute_result"
    }
   ],
   "source": [
    "average_rating <- 8.3  #create a numeric object class\n",
    "average_rating\n",
    "class(average_rating)  #check the class type"
   ]
  },
  {
   "cell_type": "code",
   "execution_count": 19,
   "metadata": {
    "collapsed": false,
    "deletable": true,
    "editable": true
   },
   "outputs": [
    {
     "data": {
      "text/plain": [
       "[1] \"Toy Story\" \"Akira\"    "
      ]
     },
     "execution_count": 19,
     "metadata": {},
     "output_type": "execute_result"
    },
    {
     "data": {
      "text/plain": [
       "[1] \"character\""
      ]
     },
     "execution_count": 19,
     "metadata": {},
     "output_type": "execute_result"
    }
   ],
   "source": [
    "movies <- c(\"Toy Story\", \"Akira\")  #create an character object class\n",
    "movies\n",
    "class(movies)  #check the class type"
   ]
  },
  {
   "cell_type": "code",
   "execution_count": 20,
   "metadata": {
    "collapsed": false,
    "deletable": true,
    "editable": true
   },
   "outputs": [
    {
     "data": {
      "text/plain": [
       "[1]  TRUE FALSE FALSE  TRUE"
      ]
     },
     "execution_count": 20,
     "metadata": {},
     "output_type": "execute_result"
    },
    {
     "data": {
      "text/plain": [
       "[1] \"logical\""
      ]
     },
     "execution_count": 20,
     "metadata": {},
     "output_type": "execute_result"
    }
   ],
   "source": [
    "logical_vector <- c(T, F, F, T)  #create a logical object with TRUE or FALSE boolean varables\n",
    "logical_vector\n",
    "class(logical_vector)  #check the class type"
   ]
  },
  {
   "cell_type": "code",
   "execution_count": 21,
   "metadata": {
    "collapsed": false,
    "deletable": true,
    "editable": true
   },
   "outputs": [
    {
     "data": {
      "text/plain": [
       "[1] \"numeric\""
      ]
     },
     "execution_count": 21,
     "metadata": {},
     "output_type": "execute_result"
    },
    {
     "data": {
      "text/plain": [
       "[1] \"integer\""
      ]
     },
     "execution_count": 21,
     "metadata": {},
     "output_type": "execute_result"
    }
   ],
   "source": [
    "age_restriction <- c(12, 10, 18, 18)\n",
    "class(age_restriction)  #by default, it is numeric type\n",
    "integer_vector <- as.integer(age_restriction) #create an integer class\n",
    "class(integer_vector)"
   ]
  },
  {
   "cell_type": "markdown",
   "metadata": {
    "deletable": true,
    "editable": true
   },
   "source": [
    "To convert the class types."
   ]
  },
  {
   "cell_type": "code",
   "execution_count": 22,
   "metadata": {
    "collapsed": false,
    "deletable": true,
    "editable": true
   },
   "outputs": [
    {
     "data": {
      "text/plain": [
       "[1] \"character\""
      ]
     },
     "execution_count": 22,
     "metadata": {},
     "output_type": "execute_result"
    }
   ],
   "source": [
    "year <- as.character(1995)  #convert numeric class to character class\n",
    "class(year)"
   ]
  },
  {
   "cell_type": "markdown",
   "metadata": {
    "deletable": true,
    "editable": true
   },
   "source": [
    "***Note: if combining numbers and characters in a vector (only support single data type), the class type will automatically converted to character. ***"
   ]
  },
  {
   "cell_type": "code",
   "execution_count": 23,
   "metadata": {
    "collapsed": false,
    "deletable": true,
    "editable": true
   },
   "outputs": [
    {
     "data": {
      "text/plain": [
       "[1] \"character\""
      ]
     },
     "execution_count": 23,
     "metadata": {},
     "output_type": "execute_result"
    }
   ],
   "source": [
    "combined <- c(\"Toy Story\", 1995, \"Akira\", 1998)\n",
    "class(combined)  #will be character"
   ]
  },
  {
   "cell_type": "markdown",
   "metadata": {
    "deletable": true,
    "editable": true
   },
   "source": [
    "### Debugging in R"
   ]
  },
  {
   "cell_type": "markdown",
   "metadata": {
    "deletable": true,
    "editable": true
   },
   "source": [
    "**Errors** can often be difficult to locate in a large body of code. The process of finding the source of these programming bugs and fixing them, is known as **debugging**."
   ]
  },
  {
   "cell_type": "markdown",
   "metadata": {
    "deletable": true,
    "editable": true
   },
   "source": [
    "To catch error with ***tryCatch( )*** function. A \"tryCatch\" statement will run the code normally, assuming that there are no errors involved.\n",
    "But if there is an invalid statement, the \"tryCatch\" will alert that this is invalid."
   ]
  },
  {
   "cell_type": "code",
   "execution_count": 24,
   "metadata": {
    "collapsed": false,
    "deletable": true,
    "editable": true
   },
   "outputs": [
    {
     "data": {
      "text/plain": [
       "[1] 20"
      ]
     },
     "execution_count": 24,
     "metadata": {},
     "output_type": "execute_result"
    },
    {
     "ename": "ERROR",
     "evalue": "Error in \"a\" + 10: non-numeric argument to binary operator\n",
     "output_type": "error",
     "traceback": [
      "Error in \"a\" + 10: non-numeric argument to binary operator\n"
     ]
    }
   ],
   "source": [
    "tryCatch(10+10)  #no errors in the statement\n",
    "tryCatch(\"a\"+10)  #invalid statement"
   ]
  },
  {
   "cell_type": "code",
   "execution_count": 25,
   "metadata": {
    "collapsed": false,
    "deletable": true,
    "editable": true
   },
   "outputs": [
    {
     "data": {
      "text/plain": [
       "[1] 20"
      ]
     },
     "execution_count": 25,
     "metadata": {},
     "output_type": "execute_result"
    }
   ],
   "source": [
    "tryCatch(10+10, error = function(e)\n",
    "    print(\"Oops, something went wrong!\"))"
   ]
  },
  {
   "cell_type": "code",
   "execution_count": 26,
   "metadata": {
    "collapsed": false,
    "deletable": true,
    "editable": true
   },
   "outputs": [
    {
     "name": "stdout",
     "output_type": "stream",
     "text": [
      "[1] \"Oops, something went wrong!\"\n"
     ]
    }
   ],
   "source": [
    "tryCatch(\"a\"+10, error = function(e)\n",
    "    print(\"Oops, something went wrong!\"))"
   ]
  },
  {
   "cell_type": "markdown",
   "metadata": {
    "deletable": true,
    "editable": true
   },
   "source": [
    "To handle warning using ***tryCatch( )*** function as well."
   ]
  },
  {
   "cell_type": "code",
   "execution_count": 27,
   "metadata": {
    "collapsed": false,
    "deletable": true,
    "editable": true
   },
   "outputs": [
    {
     "name": "stderr",
     "output_type": "stream",
     "text": [
      "Warning message:\n",
      "In eval(expr, envir, enclos): NAs introduced by coercion"
     ]
    },
    {
     "data": {
      "text/plain": [
       "[1] NA"
      ]
     },
     "execution_count": 27,
     "metadata": {},
     "output_type": "execute_result"
    }
   ],
   "source": [
    "as.integer(\"A\")  #will generate a waning message"
   ]
  },
  {
   "cell_type": "code",
   "execution_count": 29,
   "metadata": {
    "collapsed": false,
    "deletable": true,
    "editable": true
   },
   "outputs": [
    {
     "name": "stdout",
     "output_type": "stream",
     "text": [
      "[1] \"Warning.\"\n"
     ]
    }
   ],
   "source": [
    "tryCatch(as.integer(\"A\"), warning = function(e) print(\"Warning.\"))\n",
    "    #catch the warning message"
   ]
  },
  {
   "cell_type": "markdown",
   "metadata": {
    "deletable": true,
    "editable": true
   },
   "source": [
    "<hr>\n",
    "## Module 4 - Working with Data in R"
   ]
  },
  {
   "cell_type": "markdown",
   "metadata": {
    "deletable": true,
    "editable": true
   },
   "source": [
    "### Reading CSV, Excel, and Built-in Datasets in R"
   ]
  },
  {
   "cell_type": "markdown",
   "metadata": {
    "collapsed": true,
    "deletable": true,
    "editable": true
   },
   "source": [
    "<li>To read csv data files using ***read.csv(\"file_path\")*** statement and assign it to a variable.</li> \n",
    "<li>To read excel data files using ***read_excel(\"file_path\")*** statement  and assign it to a variable.</li>\n",
    "<br> ***Note:*** *Unlike CSV, R does not have a native function for reading Excel files. So to add this functionality, we're going to have to run the \"install.packages\"function. Once a package is installed, it does not need to be installed again unless it is uninstalled. Whenever you use a library that is not native to R, you have to it into the R environment by calling the \"library\" function.*"
   ]
  },
  {
   "cell_type": "code",
   "execution_count": 34,
   "metadata": {
    "collapsed": false,
    "deletable": true,
    "editable": true
   },
   "outputs": [
    {
     "data": {
      "text/plain": [
       "                                        name year length_min     genre\n",
       "1                                  Toy Story 1995         81 Animation\n",
       "2                                      Akira 1998        125 Animation\n",
       "3                         The Breakfast Club 1985         97     Drama\n",
       "4                                 The Artist 2011        100   Romance\n",
       "5                               Modern Times 1936         87    Comedy\n",
       "6                                 Fight Club 1999        139     Drama\n",
       "7                                City of God 2002        130     Crime\n",
       "8                           The Untouchables 1987        119     Drama\n",
       "9                       Star Wars Episode IV 1977        121    Action\n",
       "10                           American Beauty 1999        122     Drama\n",
       "11                                      Room 2015        118     Drama\n",
       "12                           Dr. Strangelove 1964         94    Comedy\n",
       "13                                  The Ring 1998         95    Horror\n",
       "14           Monty Python and the Holy Grail 1975         91    Comedy\n",
       "15                       High School Musical 2006         98    Comedy\n",
       "16                         Shaun of the Dead 2004         99    Horror\n",
       "17                               Taxi Driver 1976        113     Crime\n",
       "18                  The Shawshank Redemption 1994        142     Crime\n",
       "19                              Interstellar 2014        169 Adventure\n",
       "20                                    Casino 1995        178 Biography\n",
       "21                            The Goodfellas 1990        145 Biography\n",
       "22                Blue is the Warmest Colour 2013        179   Romance\n",
       "23                                Black Swan 2010        108  Thriller\n",
       "24                        Back to the Future 1985        116    Sci-fi\n",
       "25                                  The Wave 2008        107  Thriller\n",
       "26                                  Whiplash 2014        106     Drama\n",
       "27                  The Grand Hotel Budapest 2014        100     Crime\n",
       "28                                   Jumanji 1995        104   Fantasy\n",
       "29 The Eternal Sunshine of the Spotless Mind 2004        108     Drama\n",
       "30                                   Chicago 2002        113    Comedy\n",
       "   average_rating cost_millions foreign age_restriction\n",
       "1             8.3          30.0       0               0\n",
       "2             8.1          10.4       1              14\n",
       "3             7.9           1.0       0              14\n",
       "4             8.0          15.0       1              12\n",
       "5             8.6           1.5       0              10\n",
       "6             8.9          63.0       0              18\n",
       "7             8.7           3.3       1              18\n",
       "8             7.9          25.0       0              14\n",
       "9             8.7          11.0       0              10\n",
       "10            8.4          15.0       0              14\n",
       "11            8.3          13.0       1              14\n",
       "12            8.5           1.8       1              10\n",
       "13            7.3           1.2       1              18\n",
       "14            8.3           0.4       1              18\n",
       "15            5.2           4.2       0               0\n",
       "16            8.0           6.1       1              18\n",
       "17            8.3           1.3       1              14\n",
       "18            9.3          25.0       0              16\n",
       "19            8.6         165.0       0              10\n",
       "20            8.2          50.0       0              18\n",
       "21            8.7          25.0       0              14\n",
       "22            7.8           4.5       1              18\n",
       "23            8.0          13.0       0              16\n",
       "24            8.5          19.0       0               0\n",
       "25            7.6           5.5       1              16\n",
       "26            8.5           3.3       1              12\n",
       "27            8.1          25.5       0              14\n",
       "28            6.9          65.0       0              12\n",
       "29            8.3          20.0       0              14\n",
       "30            7.2          45.0       0              12"
      ]
     },
     "execution_count": 34,
     "metadata": {},
     "output_type": "execute_result"
    }
   ],
   "source": [
    "my_data <- read.csv(\"/resources/movies-db.csv\")  \n",
    "#The default data structure is data frame\n",
    "my_data  #to view the data"
   ]
  },
  {
   "cell_type": "markdown",
   "metadata": {
    "deletable": true,
    "editable": true
   },
   "source": [
    "<li>To **access data** from dataset using index.</li>"
   ]
  },
  {
   "cell_type": "code",
   "execution_count": 35,
   "metadata": {
    "collapsed": false,
    "deletable": true,
    "editable": true
   },
   "outputs": [
    {
     "data": {
      "text/plain": [
       "                                        name\n",
       "1                                  Toy Story\n",
       "2                                      Akira\n",
       "3                         The Breakfast Club\n",
       "4                                 The Artist\n",
       "5                               Modern Times\n",
       "6                                 Fight Club\n",
       "7                                City of God\n",
       "8                           The Untouchables\n",
       "9                       Star Wars Episode IV\n",
       "10                           American Beauty\n",
       "11                                      Room\n",
       "12                           Dr. Strangelove\n",
       "13                                  The Ring\n",
       "14           Monty Python and the Holy Grail\n",
       "15                       High School Musical\n",
       "16                         Shaun of the Dead\n",
       "17                               Taxi Driver\n",
       "18                  The Shawshank Redemption\n",
       "19                              Interstellar\n",
       "20                                    Casino\n",
       "21                            The Goodfellas\n",
       "22                Blue is the Warmest Colour\n",
       "23                                Black Swan\n",
       "24                        Back to the Future\n",
       "25                                  The Wave\n",
       "26                                  Whiplash\n",
       "27                  The Grand Hotel Budapest\n",
       "28                                   Jumanji\n",
       "29 The Eternal Sunshine of the Spotless Mind\n",
       "30                                   Chicago"
      ]
     },
     "execution_count": 35,
     "metadata": {},
     "output_type": "execute_result"
    }
   ],
   "source": [
    "my_data['name']"
   ]
  },
  {
   "cell_type": "code",
   "execution_count": 36,
   "metadata": {
    "collapsed": false,
    "deletable": true,
    "editable": true
   },
   "outputs": [
    {
     "data": {
      "text/plain": [
       "       name year length_min     genre average_rating cost_millions foreign\n",
       "1 Toy Story 1995         81 Animation            8.3            30       0\n",
       "  age_restriction\n",
       "1               0"
      ]
     },
     "execution_count": 36,
     "metadata": {},
     "output_type": "execute_result"
    }
   ],
   "source": [
    "my_data[1, ]  #select the first row"
   ]
  },
  {
   "cell_type": "code",
   "execution_count": 38,
   "metadata": {
    "collapsed": false,
    "deletable": true,
    "editable": true
   },
   "outputs": [
    {
     "data": {
      "text/plain": [
       "       name length_min\n",
       "1 Toy Story         81"
      ]
     },
     "execution_count": 38,
     "metadata": {},
     "output_type": "execute_result"
    }
   ],
   "source": [
    "my_data[1, c(\"name\", \"length_min\")]  #select the first row and selected columns"
   ]
  },
  {
   "cell_type": "markdown",
   "metadata": {
    "deletable": true,
    "editable": true
   },
   "source": [
    "<li>To access **built-in datasets** in R package.</li>"
   ]
  },
  {
   "cell_type": "code",
   "execution_count": 42,
   "metadata": {
    "collapsed": false,
    "deletable": true,
    "editable": true
   },
   "outputs": [
    {
     "data": {
      "text/plain": []
     },
     "execution_count": 42,
     "metadata": {},
     "output_type": "execute_result"
    }
   ],
   "source": [
    "data()  #see the list of built-in datasets"
   ]
  },
  {
   "cell_type": "code",
   "execution_count": 40,
   "metadata": {
    "collapsed": false,
    "deletable": true,
    "editable": true
   },
   "outputs": [
    {
     "data": {
      "text/plain": []
     },
     "execution_count": 40,
     "metadata": {},
     "output_type": "execute_result"
    }
   ],
   "source": [
    "help(co2)  #see the description of the built-in dataset \"co2\""
   ]
  },
  {
   "cell_type": "code",
   "execution_count": 43,
   "metadata": {
    "collapsed": false,
    "deletable": true,
    "editable": true
   },
   "outputs": [
    {
     "data": {
      "text/plain": []
     },
     "execution_count": 43,
     "metadata": {},
     "output_type": "execute_result"
    }
   ],
   "source": [
    "help(Titanic)  #see the description of the built-in dataset \"co2\""
   ]
  },
  {
   "cell_type": "code",
   "execution_count": 44,
   "metadata": {
    "collapsed": false,
    "deletable": true,
    "editable": true
   },
   "outputs": [
    {
     "data": {
      "text/plain": [
       "        Jan    Feb    Mar    Apr    May    Jun    Jul    Aug    Sep    Oct\n",
       "1959 315.42 316.31 316.50 317.56 318.13 318.00 316.39 314.65 313.68 313.18\n",
       "1960 316.27 316.81 317.42 318.87 319.87 319.43 318.01 315.74 314.00 313.68\n",
       "1961 316.73 317.54 318.38 319.31 320.42 319.61 318.42 316.63 314.83 315.16\n",
       "1962 317.78 318.40 319.53 320.42 320.85 320.45 319.45 317.25 316.11 315.27\n",
       "1963 318.58 318.92 319.70 321.22 322.08 321.31 319.58 317.61 316.05 315.83\n",
       "1964 319.41 320.07 320.74 321.40 322.06 321.73 320.27 318.54 316.54 316.71\n",
       "1965 319.27 320.28 320.73 321.97 322.00 321.71 321.05 318.71 317.66 317.14\n",
       "1966 320.46 321.43 322.23 323.54 323.91 323.59 322.24 320.20 318.48 317.94\n",
       "1967 322.17 322.34 322.88 324.25 324.83 323.93 322.38 320.76 319.10 319.24\n",
       "1968 322.40 322.99 323.73 324.86 325.40 325.20 323.98 321.95 320.18 320.09\n",
       "1969 323.83 324.26 325.47 326.50 327.21 326.54 325.72 323.50 322.22 321.62\n",
       "1970 324.89 325.82 326.77 327.97 327.91 327.50 326.18 324.53 322.93 322.90\n",
       "1971 326.01 326.51 327.01 327.62 328.76 328.40 327.20 325.27 323.20 323.40\n",
       "1972 326.60 327.47 327.58 329.56 329.90 328.92 327.88 326.16 324.68 325.04\n",
       "1973 328.37 329.40 330.14 331.33 332.31 331.90 330.70 329.15 327.35 327.02\n",
       "1974 329.18 330.55 331.32 332.48 332.92 332.08 331.01 329.23 327.27 327.21\n",
       "1975 330.23 331.25 331.87 333.14 333.80 333.43 331.73 329.90 328.40 328.17\n",
       "1976 331.58 332.39 333.33 334.41 334.71 334.17 332.89 330.77 329.14 328.78\n",
       "1977 332.75 333.24 334.53 335.90 336.57 336.10 334.76 332.59 331.42 330.98\n",
       "1978 334.80 335.22 336.47 337.59 337.84 337.72 336.37 334.51 332.60 332.38\n",
       "1979 336.05 336.59 337.79 338.71 339.30 339.12 337.56 335.92 333.75 333.70\n",
       "1980 337.84 338.19 339.91 340.60 341.29 341.00 339.39 337.43 335.72 335.84\n",
       "1981 339.06 340.30 341.21 342.33 342.74 342.08 340.32 338.26 336.52 336.68\n",
       "1982 340.57 341.44 342.53 343.39 343.96 343.18 341.88 339.65 337.81 337.69\n",
       "1983 341.20 342.35 342.93 344.77 345.58 345.14 343.81 342.21 339.69 339.82\n",
       "1984 343.52 344.33 345.11 346.88 347.25 346.62 345.22 343.11 340.90 341.18\n",
       "1985 344.79 345.82 347.25 348.17 348.74 348.07 346.38 344.51 342.92 342.62\n",
       "1986 346.11 346.78 347.68 349.37 350.03 349.37 347.76 345.73 344.68 343.99\n",
       "1987 347.84 348.29 349.23 350.80 351.66 351.07 349.33 347.92 346.27 346.18\n",
       "1988 350.25 351.54 352.05 353.41 354.04 353.62 352.22 350.27 348.55 348.72\n",
       "1989 352.60 352.92 353.53 355.26 355.52 354.97 353.75 351.52 349.64 349.83\n",
       "1990 353.50 354.55 355.23 356.04 357.00 356.07 354.67 352.76 350.82 351.04\n",
       "1991 354.59 355.63 357.03 358.48 359.22 358.12 356.06 353.92 352.05 352.11\n",
       "1992 355.88 356.63 357.72 359.07 359.58 359.17 356.94 354.92 352.94 353.23\n",
       "1993 356.63 357.10 358.32 359.41 360.23 359.55 357.53 355.48 353.67 353.95\n",
       "1994 358.34 358.89 359.95 361.25 361.67 360.94 359.55 357.49 355.84 356.00\n",
       "1995 359.98 361.03 361.66 363.48 363.82 363.30 361.94 359.50 358.11 357.80\n",
       "1996 362.09 363.29 364.06 364.76 365.45 365.01 363.70 361.54 359.51 359.65\n",
       "1997 363.23 364.06 364.61 366.40 366.84 365.68 364.52 362.57 360.24 360.83\n",
       "        Nov    Dec\n",
       "1959 314.66 315.43\n",
       "1960 314.84 316.03\n",
       "1961 315.94 316.85\n",
       "1962 316.53 317.53\n",
       "1963 316.91 318.20\n",
       "1964 317.53 318.55\n",
       "1965 318.70 319.25\n",
       "1966 319.63 320.87\n",
       "1967 320.56 321.80\n",
       "1968 321.16 322.74\n",
       "1969 322.69 323.95\n",
       "1970 323.85 324.96\n",
       "1971 324.63 325.85\n",
       "1972 326.34 327.39\n",
       "1973 327.99 328.48\n",
       "1974 328.29 329.41\n",
       "1975 329.32 330.59\n",
       "1976 330.14 331.52\n",
       "1977 332.24 333.68\n",
       "1978 333.75 334.78\n",
       "1979 335.12 336.56\n",
       "1980 336.93 338.04\n",
       "1981 338.19 339.44\n",
       "1982 339.09 340.32\n",
       "1983 340.98 342.82\n",
       "1984 342.80 344.04\n",
       "1985 344.06 345.38\n",
       "1986 345.48 346.72\n",
       "1987 347.64 348.78\n",
       "1988 349.91 351.18\n",
       "1989 351.14 352.37\n",
       "1990 352.69 354.07\n",
       "1991 353.64 354.89\n",
       "1992 354.09 355.33\n",
       "1993 355.30 356.78\n",
       "1994 357.59 359.05\n",
       "1995 359.61 360.74\n",
       "1996 360.80 362.38\n",
       "1997 362.49 364.34"
      ]
     },
     "execution_count": 44,
     "metadata": {},
     "output_type": "execute_result"
    }
   ],
   "source": [
    "co2  #don't need to import built-in dataset "
   ]
  },
  {
   "cell_type": "markdown",
   "metadata": {
    "deletable": true,
    "editable": true
   },
   "source": [
    "### Reading Text Files into R"
   ]
  },
  {
   "cell_type": "markdown",
   "metadata": {
    "deletable": true,
    "editable": true
   },
   "source": [
    "<li>To read text files into R using ***readLines( )*** statement.</li><br> ***Note: *** *The \"text\" variable receives a character vector, containing one item for each of the lines in the file. Keep in mind that a \"line\" is not the same thing as a sentence. Instead, lines are broken up by individual line breaks, which essentially form new paragraphs.*"
   ]
  },
  {
   "cell_type": "code",
   "execution_count": 47,
   "metadata": {
    "collapsed": false,
    "deletable": true,
    "editable": true
   },
   "outputs": [
    {
     "data": {
      "text/plain": [
       "[1] \"The Artist is a 2011 French romantic comedy-drama in the style of a black-and-white silent film. It was written, directed, and co-edited by Michel Hazanavicius, produced by Thomas Langmann and starred Jean Dujardin and Bérénice Bejo. The story takes place in Hollywood, between 1927 and 1932, and focuses on the relationship of an older silent film star and a rising young actress as silent cinema falls out of fashion and is replaced by the talkies.\"                                                                                                                                                          \n",
       "[2] \"\"                                                                                                                                                                                                                                                                                                                                                                                                                                                                                                                                                                                                                            \n",
       "[3] \"The Artist received highly positive reviews from critics and won many accolades. Dujardin won the Best Actor Award at the 2011 Cannes Film Festival, where the film premiered. The film was nominated for six Golden Globes, the most of any 2011 film, and won three: Best Motion Picture – Musical or Comedy, Best Original Score, and Best Actor – Motion Picture Musical or Comedy for Dujardin. In January 2012, the film was nominated for twelve BAFTAs, the most of any film from 2011 and won seven, including Best Film, Best Director and Best Original Screenplay for Hazanavicius, and Best Actor for Dujardin.\"\n",
       "[4] \"\"                                                                                                                                                                                                                                                                                                                                                                                                                                                                                                                                                                                                                            \n",
       "[5] \"\"                                                                                                                                                                                                                                                                                                                                                                                                                                                                                                                                                                                                                            "
      ]
     },
     "execution_count": 47,
     "metadata": {},
     "output_type": "execute_result"
    }
   ],
   "source": [
    "text <- readLines(\"/resources/The_Artist.txt\")\n",
    "text"
   ]
  },
  {
   "cell_type": "code",
   "execution_count": 50,
   "metadata": {
    "collapsed": false,
    "deletable": true,
    "editable": true
   },
   "outputs": [
    {
     "data": {
      "text/plain": [
       "[1] 5"
      ]
     },
     "execution_count": 50,
     "metadata": {},
     "output_type": "execute_result"
    }
   ],
   "source": [
    "length(text)\n",
    "# count up the number of elements in the vector."
   ]
  },
  {
   "cell_type": "code",
   "execution_count": 51,
   "metadata": {
    "collapsed": false,
    "deletable": true,
    "editable": true
   },
   "outputs": [
    {
     "data": {
      "text/plain": [
       "[1] 450   0 604   0   0"
      ]
     },
     "execution_count": 51,
     "metadata": {},
     "output_type": "execute_result"
    }
   ],
   "source": [
    "nchar(text) \n",
    "# count up the number of characters in each line of our character vector."
   ]
  },
  {
   "cell_type": "code",
   "execution_count": 53,
   "metadata": {
    "collapsed": false,
    "deletable": true,
    "editable": true
   },
   "outputs": [
    {
     "data": {
      "text/plain": [
       "[1] 1065"
      ]
     },
     "execution_count": 53,
     "metadata": {},
     "output_type": "execute_result"
    }
   ],
   "source": [
    "file.size(\"/resources/The_Artist.txt\")\n",
    "# the file size in bytes"
   ]
  },
  {
   "cell_type": "markdown",
   "metadata": {
    "deletable": true,
    "editable": true
   },
   "source": [
    "<li>To read text files into R using ***scan( )*** function </li><br>\n",
    "***Note: *** *The \"scan\" function can read a text file by word, rather than by line. Again, the first argument is simply a file path. And the second argument is an empty string, which is used to avoid an error.* **Why?**"
   ]
  },
  {
   "cell_type": "code",
   "execution_count": 56,
   "metadata": {
    "collapsed": false,
    "deletable": true,
    "editable": true
   },
   "outputs": [
    {
     "data": {
      "text/plain": [
       "  [1] \"The\"             \"Artist\"          \"is\"              \"a\"              \n",
       "  [5] \"2011\"            \"French\"          \"romantic\"        \"comedy-drama\"   \n",
       "  [9] \"in\"              \"the\"             \"style\"           \"of\"             \n",
       " [13] \"a\"               \"black-and-white\" \"silent\"          \"film.\"          \n",
       " [17] \"It\"              \"was\"             \"written,\"        \"directed,\"      \n",
       " [21] \"and\"             \"co-edited\"       \"by\"              \"Michel\"         \n",
       " [25] \"Hazanavicius,\"   \"produced\"        \"by\"              \"Thomas\"         \n",
       " [29] \"Langmann\"        \"and\"             \"starred\"         \"Jean\"           \n",
       " [33] \"Dujardin\"        \"and\"             \"Bérénice\"        \"Bejo.\"          \n",
       " [37] \"The\"             \"story\"           \"takes\"           \"place\"          \n",
       " [41] \"in\"              \"Hollywood,\"      \"between\"         \"1927\"           \n",
       " [45] \"and\"             \"1932,\"           \"and\"             \"focuses\"        \n",
       " [49] \"on\"              \"the\"             \"relationship\"    \"of\"             \n",
       " [53] \"an\"              \"older\"           \"silent\"          \"film\"           \n",
       " [57] \"star\"            \"and\"             \"a\"               \"rising\"         \n",
       " [61] \"young\"           \"actress\"         \"as\"              \"silent\"         \n",
       " [65] \"cinema\"          \"falls\"           \"out\"             \"of\"             \n",
       " [69] \"fashion\"         \"and\"             \"is\"              \"replaced\"       \n",
       " [73] \"by\"              \"the\"             \"talkies.\"        \"The\"            \n",
       " [77] \"Artist\"          \"received\"        \"highly\"          \"positive\"       \n",
       " [81] \"reviews\"         \"from\"            \"critics\"         \"and\"            \n",
       " [85] \"won\"             \"many\"            \"accolades.\"      \"Dujardin\"       \n",
       " [89] \"won\"             \"the\"             \"Best\"            \"Actor\"          \n",
       " [93] \"Award\"           \"at\"              \"the\"             \"2011\"           \n",
       " [97] \"Cannes\"          \"Film\"            \"Festival,\"       \"where\"          \n",
       "[101] \"the\"             \"film\"            \"premiered.\"      \"The\"            \n",
       "[105] \"film\"            \"was\"             \"nominated\"       \"for\"            \n",
       "[109] \"six\"             \"Golden\"          \"Globes,\"         \"the\"            \n",
       "[113] \"most\"            \"of\"              \"any\"             \"2011\"           \n",
       "[117] \"film,\"           \"and\"             \"won\"             \"three:\"         \n",
       "[121] \"Best\"            \"Motion\"          \"Picture\"         \"–\"              \n",
       "[125] \"Musical\"         \"or\"              \"Comedy,\"         \"Best\"           \n",
       "[129] \"Original\"        \"Score,\"          \"and\"             \"Best\"           \n",
       "[133] \"Actor\"           \"–\"               \"Motion\"          \"Picture\"        \n",
       "[137] \"Musical\"         \"or\"              \"Comedy\"          \"for\"            \n",
       "[141] \"Dujardin.\"       \"In\"              \"January\"         \"2012,\"          \n",
       "[145] \"the\"             \"film\"            \"was\"             \"nominated\"      \n",
       "[149] \"for\"             \"twelve\"          \"BAFTAs,\"         \"the\"            \n",
       "[153] \"most\"            \"of\"              \"any\"             \"film\"           \n",
       "[157] \"from\"            \"2011\"            \"and\"             \"won\"            \n",
       "[161] \"seven,\"          \"including\"       \"Best\"            \"Film,\"          \n",
       "[165] \"Best\"            \"Director\"        \"and\"             \"Best\"           \n",
       "[169] \"Original\"        \"Screenplay\"      \"for\"             \"Hazanavicius,\"  \n",
       "[173] \"and\"             \"Best\"            \"Actor\"           \"for\"            \n",
       "[177] \"Dujardin.\"      "
      ]
     },
     "execution_count": 56,
     "metadata": {},
     "output_type": "execute_result"
    }
   ],
   "source": [
    "text <- scan(\"/resources/The_Artist.txt\", \"\")\n",
    "text"
   ]
  },
  {
   "cell_type": "markdown",
   "metadata": {
    "deletable": true,
    "editable": true
   },
   "source": [
    "### Writing and Saving to Files in R"
   ]
  },
  {
   "cell_type": "markdown",
   "metadata": {
    "deletable": true,
    "editable": true
   },
   "source": [
    "<li> To export file as a text file using ***write( )*** function.</li>\n",
    "<li> To export file as a csv file using ***write.csv( )*** function.</li>\n",
    "<li> To export file as a excel file using ***write.xlsx( )*** function.</li>\n",
    "<li> To R objects in .RData files using ***save( )*** function.</li>\n",
    "<br>\n",
    "***Note:*** *Save data frames into an excel file need to rely on an external package, like the \"xlsx\" package here. Run the \"install.packages\" function first. The \"library\" function will load the package into the R environment so that it can be used.*\n",
    "\n"
   ]
  },
  {
   "cell_type": "code",
   "execution_count": 58,
   "metadata": {
    "collapsed": false,
    "deletable": true,
    "editable": true
   },
   "outputs": [
    {
     "data": {
      "text/plain": [
       "     [,1] [,2] [,3]\n",
       "[1,]    1    3    5\n",
       "[2,]    2    4    6"
      ]
     },
     "execution_count": 58,
     "metadata": {},
     "output_type": "execute_result"
    }
   ],
   "source": [
    "m <- matrix(c(1,2,3,4,5,6), nrow=2, ncol=3)\n",
    "m"
   ]
  },
  {
   "cell_type": "code",
   "execution_count": 66,
   "metadata": {
    "collapsed": true,
    "deletable": true,
    "editable": true
   },
   "outputs": [],
   "source": [
    "write(m, file=\"/resources/matrix_as_text.text\", ncolumns = 3, sep=\" \") \n",
    "# export as a text file"
   ]
  },
  {
   "cell_type": "code",
   "execution_count": 64,
   "metadata": {
    "collapsed": false,
    "deletable": true,
    "editable": true
   },
   "outputs": [],
   "source": [
    "write.csv(m, file=\"/resources/dataset_1.csv\", row.names = FALSE)\n",
    "# export as a csv file"
   ]
  },
  {
   "cell_type": "code",
   "execution_count": 65,
   "metadata": {
    "collapsed": false,
    "deletable": true,
    "editable": true
   },
   "outputs": [],
   "source": [
    "write.table(m, file=\"/resources/dataset_2.csv\", row.names = FALSE, col.names = FALSE, sep = \",\")\n",
    "# ?"
   ]
  },
  {
   "cell_type": "code",
   "execution_count": 67,
   "metadata": {
    "collapsed": false,
    "deletable": true,
    "editable": true
   },
   "outputs": [
    {
     "name": "stderr",
     "output_type": "stream",
     "text": [
      "Installing package into ‘/resources/common/R/Library’\n",
      "(as ‘lib’ is unspecified)\n",
      "also installing the dependency ‘xlsxjars’\n",
      "\n",
      "Loading required package: rJava\n",
      "Loading required package: xlsxjars\n"
     ]
    }
   ],
   "source": [
    "install.packages(\"xlsx\")\n",
    "library(xlsx)"
   ]
  },
  {
   "cell_type": "code",
   "execution_count": 72,
   "metadata": {
    "collapsed": true,
    "deletable": true,
    "editable": true
   },
   "outputs": [],
   "source": [
    "write.xlsx(m, file=\"/resources/dataset_3.xlsx\", sheetName=\"Sheet1\", col.names = TRUE, row.names = FALSE)"
   ]
  },
  {
   "cell_type": "code",
   "execution_count": 71,
   "metadata": {
    "collapsed": false,
    "deletable": true,
    "editable": true
   },
   "outputs": [],
   "source": [
    "save(m, file = \"/resources/vars.RData\", safe = T)"
   ]
  },
  {
   "cell_type": "markdown",
   "metadata": {
    "deletable": true,
    "editable": true
   },
   "source": [
    "<hr>\n",
    "## Module 5 - Strings and Dates in R"
   ]
  },
  {
   "cell_type": "markdown",
   "metadata": {
    "collapsed": true,
    "deletable": true,
    "editable": true
   },
   "source": [
    "### String Operations in R"
   ]
  },
  {
   "cell_type": "code",
   "execution_count": 74,
   "metadata": {
    "collapsed": false,
    "deletable": true,
    "editable": true
   },
   "outputs": [
    {
     "data": {
      "text/plain": [
       "[1] \"The Artist is a 2011 French romantic comedy-drama in the style of a black-and-white silent film. It was written, directed, and co-edited by Michel Hazanavicius, produced by Thomas Langmann and starred Jean Dujardin and Bérénice Bejo. The story takes place in Hollywood, between 1927 and 1932, and focuses on the relationship of an older silent film star and a rising young actress as silent cinema falls out of fashion and is replaced by the talkies.\"                                                                                                                                                          \n",
       "[2] \"\"                                                                                                                                                                                                                                                                                                                                                                                                                                                                                                                                                                                                                            \n",
       "[3] \"The Artist received highly positive reviews from critics and won many accolades. Dujardin won the Best Actor Award at the 2011 Cannes Film Festival, where the film premiered. The film was nominated for six Golden Globes, the most of any 2011 film, and won three: Best Motion Picture – Musical or Comedy, Best Original Score, and Best Actor – Motion Picture Musical or Comedy for Dujardin. In January 2012, the film was nominated for twelve BAFTAs, the most of any film from 2011 and won seven, including Best Film, Best Director and Best Original Screenplay for Hazanavicius, and Best Actor for Dujardin.\"\n",
       "[4] \"\"                                                                                                                                                                                                                                                                                                                                                                                                                                                                                                                                                                                                                            \n",
       "[5] \"\"                                                                                                                                                                                                                                                                                                                                                                                                                                                                                                                                                                                                                            "
      ]
     },
     "execution_count": 74,
     "metadata": {},
     "output_type": "execute_result"
    }
   ],
   "source": [
    "summary <- readLines(\"/resources/The_Artist.txt\")\n",
    "summary"
   ]
  },
  {
   "cell_type": "code",
   "execution_count": 75,
   "metadata": {
    "collapsed": false,
    "deletable": true,
    "editable": true
   },
   "outputs": [
    {
     "data": {
      "text/plain": [
       "[1] 450"
      ]
     },
     "execution_count": 75,
     "metadata": {},
     "output_type": "execute_result"
    }
   ],
   "source": [
    "#count the number of characters in the first string\n",
    "nchar(summary[1])"
   ]
  },
  {
   "cell_type": "code",
   "execution_count": 76,
   "metadata": {
    "collapsed": false,
    "deletable": true,
    "editable": true
   },
   "outputs": [
    {
     "data": {
      "text/plain": [
       "[1] \"THE ARTIST IS A 2011 FRENCH ROMANTIC COMEDY-DRAMA IN THE STYLE OF A BLACK-AND-WHITE SILENT FILM. IT WAS WRITTEN, DIRECTED, AND CO-EDITED BY MICHEL HAZANAVICIUS, PRODUCED BY THOMAS LANGMANN AND STARRED JEAN DUJARDIN AND BÉRÉNICE BEJO. THE STORY TAKES PLACE IN HOLLYWOOD, BETWEEN 1927 AND 1932, AND FOCUSES ON THE RELATIONSHIP OF AN OLDER SILENT FILM STAR AND A RISING YOUNG ACTRESS AS SILENT CINEMA FALLS OUT OF FASHION AND IS REPLACED BY THE TALKIES.\""
      ]
     },
     "execution_count": 76,
     "metadata": {},
     "output_type": "execute_result"
    }
   ],
   "source": [
    "#convert the character to uppercase\n",
    "toupper(summary[1])"
   ]
  },
  {
   "cell_type": "code",
   "execution_count": 77,
   "metadata": {
    "collapsed": false,
    "deletable": true,
    "editable": true
   },
   "outputs": [
    {
     "data": {
      "text/plain": [
       "[1] \"the artist is a 2011 french romantic comedy-drama in the style of a black-and-white silent film. it was written, directed, and co-edited by michel hazanavicius, produced by thomas langmann and starred jean dujardin and bérénice bejo. the story takes place in hollywood, between 1927 and 1932, and focuses on the relationship of an older silent film star and a rising young actress as silent cinema falls out of fashion and is replaced by the talkies.\""
      ]
     },
     "execution_count": 77,
     "metadata": {},
     "output_type": "execute_result"
    }
   ],
   "source": [
    "#convert the character to lower case\n",
    "tolower(summary[1])"
   ]
  },
  {
   "cell_type": "code",
   "execution_count": 78,
   "metadata": {
    "collapsed": false,
    "deletable": true,
    "editable": true
   },
   "outputs": [
    {
     "data": {
      "text/plain": [
       "[1] \"The-Artist-is-a-2011-French-romantic-comedy-drama-in-the-style-of-a-black-and-white-silent-film.-It-was-written,-directed,-and-co-edited-by-Michel-Hazanavicius,-produced-by-Thomas-Langmann-and-starred-Jean-Dujardin-and-Bérénice-Bejo.-The-story-takes-place-in-Hollywood,-between-1927-and-1932,-and-focuses-on-the-relationship-of-an-older-silent-film-star-and-a-rising-young-actress-as-silent-cinema-falls-out-of-fashion-and-is-replaced-by-the-talkies.\""
      ]
     },
     "execution_count": 78,
     "metadata": {},
     "output_type": "execute_result"
    }
   ],
   "source": [
    "#replace a specific set of characters in string. Replace space with \"-\".\n",
    "chartr(\" \", \"-\", summary[1])"
   ]
  },
  {
   "cell_type": "code",
   "execution_count": 79,
   "metadata": {
    "collapsed": false,
    "deletable": true,
    "editable": true
   },
   "outputs": [
    {
     "data": {
      "text/plain": [
       " [1] \"The\"             \"Artist\"          \"is\"              \"a\"              \n",
       " [5] \"2011\"            \"French\"          \"romantic\"        \"comedy-drama\"   \n",
       " [9] \"in\"              \"the\"             \"style\"           \"of\"             \n",
       "[13] \"a\"               \"black-and-white\" \"silent\"          \"film.\"          \n",
       "[17] \"It\"              \"was\"             \"written,\"        \"directed,\"      \n",
       "[21] \"and\"             \"co-edited\"       \"by\"              \"Michel\"         \n",
       "[25] \"Hazanavicius,\"   \"produced\"        \"by\"              \"Thomas\"         \n",
       "[29] \"Langmann\"        \"and\"             \"starred\"         \"Jean\"           \n",
       "[33] \"Dujardin\"        \"and\"             \"Bérénice\"        \"Bejo.\"          \n",
       "[37] \"The\"             \"story\"           \"takes\"           \"place\"          \n",
       "[41] \"in\"              \"Hollywood,\"      \"between\"         \"1927\"           \n",
       "[45] \"and\"             \"1932,\"           \"and\"             \"focuses\"        \n",
       "[49] \"on\"              \"the\"             \"relationship\"    \"of\"             \n",
       "[53] \"an\"              \"older\"           \"silent\"          \"film\"           \n",
       "[57] \"star\"            \"and\"             \"a\"               \"rising\"         \n",
       "[61] \"young\"           \"actress\"         \"as\"              \"silent\"         \n",
       "[65] \"cinema\"          \"falls\"           \"out\"             \"of\"             \n",
       "[69] \"fashion\"         \"and\"             \"is\"              \"replaced\"       \n",
       "[73] \"by\"              \"the\"             \"talkies.\"       "
      ]
     },
     "execution_count": 79,
     "metadata": {},
     "output_type": "execute_result"
    }
   ],
   "source": [
    "#split the string\n",
    "char_list <- strsplit(summary[1], \" \")\n",
    "word_list <- unlist(char_list)\n",
    "word_list"
   ]
  },
  {
   "cell_type": "code",
   "execution_count": 80,
   "metadata": {
    "collapsed": false,
    "deletable": true,
    "editable": true
   },
   "outputs": [
    {
     "data": {
      "text/plain": [
       " [1] \"1927\"            \"1932,\"           \"2011\"            \"a\"              \n",
       " [5] \"a\"               \"a\"               \"actress\"         \"an\"             \n",
       " [9] \"and\"             \"and\"             \"and\"             \"and\"            \n",
       "[13] \"and\"             \"and\"             \"and\"             \"Artist\"         \n",
       "[17] \"as\"              \"Bejo.\"           \"Bérénice\"        \"between\"        \n",
       "[21] \"black-and-white\" \"by\"              \"by\"              \"by\"             \n",
       "[25] \"cinema\"          \"co-edited\"       \"comedy-drama\"    \"directed,\"      \n",
       "[29] \"Dujardin\"        \"falls\"           \"fashion\"         \"film\"           \n",
       "[33] \"film.\"           \"focuses\"         \"French\"          \"Hazanavicius,\"  \n",
       "[37] \"Hollywood,\"      \"in\"              \"in\"              \"is\"             \n",
       "[41] \"is\"              \"It\"              \"Jean\"            \"Langmann\"       \n",
       "[45] \"Michel\"          \"of\"              \"of\"              \"of\"             \n",
       "[49] \"older\"           \"on\"              \"out\"             \"place\"          \n",
       "[53] \"produced\"        \"relationship\"    \"replaced\"        \"rising\"         \n",
       "[57] \"romantic\"        \"silent\"          \"silent\"          \"silent\"         \n",
       "[61] \"star\"            \"starred\"         \"story\"           \"style\"          \n",
       "[65] \"takes\"           \"talkies.\"        \"the\"             \"the\"            \n",
       "[69] \"the\"             \"The\"             \"The\"             \"Thomas\"         \n",
       "[73] \"was\"             \"written,\"        \"young\"          "
      ]
     },
     "execution_count": 80,
     "metadata": {},
     "output_type": "execute_result"
    }
   ],
   "source": [
    "#sort the list\n",
    "sorted_list <- sort(word_list)\n",
    "sorted_list"
   ]
  },
  {
   "cell_type": "code",
   "execution_count": 81,
   "metadata": {
    "collapsed": false,
    "deletable": true,
    "editable": true
   },
   "outputs": [
    {
     "data": {
      "text/plain": [
       "[1] \"1927 1932, 2011 a a a actress an and and and and and and and Artist as Bejo. Bérénice between black-and-white by by by cinema co-edited comedy-drama directed, Dujardin falls fashion film film. focuses French Hazanavicius, Hollywood, in in is is It Jean Langmann Michel of of of older on out place produced relationship replaced rising romantic silent silent silent star starred story style takes talkies. the the the The The Thomas was written, young\""
      ]
     },
     "execution_count": 81,
     "metadata": {},
     "output_type": "execute_result"
    }
   ],
   "source": [
    "#contatenate the character vector\n",
    "paste(sorted_list, collapse = \" \")"
   ]
  },
  {
   "cell_type": "code",
   "execution_count": 83,
   "metadata": {
    "collapsed": false,
    "deletable": true,
    "editable": true
   },
   "outputs": [
    {
     "data": {
      "text/plain": [
       "[1] \" Artist is a 2011 French romantic comedy-drama \""
      ]
     },
     "execution_count": 83,
     "metadata": {},
     "output_type": "execute_result"
    }
   ],
   "source": [
    "#isolate the specific portion of the string\n",
    "sub_string <- substr(summary[1], start = 4, stop = 50)\n",
    "sub_string"
   ]
  },
  {
   "cell_type": "code",
   "execution_count": 84,
   "metadata": {
    "collapsed": false,
    "deletable": true,
    "editable": true
   },
   "outputs": [
    {
     "data": {
      "text/plain": [
       "[1] \"Artist is a 2011 French romantic comedy-drama\""
      ]
     },
     "execution_count": 84,
     "metadata": {},
     "output_type": "execute_result"
    }
   ],
   "source": [
    "#remove white space from the beginning and end of the string\n",
    "trimws(sub_string)"
   ]
  },
  {
   "cell_type": "code",
   "execution_count": 86,
   "metadata": {
    "collapsed": false,
    "deletable": true,
    "editable": true
   },
   "outputs": [
    {
     "data": {
      "text/plain": [
       "[1] \"talkies.\""
      ]
     },
     "execution_count": 86,
     "metadata": {},
     "output_type": "execute_result"
    }
   ],
   "source": [
    "#count back from the last character\n",
    "library(stringr)  #install the library\n",
    "str_sub(summary[1], -8, -1)  #retrieve the last character in the string"
   ]
  },
  {
   "cell_type": "markdown",
   "metadata": {
    "deletable": true,
    "editable": true
   },
   "source": [
    "### The Date Format in R"
   ]
  },
  {
   "cell_type": "code",
   "execution_count": 88,
   "metadata": {
    "collapsed": false,
    "deletable": true,
    "editable": true
   },
   "outputs": [
    {
     "data": {
      "text/plain": [
       "[1] \"1994-06-27\""
      ]
     },
     "execution_count": 88,
     "metadata": {},
     "output_type": "execute_result"
    }
   ],
   "source": [
    "#Date String Formatting\n",
    "as.Date(\"27/06/94\",\"%d/%m/%y\")"
   ]
  },
  {
   "cell_type": "code",
   "execution_count": 89,
   "metadata": {
    "collapsed": false,
    "deletable": true,
    "editable": true
   },
   "outputs": [
    {
     "data": {
      "text/plain": [
       "Time difference of 12961 days"
      ]
     },
     "execution_count": 89,
     "metadata": {},
     "output_type": "execute_result"
    }
   ],
   "source": [
    "#Caluculate the number of days between two dates\n",
    "as.Date(\"1994/06/27\") - as.Date(\"1959/01/01\")"
   ]
  },
  {
   "cell_type": "code",
   "execution_count": 90,
   "metadata": {
    "collapsed": false,
    "deletable": true,
    "editable": true
   },
   "outputs": [
    {
     "data": {
      "text/plain": [
       "[1] TRUE"
      ]
     },
     "execution_count": 90,
     "metadata": {},
     "output_type": "execute_result"
    }
   ],
   "source": [
    "# compare two dates\n",
    "as.Date(\"1994/06/27\") > as.Date(\"1959/01/01\")"
   ]
  },
  {
   "cell_type": "code",
   "execution_count": 91,
   "metadata": {
    "collapsed": false,
    "deletable": true,
    "editable": true
   },
   "outputs": [
    {
     "data": {
      "text/plain": [
       "[1] \"1994-06-13\""
      ]
     },
     "execution_count": 91,
     "metadata": {},
     "output_type": "execute_result"
    }
   ],
   "source": [
    "# subtract the number of days\n",
    "as.Date(\"1994/06/27\") - 14"
   ]
  },
  {
   "cell_type": "code",
   "execution_count": 92,
   "metadata": {
    "collapsed": false,
    "deletable": true,
    "editable": true
   },
   "outputs": [
    {
     "data": {
      "text/plain": [
       "[1] \"2017-02-25\""
      ]
     },
     "execution_count": 92,
     "metadata": {},
     "output_type": "execute_result"
    }
   ],
   "source": [
    "# show the current date in the system\n",
    "Sys.Date()"
   ]
  },
  {
   "cell_type": "code",
   "execution_count": 93,
   "metadata": {
    "collapsed": false,
    "deletable": true,
    "editable": true
   },
   "outputs": [
    {
     "data": {
      "text/plain": [
       "[1] \"Sat Feb 25 14:12:45 2017\""
      ]
     },
     "execution_count": 93,
     "metadata": {},
     "output_type": "execute_result"
    }
   ],
   "source": [
    "# show the current date with details\n",
    "date()"
   ]
  },
  {
   "cell_type": "code",
   "execution_count": 95,
   "metadata": {
    "collapsed": false,
    "deletable": true,
    "editable": true
   },
   "outputs": [
    {
     "data": {
      "text/plain": [
       "[1] \"2017-02-25 14:13:05 UTC\""
      ]
     },
     "execution_count": 95,
     "metadata": {},
     "output_type": "execute_result"
    }
   ],
   "source": [
    "# show the timestamp\n",
    "Sys.time()"
   ]
  },
  {
   "cell_type": "code",
   "execution_count": 96,
   "metadata": {
    "collapsed": false,
    "deletable": true,
    "editable": true
   },
   "outputs": [
    {
     "data": {
      "text/plain": [
       "[1] \"Saturday\""
      ]
     },
     "execution_count": 96,
     "metadata": {},
     "output_type": "execute_result"
    },
    {
     "data": {
      "text/plain": [
       "[1] \"February\""
      ]
     },
     "execution_count": 96,
     "metadata": {},
     "output_type": "execute_result"
    },
    {
     "data": {
      "text/plain": [
       "[1] \"Q1\""
      ]
     },
     "execution_count": 96,
     "metadata": {},
     "output_type": "execute_result"
    }
   ],
   "source": [
    "# show the weekdays/months/quarters\n",
    "weekdays(Sys.Date())\n",
    "months(Sys.Date())\n",
    "quarters(Sys.Date())"
   ]
  },
  {
   "cell_type": "code",
   "execution_count": 97,
   "metadata": {
    "collapsed": false,
    "deletable": true,
    "editable": true
   },
   "outputs": [
    {
     "data": {
      "text/plain": [
       "[1] 17222\n",
       "attr(,\"origin\")\n",
       "[1] \"1970-01-01\""
      ]
     },
     "execution_count": 97,
     "metadata": {},
     "output_type": "execute_result"
    }
   ],
   "source": [
    "# convert the date to a julian format\n",
    "julian(Sys.Date())"
   ]
  },
  {
   "cell_type": "code",
   "execution_count": 98,
   "metadata": {
    "collapsed": false,
    "deletable": true,
    "editable": true
   },
   "outputs": [
    {
     "data": {
      "text/plain": [
       "[1] \"2017-02-25\" \"2017-03-25\" \"2017-04-25\" \"2017-05-25\""
      ]
     },
     "execution_count": 98,
     "metadata": {},
     "output_type": "execute_result"
    }
   ],
   "source": [
    "# create a sequence of date based on some reference points and length\n",
    "seq(Sys.Date(), by=\"month\", length.out=4)"
   ]
  },
  {
   "cell_type": "markdown",
   "metadata": {
    "deletable": true,
    "editable": true
   },
   "source": [
    "### Regular Expression in R\n",
    "A regular expression, regex or regexp is, in theoretical computer science and formal language theory, a sequence of characters that define a search pattern. Regular expressions are used to match patterns in strings and text."
   ]
  },
  {
   "cell_type": "code",
   "execution_count": 99,
   "metadata": {
    "collapsed": false,
    "deletable": true,
    "editable": true
   },
   "outputs": [
    {
     "data": {
      "text/plain": [
       "          Name              Email\n",
       "1     John Doe   doej@example.com\n",
       "2     Jane Doe    jadoe@sample.ca\n",
       "3    Mark Mann   mmann@example.ca\n",
       "4  Barry Goode bgoode@example.com\n",
       "5     Joe Star    joes@sample.com\n",
       "6  Susan Quinn    qsus@example.br\n",
       "7   Alice Erin  erina@example.com\n",
       "8 Frank Irving  irving@sample.com"
      ]
     },
     "execution_count": 99,
     "metadata": {},
     "output_type": "execute_result"
    }
   ],
   "source": [
    "# load a csv file for demonstration\n",
    "email <- read.csv(\"/resources/email_list.csv\")\n",
    "email"
   ]
  },
  {
   "cell_type": "code",
   "execution_count": 100,
   "metadata": {
    "collapsed": false,
    "deletable": true,
    "editable": true
   },
   "outputs": [
    {
     "data": {
      "text/plain": [
       "[1] 1 3"
      ]
     },
     "execution_count": 100,
     "metadata": {},
     "output_type": "execute_result"
    }
   ],
   "source": [
    "# extract the index of elements that matches the pattern \"@.*\"\n",
    "grep(\"@.*\", c(\"test@testing.com\", \"not an email\", \"test2@testing.com\"))"
   ]
  },
  {
   "cell_type": "code",
   "execution_count": 102,
   "metadata": {
    "collapsed": false,
    "deletable": true,
    "editable": true
   },
   "outputs": [
    {
     "data": {
      "text/plain": [
       "[1] \"test@testing.com\"  \"test2@testing.com\""
      ]
     },
     "execution_count": 102,
     "metadata": {},
     "output_type": "execute_result"
    }
   ],
   "source": [
    "# extract the elements that matches the pattern \"@.*\"\n",
    "grep(\"@.*\", c(\"test@testing.com\", \"not an email\", \"test2@testing.com\"), value = TRUE)"
   ]
  },
  {
   "cell_type": "code",
   "execution_count": 105,
   "metadata": {
    "collapsed": false,
    "deletable": true,
    "editable": true
   },
   "outputs": [
    {
     "data": {
      "text/plain": [
       "[1] \"test@newdomain.com\"  \"not an email\"        \"test2@newdomain.com\""
      ]
     },
     "execution_count": 105,
     "metadata": {},
     "output_type": "execute_result"
    }
   ],
   "source": [
    "# substitute strings found by the regular expression \n",
    "# The second argument serves as the replacement string.\n",
    "gsub(\"@.*\", \"@newdomain.com\", c(\"test@testing.com\", \"not an email\", \"test2@testing.com\"))"
   ]
  },
  {
   "cell_type": "code",
   "execution_count": 106,
   "metadata": {
    "collapsed": false,
    "deletable": true,
    "editable": true
   },
   "outputs": [
    {
     "data": {
      "text/plain": [
       "[1] \"@testing.com\" \"@testing.com\""
      ]
     },
     "execution_count": 106,
     "metadata": {},
     "output_type": "execute_result"
    }
   ],
   "source": [
    "# extract the matched strings use the \"regexpr\" function\n",
    "# which is like a more detailed \"grep\" that will find the matching substrings.\n",
    "matches <- regexpr(\"@.*\", c(\"test@testing.com\", \"not an email\", \"test2@testing.com\"))\n",
    "regmatches(c(\"test@testing.com\", \"not an email\", \"test2@testing.com\"), matches)"
   ]
  },
  {
   "cell_type": "markdown",
   "metadata": {
    "deletable": true,
    "editable": true
   },
   "source": [
    "To address the problem in the email dateset."
   ]
  },
  {
   "cell_type": "code",
   "execution_count": 109,
   "metadata": {
    "collapsed": false,
    "deletable": true,
    "editable": true
   },
   "outputs": [
    {
     "data": {
      "text/plain": [
       "          Name              Email    Domain\n",
       "1     John Doe   doej@example.com @example.\n",
       "2     Jane Doe    jadoe@sample.ca  @sample.\n",
       "3    Mark Mann   mmann@example.ca @example.\n",
       "4  Barry Goode bgoode@example.com @example.\n",
       "5     Joe Star    joes@sample.com  @sample.\n",
       "6  Susan Quinn    qsus@example.br @example.\n",
       "7   Alice Erin  erina@example.com @example.\n",
       "8 Frank Irving  irving@sample.com  @sample."
      ]
     },
     "execution_count": 109,
     "metadata": {},
     "output_type": "execute_result"
    }
   ],
   "source": [
    "# extract the pattern in the email address\n",
    "matches <- regexpr(\"@.*\\\\.\", email[,'Email'])\n",
    "# add the pattern to a new column\n",
    "email[, \"Domain\"] = regmatches(email[, 'Email'], matches)\n",
    "email"
   ]
  },
  {
   "cell_type": "markdown",
   "metadata": {
    "deletable": true,
    "editable": true
   },
   "source": [
    "**Regular Expression Applications**\n",
    "<li> Data Extraction </li>\n",
    "<li> Data Cleaning </li>\n",
    "<li> Data Analysis </li>\n",
    "<li> Data Validation </li>\n",
    "<li> Text Mining </li>\n",
    "<li> Parsing </li>\n",
    "\n",
    "A regular expression may be followed by one of several repetition quantifiers:\n",
    "\n",
    "?\n",
    "The preceding item is optional and will be matched at most once.\n",
    "\n",
    "*\n",
    "The preceding item will be matched zero or more times.\n",
    "\n",
    "+\n",
    "The preceding item will be matched one or more times.\n",
    "\n",
    "{n}\n",
    "The preceding item is matched exactly n times.\n",
    "\n",
    "{n,}\n",
    "The preceding item is matched n or more times.\n",
    "\n",
    "{n,m}\n",
    "The preceding item is matched at least n times, but not more than m times."
   ]
  },
  {
   "cell_type": "markdown",
   "metadata": {
    "deletable": true,
    "editable": true
   },
   "source": [
    "<hr>\n",
    "### About the Author:  \n",
    "This is Yimeng's study note on the BDU course R101. \n",
    "\n",
    "**Study Period: Feburary 24th-25th, 2017**\n",
    "\n",
    "<hr>\n",
    "Copyright &copy; 2017"
   ]
  }
 ],
 "metadata": {
  "kernelspec": {
   "display_name": "R",
   "language": "R",
   "name": "ir"
  },
  "language_info": {
   "codemirror_mode": "r",
   "file_extension": ".r",
   "mimetype": "text/x-r-source",
   "name": "R",
   "pygments_lexer": "r",
   "version": "3.3.2"
  },
  "widgets": {
   "state": {},
   "version": "1.1.2"
  }
 },
 "nbformat": 4,
 "nbformat_minor": 0
}
